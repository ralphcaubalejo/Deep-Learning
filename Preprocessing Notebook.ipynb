{
 "cells": [
  {
   "cell_type": "markdown",
   "metadata": {},
   "source": [
    "# Using the Pre-Trained Models"
   ]
  },
  {
   "cell_type": "markdown",
   "metadata": {},
   "source": [
    "Libraries Used"
   ]
  },
  {
   "cell_type": "code",
   "execution_count": 10,
   "metadata": {
    "ExecuteTime": {
     "end_time": "2021-01-03T10:50:49.198535Z",
     "start_time": "2021-01-03T10:50:49.191520Z"
    }
   },
   "outputs": [
    {
     "name": "stdout",
     "output_type": "stream",
     "text": [
      "cuda:0\n"
     ]
    }
   ],
   "source": [
    "import warnings\n",
    "warnings.filterwarnings('ignore', category=FutureWarning)\n",
    "warnings.filterwarnings('ignore', category=RuntimeWarning)\n",
    "warnings.filterwarnings('ignore', category=UserWarning)\n",
    "import pandas as pd\n",
    "import numpy as np\n",
    "\n",
    "import torch\n",
    "import torchvision.transforms as transforms\n",
    "from PIL import Image\n",
    "from torchvision import models\n",
    "from torch.utils.data import Dataset, DataLoader\n",
    "from torch.optim import Adam, SGD,RMSprop\n",
    "\n",
    "from skimage.io import imread,imshow\n",
    "from skimage.transform import rotate\n",
    "from tqdm import tqdm\n",
    "import matplotlib.pyplot as plt\n",
    "from tensorflow.keras.utils import to_categorical\n",
    "from sklearn.metrics import accuracy_score\n",
    "from sklearn.model_selection import train_test_split\n",
    "\n",
    "device = torch.device(\"cuda:0\" if torch.cuda.is_available() else \"cpu\")\n",
    "print(device)"
   ]
  },
  {
   "cell_type": "code",
   "execution_count": 11,
   "metadata": {
    "ExecuteTime": {
     "end_time": "2021-01-03T10:50:52.079355Z",
     "start_time": "2021-01-03T10:50:52.066389Z"
    }
   },
   "outputs": [],
   "source": [
    "df = pd.read_csv('target.csv').drop('Unnamed: 0',axis=1).set_index('names')\n",
    "import glob\n",
    "lista = []\n",
    "names = glob.glob('finalimages/*.jpg')\n",
    "for x in names:\n",
    "    str1 = x.split('\\\\')[1]\n",
    "    lista.append(int(str1.split('.')[0]))"
   ]
  },
  {
   "cell_type": "code",
   "execution_count": 12,
   "metadata": {
    "ExecuteTime": {
     "end_time": "2021-01-03T10:50:52.781282Z",
     "start_time": "2021-01-03T10:50:52.746212Z"
    }
   },
   "outputs": [
    {
     "data": {
      "text/html": [
       "<div>\n",
       "<style scoped>\n",
       "    .dataframe tbody tr th:only-of-type {\n",
       "        vertical-align: middle;\n",
       "    }\n",
       "\n",
       "    .dataframe tbody tr th {\n",
       "        vertical-align: top;\n",
       "    }\n",
       "\n",
       "    .dataframe thead th {\n",
       "        text-align: right;\n",
       "    }\n",
       "</style>\n",
       "<table border=\"1\" class=\"dataframe\">\n",
       "  <thead>\n",
       "    <tr style=\"text-align: right;\">\n",
       "      <th></th>\n",
       "      <th>Php/Area</th>\n",
       "      <th>Class_2</th>\n",
       "    </tr>\n",
       "    <tr>\n",
       "      <th>names</th>\n",
       "      <th></th>\n",
       "      <th></th>\n",
       "    </tr>\n",
       "  </thead>\n",
       "  <tbody>\n",
       "    <tr>\n",
       "      <th>0</th>\n",
       "      <td>170966.777774</td>\n",
       "      <td>1</td>\n",
       "    </tr>\n",
       "    <tr>\n",
       "      <th>1020</th>\n",
       "      <td>134812.981616</td>\n",
       "      <td>0</td>\n",
       "    </tr>\n",
       "    <tr>\n",
       "      <th>1025</th>\n",
       "      <td>113333.333333</td>\n",
       "      <td>0</td>\n",
       "    </tr>\n",
       "    <tr>\n",
       "      <th>1026</th>\n",
       "      <td>163293.650794</td>\n",
       "      <td>1</td>\n",
       "    </tr>\n",
       "    <tr>\n",
       "      <th>1029</th>\n",
       "      <td>163662.468742</td>\n",
       "      <td>1</td>\n",
       "    </tr>\n",
       "  </tbody>\n",
       "</table>\n",
       "</div>"
      ],
      "text/plain": [
       "            Php/Area  Class_2\n",
       "names                        \n",
       "0      170966.777774        1\n",
       "1020   134812.981616        0\n",
       "1025   113333.333333        0\n",
       "1026   163293.650794        1\n",
       "1029   163662.468742        1"
      ]
     },
     "execution_count": 12,
     "metadata": {},
     "output_type": "execute_result"
    }
   ],
   "source": [
    "df = df.loc[lista]\n",
    "df2 = df[df['Php/Area']>100000]\n",
    "df3 = df2[df2['Php/Area']<200000]\n",
    "df4 = df3.copy()\n",
    "list_2 = []\n",
    "        \n",
    "for x,y in df3.iterrows():\n",
    "    val = y.values[0]\n",
    "    if val>=100000 and val<140000:\n",
    "        list_2.append(0)\n",
    "    elif val>=140000:\n",
    "        list_2.append(1)\n",
    "\n",
    "df4['Class_2'] = list_2\n",
    "df4.head()"
   ]
  },
  {
   "cell_type": "code",
   "execution_count": 13,
   "metadata": {
    "ExecuteTime": {
     "end_time": "2021-01-03T10:50:57.222092Z",
     "start_time": "2021-01-03T10:50:57.217373Z"
    }
   },
   "outputs": [
    {
     "name": "stdout",
     "output_type": "stream",
     "text": [
      "cuda:0\n"
     ]
    }
   ],
   "source": [
    "device = torch.device(\"cuda:0\" if torch.cuda.is_available() else \"cpu\")\n",
    "print(device)"
   ]
  },
  {
   "cell_type": "code",
   "execution_count": 14,
   "metadata": {
    "ExecuteTime": {
     "end_time": "2021-01-03T10:50:58.535691Z",
     "start_time": "2021-01-03T10:50:58.530719Z"
    }
   },
   "outputs": [],
   "source": [
    "df_train, df_test, df_y_train, df_y_test = train_test_split(df4.index, \n",
    "                                                    df4['Class_2'], \n",
    "                                                    test_size=0.20,\n",
    "                                                    stratify=df4['Class_2'],random_state=100)"
   ]
  },
  {
   "cell_type": "code",
   "execution_count": 15,
   "metadata": {
    "ExecuteTime": {
     "end_time": "2021-01-03T10:50:59.057427Z",
     "start_time": "2021-01-03T10:50:59.051132Z"
    }
   },
   "outputs": [
    {
     "data": {
      "text/plain": [
       "1    53\n",
       "0    50\n",
       "Name: Class_2, dtype: int64"
      ]
     },
     "execution_count": 15,
     "metadata": {},
     "output_type": "execute_result"
    }
   ],
   "source": [
    "df5 = df4.loc[df_train]\n",
    "df6 = df4.loc[df_test]\n",
    "df6['Class_2'].value_counts()"
   ]
  },
  {
   "cell_type": "code",
   "execution_count": 16,
   "metadata": {
    "ExecuteTime": {
     "end_time": "2021-01-03T10:51:02.475215Z",
     "start_time": "2021-01-03T10:51:02.466459Z"
    }
   },
   "outputs": [
    {
     "data": {
      "text/html": [
       "<div>\n",
       "<style scoped>\n",
       "    .dataframe tbody tr th:only-of-type {\n",
       "        vertical-align: middle;\n",
       "    }\n",
       "\n",
       "    .dataframe tbody tr th {\n",
       "        vertical-align: top;\n",
       "    }\n",
       "\n",
       "    .dataframe thead th {\n",
       "        text-align: right;\n",
       "    }\n",
       "</style>\n",
       "<table border=\"1\" class=\"dataframe\">\n",
       "  <thead>\n",
       "    <tr style=\"text-align: right;\">\n",
       "      <th></th>\n",
       "      <th>Php/Area</th>\n",
       "      <th>Class_2</th>\n",
       "    </tr>\n",
       "    <tr>\n",
       "      <th>names</th>\n",
       "      <th></th>\n",
       "      <th></th>\n",
       "    </tr>\n",
       "  </thead>\n",
       "  <tbody>\n",
       "    <tr>\n",
       "      <th>3386</th>\n",
       "      <td>119523.809524</td>\n",
       "      <td>0</td>\n",
       "    </tr>\n",
       "    <tr>\n",
       "      <th>2048</th>\n",
       "      <td>107142.857143</td>\n",
       "      <td>0</td>\n",
       "    </tr>\n",
       "    <tr>\n",
       "      <th>2612</th>\n",
       "      <td>186111.111111</td>\n",
       "      <td>1</td>\n",
       "    </tr>\n",
       "    <tr>\n",
       "      <th>1917</th>\n",
       "      <td>103960.396040</td>\n",
       "      <td>0</td>\n",
       "    </tr>\n",
       "    <tr>\n",
       "      <th>2564</th>\n",
       "      <td>194556.451613</td>\n",
       "      <td>1</td>\n",
       "    </tr>\n",
       "    <tr>\n",
       "      <th>...</th>\n",
       "      <td>...</td>\n",
       "      <td>...</td>\n",
       "    </tr>\n",
       "    <tr>\n",
       "      <th>346</th>\n",
       "      <td>199565.972222</td>\n",
       "      <td>1</td>\n",
       "    </tr>\n",
       "    <tr>\n",
       "      <th>1853</th>\n",
       "      <td>107158.195244</td>\n",
       "      <td>0</td>\n",
       "    </tr>\n",
       "    <tr>\n",
       "      <th>2528</th>\n",
       "      <td>115482.151980</td>\n",
       "      <td>0</td>\n",
       "    </tr>\n",
       "    <tr>\n",
       "      <th>5732</th>\n",
       "      <td>155882.352941</td>\n",
       "      <td>1</td>\n",
       "    </tr>\n",
       "    <tr>\n",
       "      <th>3043</th>\n",
       "      <td>114961.229576</td>\n",
       "      <td>0</td>\n",
       "    </tr>\n",
       "  </tbody>\n",
       "</table>\n",
       "<p>412 rows × 2 columns</p>\n",
       "</div>"
      ],
      "text/plain": [
       "            Php/Area  Class_2\n",
       "names                        \n",
       "3386   119523.809524        0\n",
       "2048   107142.857143        0\n",
       "2612   186111.111111        1\n",
       "1917   103960.396040        0\n",
       "2564   194556.451613        1\n",
       "...              ...      ...\n",
       "346    199565.972222        1\n",
       "1853   107158.195244        0\n",
       "2528   115482.151980        0\n",
       "5732   155882.352941        1\n",
       "3043   114961.229576        0\n",
       "\n",
       "[412 rows x 2 columns]"
      ]
     },
     "execution_count": 16,
     "metadata": {},
     "output_type": "execute_result"
    }
   ],
   "source": [
    "df5"
   ]
  },
  {
   "cell_type": "code",
   "execution_count": 17,
   "metadata": {
    "ExecuteTime": {
     "end_time": "2021-01-03T10:51:02.985462Z",
     "start_time": "2021-01-03T10:51:02.971798Z"
    }
   },
   "outputs": [],
   "source": [
    "def prepro(img,num):\n",
    "    \n",
    "    preprocess1 = transforms.Compose([\n",
    "        transforms.Resize(224),\n",
    "        transforms.ToTensor(),\n",
    "        transforms.Normalize(mean=[0.485, 0.456, 0.406], std=[0.229, 0.224, 0.225])])\n",
    "\n",
    "    preprocess2 = transforms.Compose([\n",
    "        transforms.Resize(224),\n",
    "        transforms.RandomHorizontalFlip(0.5),\n",
    "        transforms.ColorJitter(1,2),\n",
    "        transforms.ToTensor(),\n",
    "        transforms.Normalize(mean=[0.485, 0.456, 0.406], std=[0.229, 0.224, 0.225]),\n",
    "        transforms.RandomErasing()])\n",
    "\n",
    "    preprocess3 = transforms.Compose([\n",
    "        transforms.Resize(224),\n",
    "        transforms.RandomPerspective(fill=200),\n",
    "        transforms.ToTensor(),\n",
    "        transforms.Normalize(mean=[0.485, 0.456, 0.406], std=[0.229, 0.224, 0.225]),\n",
    "        transforms.RandomErasing()])\n",
    "    \n",
    "    preprocess4 = transforms.Compose([\n",
    "        transforms.Resize(224),\n",
    "        transforms.RandomAffine(180,shear=30,fillcolor=125),\n",
    "        transforms.ToTensor(),\n",
    "        transforms.Normalize(mean=[0.485, 0.456, 0.406], std=[0.229, 0.224, 0.225]),\n",
    "        transforms.RandomErasing()])\n",
    "    \n",
    "    preprocess5 = transforms.Compose([\n",
    "        transforms.Resize(224),\n",
    "        transforms.RandomAffine(180,shear=30,fillcolor=125),\n",
    "        transforms.RandomPerspective(fill=200),\n",
    "        transforms.RandomHorizontalFlip(0.5),\n",
    "        transforms.ColorJitter(1,2),\n",
    "        transforms.ToTensor(),\n",
    "        transforms.Normalize(mean=[0.485, 0.456, 0.406], std=[0.229, 0.224, 0.225]),\n",
    "        transforms.RandomErasing()])\n",
    "    \n",
    "    preprocess6 = transforms.Compose([\n",
    "        transforms.Resize(224),\n",
    "        transforms.ColorJitter(1,2),\n",
    "        transforms.ToTensor(),\n",
    "        transforms.Normalize(mean=[0.485, 0.456, 0.406], std=[0.229, 0.224, 0.225]),\n",
    "        transforms.RandomErasing()])\n",
    "    \n",
    "    preprocess7 = transforms.Compose([\n",
    "        transforms.Resize(224),\n",
    "        transforms.ToTensor(),\n",
    "        transforms.Normalize(mean=[0.485, 0.456, 0.406], std=[0.229, 0.224, 0.225]),\n",
    "        transforms.RandomErasing()])\n",
    "    \n",
    "    if num==1:\n",
    "        return preprocess1(img)\n",
    "    elif num==2:\n",
    "        return preprocess2(img)\n",
    "    elif num==3:\n",
    "        return preprocess3(img)\n",
    "    elif num==4:\n",
    "        return preprocess4(img)\n",
    "    elif num==5:\n",
    "        return preprocess5(img)\n",
    "    elif num==6:\n",
    "        return preprocess6(img)\n",
    "    elif num==7:\n",
    "        return preprocess7(img)"
   ]
  },
  {
   "cell_type": "markdown",
   "metadata": {},
   "source": [
    "## VGG16"
   ]
  },
  {
   "cell_type": "code",
   "execution_count": 18,
   "metadata": {
    "ExecuteTime": {
     "end_time": "2021-01-03T10:51:13.614664Z",
     "start_time": "2021-01-03T10:51:08.040443Z"
    }
   },
   "outputs": [],
   "source": [
    "model1 = models.vgg16(pretrained=True)\n",
    "model1.to(device)\n",
    "for param in model1.parameters():\n",
    "    param.requires_grad = False"
   ]
  },
  {
   "cell_type": "code",
   "execution_count": 19,
   "metadata": {
    "ExecuteTime": {
     "end_time": "2021-01-03T10:51:13.656346Z",
     "start_time": "2021-01-03T10:51:13.615874Z"
    }
   },
   "outputs": [
    {
     "data": {
      "text/plain": [
       "torch.Size([3, 224, 224])"
      ]
     },
     "execution_count": 19,
     "metadata": {},
     "output_type": "execute_result"
    }
   ],
   "source": [
    "new = prepro(Image.fromarray(imread('images_2/0_0.jpg')),1)\n",
    "new.shape"
   ]
  },
  {
   "cell_type": "code",
   "execution_count": 20,
   "metadata": {
    "ExecuteTime": {
     "end_time": "2021-01-03T10:51:16.956657Z",
     "start_time": "2021-01-03T10:51:13.658200Z"
    }
   },
   "outputs": [
    {
     "data": {
      "text/plain": [
       "torch.Size([1, 512, 7, 7])"
      ]
     },
     "execution_count": 20,
     "metadata": {},
     "output_type": "execute_result"
    }
   ],
   "source": [
    "shape1 = model1.features(new.unsqueeze(0).to(device)).shape\n",
    "shape1"
   ]
  },
  {
   "cell_type": "code",
   "execution_count": 11,
   "metadata": {
    "ExecuteTime": {
     "end_time": "2021-01-02T18:19:35.421151Z",
     "start_time": "2021-01-02T18:19:35.394255Z"
    }
   },
   "outputs": [
    {
     "data": {
      "text/plain": [
       "11907366912"
      ]
     },
     "execution_count": 11,
     "metadata": {},
     "output_type": "execute_result"
    }
   ],
   "source": [
    "final_data_train = np.empty((len(df5)*18*4*4,shape1[1]*shape1[2]*shape1[3]),dtype=np.float32)\n",
    "final_data_train.nbytes"
   ]
  },
  {
   "cell_type": "code",
   "execution_count": 12,
   "metadata": {
    "ExecuteTime": {
     "end_time": "2021-01-02T21:54:31.231229Z",
     "start_time": "2021-01-02T18:20:12.328409Z"
    }
   },
   "outputs": [
    {
     "name": "stderr",
     "output_type": "stream",
     "text": [
      "100%|██████████| 118656/118656 [3:25:27<00:00,  9.63it/s] \n"
     ]
    },
    {
     "name": "stdout",
     "output_type": "stream",
     "text": [
      "Finished\n"
     ]
    }
   ],
   "source": [
    "two = []\n",
    "area = []\n",
    "count = 0\n",
    "\n",
    "headings = ['0','20','40','60','80','100','120','140','160',\n",
    "            '180','200','220','240','260','280','300','320','340']\n",
    "\n",
    "rot = [0,90,180,270]\n",
    "\n",
    "with tqdm(total=len(df5)*18*4*4) as pbar:\n",
    "    for x,y in df5.iterrows():\n",
    "        for ang in headings:\n",
    "            for rota in rot:\n",
    "                for pre in range(1,5):\n",
    "                    aws = (imread('images_2/'+str(x)+'_'+str(ang)+'.jpg'))\n",
    "                    rotated = rotate(aws,rota,preserve_range=True).astype(np.uint8)\n",
    "                    input_image = Image.fromarray(rotated)\n",
    "                    input_tensor = prepro(input_image,pre)\n",
    "                    input_batch = input_tensor.unsqueeze(0) \n",
    "\n",
    "                    features =  model1.features(input_batch.to(device))\n",
    "                    features2 = np.reshape(features.cpu(),(1,shape1[1]*shape1[2]*shape1[3]))\n",
    "\n",
    "                    final_data_train[count,...]=features2.cpu()\n",
    "\n",
    "                    two.append(y['Class_2'])\n",
    "                    area.append(y['Php/Area'])\n",
    "\n",
    "                    count +=1\n",
    "\n",
    "                    pbar.update(1)\n",
    "                    \n",
    "two_a = np.array(two)\n",
    "area_a = np.array(area)\n",
    "np.savez_compressed('vgg16_features_train_b.npz',final_data_train,two_a,area_a)\n",
    "print('Finished')"
   ]
  },
  {
   "cell_type": "code",
   "execution_count": 21,
   "metadata": {
    "ExecuteTime": {
     "end_time": "2021-01-03T10:51:37.417405Z",
     "start_time": "2021-01-03T10:51:37.412410Z"
    }
   },
   "outputs": [
    {
     "data": {
      "text/plain": [
       "186052608"
      ]
     },
     "execution_count": 21,
     "metadata": {},
     "output_type": "execute_result"
    }
   ],
   "source": [
    "final_data_test = np.empty((len(df6)*18,shape1[1]*shape1[2]*shape1[3]),dtype=np.float32)\n",
    "final_data_test.nbytes"
   ]
  },
  {
   "cell_type": "code",
   "execution_count": 22,
   "metadata": {
    "ExecuteTime": {
     "end_time": "2021-01-03T10:55:00.635037Z",
     "start_time": "2021-01-03T10:51:46.184207Z"
    }
   },
   "outputs": [
    {
     "name": "stderr",
     "output_type": "stream",
     "text": [
      "100%|██████████| 1854/1854 [03:11<00:00,  9.67it/s]\n"
     ]
    },
    {
     "name": "stdout",
     "output_type": "stream",
     "text": [
      "Finished\n"
     ]
    }
   ],
   "source": [
    "two_b = []\n",
    "area_b = []\n",
    "count = 0\n",
    "\n",
    "headings = ['0','20','40','60','80','100','120','140','160',\n",
    "            '180','200','220','240','260','280','300','320','340']\n",
    "\n",
    "rot = [0,90,180,270]\n",
    "\n",
    "with tqdm(total=len(df6)*18) as pbar:\n",
    "    for x,y in df6.iterrows():\n",
    "        for ang in headings:\n",
    "            aws = (imread('images_2/'+str(x)+'_'+str(ang)+'.jpg'))\n",
    "            rotated = rotate(aws,0,preserve_range=True).astype(np.uint8)\n",
    "            input_image = Image.fromarray(rotated)\n",
    "            input_tensor = prepro(input_image,1)\n",
    "            input_batch = input_tensor.unsqueeze(0) \n",
    "\n",
    "            features =  model1.features(input_batch.to(device))\n",
    "            features2 = np.reshape(features.cpu(),(1,shape1[1]*shape1[2]*shape1[3]))\n",
    "\n",
    "            final_data_test[count,...]=features2.cpu()\n",
    "\n",
    "            two_b.append(y['Class_2'])\n",
    "            area_b.append(y['Php/Area'])\n",
    "            count +=1\n",
    "\n",
    "            pbar.update(1)\n",
    "two_b = np.array(two_b)\n",
    "area_b = np.array(area_b)\n",
    "np.savez_compressed('vgg16_features_test.npz',final_data_test,two_b,area_b)\n",
    "print('Finished')"
   ]
  },
  {
   "cell_type": "markdown",
   "metadata": {},
   "source": [
    "## VGG19"
   ]
  },
  {
   "cell_type": "code",
   "execution_count": 23,
   "metadata": {
    "ExecuteTime": {
     "end_time": "2021-01-03T10:55:02.366898Z",
     "start_time": "2021-01-03T10:55:00.636056Z"
    }
   },
   "outputs": [],
   "source": [
    "model1 = models.vgg19(pretrained=True)\n",
    "model1.to(device)\n",
    "for param in model1.parameters():\n",
    "    param.requires_grad = False"
   ]
  },
  {
   "cell_type": "code",
   "execution_count": 24,
   "metadata": {
    "ExecuteTime": {
     "end_time": "2021-01-03T10:55:02.383852Z",
     "start_time": "2021-01-03T10:55:02.367895Z"
    }
   },
   "outputs": [
    {
     "data": {
      "text/plain": [
       "torch.Size([3, 224, 224])"
      ]
     },
     "execution_count": 24,
     "metadata": {},
     "output_type": "execute_result"
    }
   ],
   "source": [
    "new = prepro(Image.fromarray(imread('images_2/0_0.jpg')),1)\n",
    "new.shape"
   ]
  },
  {
   "cell_type": "code",
   "execution_count": 25,
   "metadata": {
    "ExecuteTime": {
     "end_time": "2021-01-03T10:55:02.396452Z",
     "start_time": "2021-01-03T10:55:02.385798Z"
    }
   },
   "outputs": [
    {
     "data": {
      "text/plain": [
       "torch.Size([1, 512, 7, 7])"
      ]
     },
     "execution_count": 25,
     "metadata": {},
     "output_type": "execute_result"
    }
   ],
   "source": [
    "shape1 = model1.features(new.unsqueeze(0).to(device)).shape\n",
    "shape1"
   ]
  },
  {
   "cell_type": "code",
   "execution_count": 18,
   "metadata": {
    "ExecuteTime": {
     "end_time": "2021-01-02T21:57:39.896832Z",
     "start_time": "2021-01-02T21:57:38.879354Z"
    }
   },
   "outputs": [
    {
     "data": {
      "text/plain": [
       "11907366912"
      ]
     },
     "execution_count": 18,
     "metadata": {},
     "output_type": "execute_result"
    }
   ],
   "source": [
    "var = 4\n",
    "final_data_train = np.empty((len(df5)*18*4*var,shape1[1]*shape1[2]*shape1[3]),dtype=np.float32)\n",
    "final_data_train.nbytes"
   ]
  },
  {
   "cell_type": "code",
   "execution_count": 20,
   "metadata": {
    "ExecuteTime": {
     "end_time": "2021-01-03T05:15:22.160872Z",
     "start_time": "2021-01-03T01:32:12.747234Z"
    }
   },
   "outputs": [
    {
     "name": "stderr",
     "output_type": "stream",
     "text": [
      "100%|██████████| 118656/118656 [3:33:51<00:00,  9.25it/s] \n"
     ]
    },
    {
     "name": "stdout",
     "output_type": "stream",
     "text": [
      "Finished\n"
     ]
    }
   ],
   "source": [
    "two = []\n",
    "area = []\n",
    "count = 0\n",
    "\n",
    "headings = ['0','20','40','60','80','100','120','140','160',\n",
    "            '180','200','220','240','260','280','300','320','340']\n",
    "\n",
    "rot = [0,90,180,270]\n",
    "\n",
    "with tqdm(total=len(df5)*18*4*var) as pbar:\n",
    "    for x,y in df5.iterrows():\n",
    "        for ang in headings:\n",
    "            for rota in rot:\n",
    "                for pre in range(1,var+1):\n",
    "                    aws = (imread('images_2/'+str(x)+'_'+str(ang)+'.jpg'))\n",
    "                    rotated = rotate(aws,rota,preserve_range=True).astype(np.uint8)\n",
    "                    input_image = Image.fromarray(rotated)\n",
    "                    input_tensor = prepro(input_image,pre)\n",
    "                    input_batch = input_tensor.unsqueeze(0) \n",
    "\n",
    "                    features =  model1.features(input_batch.to(device))\n",
    "                    features2 = np.reshape(features.cpu(),(1,shape1[1]*shape1[2]*shape1[3]))\n",
    "\n",
    "                    final_data_train[count,...]=features2.cpu()\n",
    "\n",
    "                    two.append(y['Class_2'])\n",
    "                    area.append(y['Php/Area'])\n",
    "\n",
    "                    count +=1\n",
    "\n",
    "                    pbar.update(1)\n",
    "                    \n",
    "two_a = np.array(two)\n",
    "area_a = np.array(area)\n",
    "np.savez_compressed('vgg19_features_train_b.npz',final_data_train,two_a,area_a)\n",
    "print('Finished')"
   ]
  },
  {
   "cell_type": "code",
   "execution_count": 26,
   "metadata": {
    "ExecuteTime": {
     "end_time": "2021-01-03T10:55:02.430142Z",
     "start_time": "2021-01-03T10:55:02.398332Z"
    }
   },
   "outputs": [
    {
     "data": {
      "text/plain": [
       "186052608"
      ]
     },
     "execution_count": 26,
     "metadata": {},
     "output_type": "execute_result"
    }
   ],
   "source": [
    "final_data_test = np.empty((len(df6)*18,shape1[1]*shape1[2]*shape1[3]),dtype=np.float32)\n",
    "final_data_test.nbytes"
   ]
  },
  {
   "cell_type": "code",
   "execution_count": 27,
   "metadata": {
    "ExecuteTime": {
     "end_time": "2021-01-03T10:58:17.548666Z",
     "start_time": "2021-01-03T10:55:02.431152Z"
    }
   },
   "outputs": [
    {
     "name": "stderr",
     "output_type": "stream",
     "text": [
      "100%|██████████| 1854/1854 [03:12<00:00,  9.63it/s]\n"
     ]
    },
    {
     "name": "stdout",
     "output_type": "stream",
     "text": [
      "Finished\n"
     ]
    }
   ],
   "source": [
    "two_b = []\n",
    "area_b = []\n",
    "count = 0\n",
    "\n",
    "headings = ['0','20','40','60','80','100','120','140','160',\n",
    "            '180','200','220','240','260','280','300','320','340']\n",
    "\n",
    "rot = [0,90,180,270]\n",
    "\n",
    "with tqdm(total=len(df6)*18) as pbar:\n",
    "    for x,y in df6.iterrows():\n",
    "        for ang in headings:\n",
    "            aws = (imread('images_2/'+str(x)+'_'+str(ang)+'.jpg'))\n",
    "            rotated = rotate(aws,0,preserve_range=True).astype(np.uint8)\n",
    "            input_image = Image.fromarray(rotated)\n",
    "            input_tensor = prepro(input_image,1)\n",
    "            input_batch = input_tensor.unsqueeze(0) \n",
    "\n",
    "            features =  model1.features(input_batch.to(device))\n",
    "            features2 = np.reshape(features.cpu(),(1,shape1[1]*shape1[2]*shape1[3]))\n",
    "\n",
    "            final_data_test[count,...]=features2.cpu()\n",
    "\n",
    "            two_b.append(y['Class_2'])\n",
    "            area_b.append(y['Php/Area'])\n",
    "            count +=1\n",
    "\n",
    "            pbar.update(1)\n",
    "two_b = np.array(two_b)\n",
    "area_b = np.array(area_b)\n",
    "np.savez_compressed('vgg19_features_test.npz',final_data_test,two_b,area_b)\n",
    "print('Finished')"
   ]
  },
  {
   "cell_type": "markdown",
   "metadata": {},
   "source": [
    "# MNASNET"
   ]
  },
  {
   "cell_type": "code",
   "execution_count": 28,
   "metadata": {
    "ExecuteTime": {
     "end_time": "2021-01-03T10:58:17.702594Z",
     "start_time": "2021-01-03T10:58:17.549681Z"
    }
   },
   "outputs": [],
   "source": [
    "model1 = models.mnasnet1_0(pretrained=True)\n",
    "model1.to(device)\n",
    "for param in model1.parameters():\n",
    "    param.requires_grad = False"
   ]
  },
  {
   "cell_type": "code",
   "execution_count": 29,
   "metadata": {
    "ExecuteTime": {
     "end_time": "2021-01-03T10:58:17.723602Z",
     "start_time": "2021-01-03T10:58:17.704793Z"
    }
   },
   "outputs": [
    {
     "data": {
      "text/plain": [
       "torch.Size([3, 224, 224])"
      ]
     },
     "execution_count": 29,
     "metadata": {},
     "output_type": "execute_result"
    }
   ],
   "source": [
    "new = prepro(Image.fromarray(imread('images_2/0_0.jpg')),1)\n",
    "new.shape"
   ]
  },
  {
   "cell_type": "code",
   "execution_count": 30,
   "metadata": {
    "ExecuteTime": {
     "end_time": "2021-01-03T10:58:17.753548Z",
     "start_time": "2021-01-03T10:58:17.724567Z"
    }
   },
   "outputs": [
    {
     "data": {
      "text/plain": [
       "torch.Size([1, 1280, 7, 7])"
      ]
     },
     "execution_count": 30,
     "metadata": {},
     "output_type": "execute_result"
    }
   ],
   "source": [
    "shape1 = model1.layers(new.unsqueeze(0).to(device)).shape\n",
    "shape1"
   ]
  },
  {
   "cell_type": "code",
   "execution_count": 25,
   "metadata": {
    "ExecuteTime": {
     "end_time": "2021-01-02T01:20:07.986881Z",
     "start_time": "2021-01-02T01:20:07.186278Z"
    }
   },
   "outputs": [
    {
     "data": {
      "text/plain": [
       "7442104320"
      ]
     },
     "execution_count": 25,
     "metadata": {},
     "output_type": "execute_result"
    }
   ],
   "source": [
    "var = 1\n",
    "final_data_train = np.empty((len(df5)*18*4*var,shape1[1]*shape1[2]*shape1[3]),dtype=np.float32)\n",
    "final_data_train.nbytes"
   ]
  },
  {
   "cell_type": "code",
   "execution_count": 27,
   "metadata": {
    "ExecuteTime": {
     "end_time": "2021-01-02T05:28:00.375450Z",
     "start_time": "2021-01-02T04:32:42.916743Z"
    }
   },
   "outputs": [
    {
     "name": "stderr",
     "output_type": "stream",
     "text": [
      "100%|██████████| 29664/29664 [52:41<00:00,  9.38it/s] \n"
     ]
    },
    {
     "name": "stdout",
     "output_type": "stream",
     "text": [
      "Finished\n"
     ]
    }
   ],
   "source": [
    "two = []\n",
    "area = []\n",
    "count = 0\n",
    "\n",
    "headings = ['0','20','40','60','80','100','120','140','160',\n",
    "            '180','200','220','240','260','280','300','320','340']\n",
    "\n",
    "rot = [0,90,180,270]\n",
    "\n",
    "with tqdm(total=len(df5)*18*4*var) as pbar:\n",
    "    for x,y in df5.iterrows():\n",
    "        for ang in headings:\n",
    "            for rota in rot:\n",
    "                for pre in range(1,var+1):\n",
    "                    aws = (imread('images_2/'+str(x)+'_'+str(ang)+'.jpg'))\n",
    "                    rotated = rotate(aws,rota,preserve_range=True).astype(np.uint8)\n",
    "                    input_image = Image.fromarray(rotated)\n",
    "                    input_tensor = prepro(input_image,pre)\n",
    "                    input_batch = input_tensor.unsqueeze(0) \n",
    "\n",
    "                    features =  model1.layers(input_batch.to(device))\n",
    "                    features2 = np.reshape(features.cpu(),(1,shape1[1]*shape1[2]*shape1[3]))\n",
    "\n",
    "                    final_data_train[count,...]=features2.cpu()\n",
    "\n",
    "                    two.append(y['Class_2'])\n",
    "                    area.append(y['Php/Area'])\n",
    "\n",
    "                    count +=1\n",
    "\n",
    "                    pbar.update(1)\n",
    "                    \n",
    "two_a = np.array(two)\n",
    "area_a = np.array(area)\n",
    "np.savez_compressed('mnas_features_train.npz',final_data_train,two_a,area_a)\n",
    "print('Finished')"
   ]
  },
  {
   "cell_type": "code",
   "execution_count": 31,
   "metadata": {
    "ExecuteTime": {
     "end_time": "2021-01-03T10:58:17.777929Z",
     "start_time": "2021-01-03T10:58:17.754520Z"
    }
   },
   "outputs": [
    {
     "data": {
      "text/plain": [
       "465131520"
      ]
     },
     "execution_count": 31,
     "metadata": {},
     "output_type": "execute_result"
    }
   ],
   "source": [
    "final_data_test = np.empty((len(df6)*18,shape1[1]*shape1[2]*shape1[3]),dtype=np.float32)\n",
    "final_data_test.nbytes"
   ]
  },
  {
   "cell_type": "code",
   "execution_count": 32,
   "metadata": {
    "ExecuteTime": {
     "end_time": "2021-01-03T11:01:36.521562Z",
     "start_time": "2021-01-03T10:58:17.779438Z"
    }
   },
   "outputs": [
    {
     "name": "stderr",
     "output_type": "stream",
     "text": [
      "100%|██████████| 1854/1854 [03:09<00:00,  9.81it/s]\n"
     ]
    },
    {
     "name": "stdout",
     "output_type": "stream",
     "text": [
      "Finished\n"
     ]
    }
   ],
   "source": [
    "two_b = []\n",
    "area_b = []\n",
    "count = 0\n",
    "\n",
    "headings = ['0','20','40','60','80','100','120','140','160',\n",
    "            '180','200','220','240','260','280','300','320','340']\n",
    "\n",
    "rot = [0]\n",
    "\n",
    "with tqdm(total=len(df6)*18) as pbar:\n",
    "    for x,y in df6.iterrows():\n",
    "        for ang in headings:\n",
    "            for rota in rot:\n",
    "                aws = (imread('images_2/'+str(x)+'_'+str(ang)+'.jpg'))\n",
    "                rotated = rotate(aws,rota,preserve_range=True).astype(np.uint8)\n",
    "                input_image = Image.fromarray(rotated)\n",
    "                input_tensor = prepro(input_image,1)\n",
    "                input_batch = input_tensor.unsqueeze(0) \n",
    "\n",
    "                features =  model1.layers(input_batch.to(device))\n",
    "                features2 = np.reshape(features.cpu(),(1,shape1[1]*shape1[2]*shape1[3]))\n",
    "\n",
    "                final_data_test[count,...]=features2.cpu()\n",
    "\n",
    "                two_b.append(y['Class_2'])\n",
    "                area_b.append(y['Php/Area'])\n",
    "                count +=1\n",
    "\n",
    "                pbar.update(1)\n",
    "two_b = np.array(two_b)\n",
    "area_b = np.array(area_b)\n",
    "np.savez_compressed('mnas_features_test.npz',final_data_test,two_b,area_b)\n",
    "print('Finished')"
   ]
  },
  {
   "cell_type": "markdown",
   "metadata": {},
   "source": [
    "# DENSENET121"
   ]
  },
  {
   "cell_type": "code",
   "execution_count": 33,
   "metadata": {
    "ExecuteTime": {
     "end_time": "2021-01-03T11:01:36.818250Z",
     "start_time": "2021-01-03T11:01:36.523242Z"
    }
   },
   "outputs": [],
   "source": [
    "model1 = models.densenet121(pretrained=True)\n",
    "model1.to(device)\n",
    "for param in model1.parameters():\n",
    "    param.requires_grad = False"
   ]
  },
  {
   "cell_type": "code",
   "execution_count": 34,
   "metadata": {
    "ExecuteTime": {
     "end_time": "2021-01-03T11:01:36.834238Z",
     "start_time": "2021-01-03T11:01:36.819247Z"
    }
   },
   "outputs": [
    {
     "data": {
      "text/plain": [
       "torch.Size([3, 224, 224])"
      ]
     },
     "execution_count": 34,
     "metadata": {},
     "output_type": "execute_result"
    }
   ],
   "source": [
    "new = prepro(Image.fromarray(imread('images_2/0_0.jpg')),1)\n",
    "new.shape"
   ]
  },
  {
   "cell_type": "code",
   "execution_count": 35,
   "metadata": {
    "ExecuteTime": {
     "end_time": "2021-01-03T11:01:36.867528Z",
     "start_time": "2021-01-03T11:01:36.835203Z"
    }
   },
   "outputs": [
    {
     "data": {
      "text/plain": [
       "torch.Size([1, 1024, 7, 7])"
      ]
     },
     "execution_count": 35,
     "metadata": {},
     "output_type": "execute_result"
    }
   ],
   "source": [
    "shape1 = model1.features(new.unsqueeze(0).to(device)).shape\n",
    "shape1"
   ]
  },
  {
   "cell_type": "code",
   "execution_count": 48,
   "metadata": {
    "ExecuteTime": {
     "end_time": "2021-01-02T06:22:53.969017Z",
     "start_time": "2021-01-02T06:22:53.881258Z"
    }
   },
   "outputs": [
    {
     "data": {
      "text/plain": [
       "5953683456"
      ]
     },
     "execution_count": 48,
     "metadata": {},
     "output_type": "execute_result"
    }
   ],
   "source": [
    "var = 1\n",
    "final_data_train = np.empty((len(df5)*18*4*var,shape1[1]*shape1[2]*shape1[3]),dtype=np.float32)\n",
    "final_data_train.nbytes"
   ]
  },
  {
   "cell_type": "code",
   "execution_count": 50,
   "metadata": {
    "ExecuteTime": {
     "end_time": "2021-01-02T07:33:40.971504Z",
     "start_time": "2021-01-02T06:23:32.114849Z"
    }
   },
   "outputs": [
    {
     "name": "stderr",
     "output_type": "stream",
     "text": [
      "100%|██████████| 29664/29664 [1:06:22<00:00,  7.45it/s]\n"
     ]
    },
    {
     "name": "stdout",
     "output_type": "stream",
     "text": [
      "Finished\n"
     ]
    }
   ],
   "source": [
    "two = []\n",
    "area = []\n",
    "count = 0\n",
    "\n",
    "headings = ['0','20','40','60','80','100','120','140','160',\n",
    "            '180','200','220','240','260','280','300','320','340']\n",
    "\n",
    "rot = [0,90,180,270]\n",
    "\n",
    "with tqdm(total=len(df5)*18*4*var) as pbar:\n",
    "    for x,y in df5.iterrows():\n",
    "        for ang in headings:\n",
    "            for rota in rot:\n",
    "                for pre in range(1,var+1):\n",
    "                    aws = (imread('images_2/'+str(x)+'_'+str(ang)+'.jpg'))\n",
    "                    rotated = rotate(aws,rota,preserve_range=True).astype(np.uint8)\n",
    "                    input_image = Image.fromarray(rotated)\n",
    "                    input_tensor = prepro(input_image,pre)\n",
    "                    input_batch = input_tensor.unsqueeze(0) \n",
    "\n",
    "                    features =  model1.features(input_batch.to(device))\n",
    "                    features2 = np.reshape(features.cpu(),(1,shape1[1]*shape1[2]*shape1[3]))\n",
    "\n",
    "                    final_data_train[count,...]=features2.cpu()\n",
    "\n",
    "                    two.append(y['Class_2'])\n",
    "                    area.append(y['Php/Area'])\n",
    "\n",
    "                    count +=1\n",
    "\n",
    "                    pbar.update(1)\n",
    "                    \n",
    "two_a = np.array(two)\n",
    "area_a = np.array(area)\n",
    "np.savez_compressed('densenet121_features_train.npz',final_data_train,two_a,area_a)\n",
    "print('Finished')"
   ]
  },
  {
   "cell_type": "code",
   "execution_count": 36,
   "metadata": {
    "ExecuteTime": {
     "end_time": "2021-01-03T11:01:36.917718Z",
     "start_time": "2021-01-03T11:01:36.868526Z"
    }
   },
   "outputs": [
    {
     "data": {
      "text/plain": [
       "372105216"
      ]
     },
     "execution_count": 36,
     "metadata": {},
     "output_type": "execute_result"
    }
   ],
   "source": [
    "final_data_test = np.empty((len(df6)*18,shape1[1]*shape1[2]*shape1[3]),dtype=np.float32)\n",
    "final_data_test.nbytes"
   ]
  },
  {
   "cell_type": "code",
   "execution_count": 37,
   "metadata": {
    "ExecuteTime": {
     "end_time": "2021-01-03T11:05:26.049946Z",
     "start_time": "2021-01-03T11:01:36.918717Z"
    }
   },
   "outputs": [
    {
     "name": "stderr",
     "output_type": "stream",
     "text": [
      "100%|██████████| 1854/1854 [03:36<00:00,  8.55it/s]\n"
     ]
    },
    {
     "name": "stdout",
     "output_type": "stream",
     "text": [
      "Finished\n"
     ]
    }
   ],
   "source": [
    "two_b = []\n",
    "area_b = []\n",
    "count = 0\n",
    "\n",
    "headings = ['0','20','40','60','80','100','120','140','160',\n",
    "            '180','200','220','240','260','280','300','320','340']\n",
    "\n",
    "rot = [0]\n",
    "\n",
    "with tqdm(total=len(df6)*18) as pbar:\n",
    "    for x,y in df6.iterrows():\n",
    "        for ang in headings:\n",
    "            for rota in rot:\n",
    "                aws = (imread('images_2/'+str(x)+'_'+str(ang)+'.jpg'))\n",
    "                rotated = rotate(aws,rota,preserve_range=True).astype(np.uint8)\n",
    "                input_image = Image.fromarray(rotated)\n",
    "                input_tensor = prepro(input_image,1)\n",
    "                input_batch = input_tensor.unsqueeze(0) \n",
    "\n",
    "                features =  model1.features(input_batch.to(device))\n",
    "                features2 = np.reshape(features.cpu(),(1,shape1[1]*shape1[2]*shape1[3]))\n",
    "\n",
    "                final_data_test[count,...]=features2.cpu()\n",
    "\n",
    "                two_b.append(y['Class_2'])\n",
    "                area_b.append(y['Php/Area'])\n",
    "                count +=1\n",
    "\n",
    "                pbar.update(1)\n",
    "two_b = np.array(two_b)\n",
    "area_b = np.array(area_b)\n",
    "np.savez_compressed('densenet121_features_test.npz',final_data_test,two_b,area_b)\n",
    "print('Finished')"
   ]
  },
  {
   "cell_type": "markdown",
   "metadata": {},
   "source": [
    "# Squeezenet"
   ]
  },
  {
   "cell_type": "code",
   "execution_count": 38,
   "metadata": {
    "ExecuteTime": {
     "end_time": "2021-01-03T11:05:26.118915Z",
     "start_time": "2021-01-03T11:05:26.050900Z"
    }
   },
   "outputs": [],
   "source": [
    "model1 = models.squeezenet1_0(pretrained=True)\n",
    "model1.to(device)\n",
    "for param in model1.parameters():\n",
    "    param.requires_grad = False"
   ]
  },
  {
   "cell_type": "code",
   "execution_count": 39,
   "metadata": {
    "ExecuteTime": {
     "end_time": "2021-01-03T11:05:26.142528Z",
     "start_time": "2021-01-03T11:05:26.120889Z"
    }
   },
   "outputs": [
    {
     "data": {
      "text/plain": [
       "torch.Size([3, 224, 224])"
      ]
     },
     "execution_count": 39,
     "metadata": {},
     "output_type": "execute_result"
    }
   ],
   "source": [
    "new = prepro(Image.fromarray(imread('images_2/0_0.jpg')),1)\n",
    "new.shape"
   ]
  },
  {
   "cell_type": "code",
   "execution_count": 40,
   "metadata": {
    "ExecuteTime": {
     "end_time": "2021-01-03T11:05:26.155509Z",
     "start_time": "2021-01-03T11:05:26.144758Z"
    }
   },
   "outputs": [
    {
     "data": {
      "text/plain": [
       "torch.Size([1, 512, 13, 13])"
      ]
     },
     "execution_count": 40,
     "metadata": {},
     "output_type": "execute_result"
    }
   ],
   "source": [
    "shape1 = model1.features(new.unsqueeze(0).to(device)).shape\n",
    "shape1"
   ]
  },
  {
   "cell_type": "code",
   "execution_count": 72,
   "metadata": {
    "ExecuteTime": {
     "end_time": "2021-01-02T08:15:41.625099Z",
     "start_time": "2021-01-02T08:15:41.485453Z"
    }
   },
   "outputs": [
    {
     "data": {
      "text/plain": [
       "10267066368"
      ]
     },
     "execution_count": 72,
     "metadata": {},
     "output_type": "execute_result"
    }
   ],
   "source": [
    "var = 1\n",
    "final_data_train = np.empty((len(df5)*18*4*var,shape1[1]*shape1[2]*shape1[3]),dtype=np.float32)\n",
    "final_data_train.nbytes"
   ]
  },
  {
   "cell_type": "code",
   "execution_count": 73,
   "metadata": {
    "ExecuteTime": {
     "end_time": "2021-01-02T09:14:21.136468Z",
     "start_time": "2021-01-02T08:16:05.023718Z"
    }
   },
   "outputs": [
    {
     "name": "stderr",
     "output_type": "stream",
     "text": [
      "100%|██████████| 29664/29664 [56:01<00:00,  8.82it/s] \n"
     ]
    },
    {
     "name": "stdout",
     "output_type": "stream",
     "text": [
      "Finished\n"
     ]
    }
   ],
   "source": [
    "two = []\n",
    "area = []\n",
    "count = 0\n",
    "\n",
    "headings = ['0','20','40','60','80','100','120','140','160',\n",
    "            '180','200','220','240','260','280','300','320','340']\n",
    "\n",
    "rot = [0,90,180,270]\n",
    "\n",
    "with tqdm(total=len(df5)*18*4*var) as pbar:\n",
    "    for x,y in df5.iterrows():\n",
    "        for ang in headings:\n",
    "            for rota in rot:\n",
    "                for pre in range(1,var+1):\n",
    "                    aws = (imread('images_2/'+str(x)+'_'+str(ang)+'.jpg'))\n",
    "                    rotated = rotate(aws,rota,preserve_range=True).astype(np.uint8)\n",
    "                    input_image = Image.fromarray(rotated)\n",
    "                    input_tensor = prepro(input_image,pre)\n",
    "                    input_batch = input_tensor.unsqueeze(0) \n",
    "\n",
    "                    features =  model1.features(input_batch.to(device))\n",
    "                    features2 = np.reshape(features.cpu(),(1,shape1[1]*shape1[2]*shape1[3]))\n",
    "\n",
    "                    final_data_train[count,...]=features2.cpu()\n",
    "\n",
    "                    two.append(y['Class_2'])\n",
    "                    area.append(y['Php/Area'])\n",
    "\n",
    "                    count +=1\n",
    "\n",
    "                    pbar.update(1)\n",
    "                    \n",
    "two_a = np.array(two)\n",
    "area_a = np.array(area)\n",
    "np.savez_compressed('squeezenet_features_train.npz',final_data_train,two_a,area_a)\n",
    "print('Finished')"
   ]
  },
  {
   "cell_type": "code",
   "execution_count": 41,
   "metadata": {
    "ExecuteTime": {
     "end_time": "2021-01-03T11:05:26.199638Z",
     "start_time": "2021-01-03T11:05:26.157023Z"
    }
   },
   "outputs": [
    {
     "data": {
      "text/plain": [
       "641691648"
      ]
     },
     "execution_count": 41,
     "metadata": {},
     "output_type": "execute_result"
    }
   ],
   "source": [
    "final_data_test = np.empty((len(df6)*18,shape1[1]*shape1[2]*shape1[3]),dtype=np.float32)\n",
    "final_data_test.nbytes"
   ]
  },
  {
   "cell_type": "code",
   "execution_count": 42,
   "metadata": {
    "ExecuteTime": {
     "end_time": "2021-01-03T11:08:26.873535Z",
     "start_time": "2021-01-03T11:05:26.200766Z"
    }
   },
   "outputs": [
    {
     "name": "stderr",
     "output_type": "stream",
     "text": [
      "100%|██████████| 1854/1854 [02:53<00:00, 10.67it/s]\n"
     ]
    },
    {
     "name": "stdout",
     "output_type": "stream",
     "text": [
      "Finished\n"
     ]
    }
   ],
   "source": [
    "two_b = []\n",
    "area_b = []\n",
    "count = 0\n",
    "\n",
    "headings = ['0','20','40','60','80','100','120','140','160',\n",
    "            '180','200','220','240','260','280','300','320','340']\n",
    "\n",
    "rot = [0]\n",
    "\n",
    "with tqdm(total=len(df6)*18) as pbar:\n",
    "    for x,y in df6.iterrows():\n",
    "        for ang in headings:\n",
    "            for rota in rot:\n",
    "                aws = (imread('images_2/'+str(x)+'_'+str(ang)+'.jpg'))\n",
    "                rotated = rotate(aws,rota,preserve_range=True).astype(np.uint8)\n",
    "                input_image = Image.fromarray(rotated)\n",
    "                input_tensor = prepro(input_image,1)\n",
    "                input_batch = input_tensor.unsqueeze(0) \n",
    "\n",
    "                features =  model1.features(input_batch.to(device))\n",
    "                features2 = np.reshape(features.cpu(),(1,shape1[1]*shape1[2]*shape1[3]))\n",
    "\n",
    "                final_data_test[count,...]=features2.cpu()\n",
    "\n",
    "                two_b.append(y['Class_2'])\n",
    "                area_b.append(y['Php/Area'])\n",
    "                count +=1\n",
    "\n",
    "                pbar.update(1)\n",
    "two_b = np.array(two_b)\n",
    "area_b = np.array(area_b)\n",
    "np.savez_compressed('squuezenet_features_test.npz',final_data_test,two_b,area_b)\n",
    "print('Finished')"
   ]
  },
  {
   "cell_type": "markdown",
   "metadata": {},
   "source": [
    "# Shufflenet"
   ]
  },
  {
   "cell_type": "code",
   "execution_count": 43,
   "metadata": {
    "ExecuteTime": {
     "end_time": "2021-01-03T11:08:26.973759Z",
     "start_time": "2021-01-03T11:08:26.874585Z"
    }
   },
   "outputs": [],
   "source": [
    "model1 = models.shufflenet_v2_x1_0(pretrained=True)\n",
    "modules = list(model1.children())[:-1]\n",
    "model1 = torch.nn.Sequential(*modules)\n",
    "model1.to(device)\n",
    "for param in model1.parameters():\n",
    "    param.requires_grad = False"
   ]
  },
  {
   "cell_type": "code",
   "execution_count": 44,
   "metadata": {
    "ExecuteTime": {
     "end_time": "2021-01-03T11:08:26.993499Z",
     "start_time": "2021-01-03T11:08:26.976496Z"
    }
   },
   "outputs": [
    {
     "data": {
      "text/plain": [
       "torch.Size([3, 224, 224])"
      ]
     },
     "execution_count": 44,
     "metadata": {},
     "output_type": "execute_result"
    }
   ],
   "source": [
    "new = prepro(Image.fromarray(imread('images_2/0_0.jpg')),1)\n",
    "new.shape"
   ]
  },
  {
   "cell_type": "code",
   "execution_count": 45,
   "metadata": {
    "ExecuteTime": {
     "end_time": "2021-01-03T11:08:27.015456Z",
     "start_time": "2021-01-03T11:08:26.995642Z"
    }
   },
   "outputs": [
    {
     "data": {
      "text/plain": [
       "torch.Size([1, 1024, 7, 7])"
      ]
     },
     "execution_count": 45,
     "metadata": {},
     "output_type": "execute_result"
    }
   ],
   "source": [
    "shape1 = model1(new.unsqueeze(0).to(device)).shape\n",
    "shape1"
   ]
  },
  {
   "cell_type": "code",
   "execution_count": 82,
   "metadata": {
    "ExecuteTime": {
     "end_time": "2021-01-02T09:34:31.965524Z",
     "start_time": "2021-01-02T09:34:31.429860Z"
    }
   },
   "outputs": [
    {
     "data": {
      "text/plain": [
       "5953683456"
      ]
     },
     "execution_count": 82,
     "metadata": {},
     "output_type": "execute_result"
    }
   ],
   "source": [
    "var = 1\n",
    "final_data_train = np.empty((len(df5)*18*4*var,shape1[1]*shape1[2]*shape1[3]),dtype=np.float32)\n",
    "final_data_train.nbytes"
   ]
  },
  {
   "cell_type": "code",
   "execution_count": 83,
   "metadata": {
    "ExecuteTime": {
     "end_time": "2021-01-02T10:35:16.644889Z",
     "start_time": "2021-01-02T09:34:50.247881Z"
    }
   },
   "outputs": [
    {
     "name": "stderr",
     "output_type": "stream",
     "text": [
      "100%|██████████| 29664/29664 [58:55<00:00,  8.39it/s] \n"
     ]
    },
    {
     "name": "stdout",
     "output_type": "stream",
     "text": [
      "Finished\n"
     ]
    }
   ],
   "source": [
    "two = []\n",
    "area = []\n",
    "count = 0\n",
    "\n",
    "headings = ['0','20','40','60','80','100','120','140','160',\n",
    "            '180','200','220','240','260','280','300','320','340']\n",
    "\n",
    "rot = [0,90,180,270]\n",
    "\n",
    "with tqdm(total=len(df5)*18*4*var) as pbar:\n",
    "    for x,y in df5.iterrows():\n",
    "        for ang in headings:\n",
    "            for rota in rot:\n",
    "                for pre in range(1,var+1):\n",
    "                    aws = (imread('images_2/'+str(x)+'_'+str(ang)+'.jpg'))\n",
    "                    rotated = rotate(aws,rota,preserve_range=True).astype(np.uint8)\n",
    "                    input_image = Image.fromarray(rotated)\n",
    "                    input_tensor = prepro(input_image,pre)\n",
    "                    input_batch = input_tensor.unsqueeze(0) \n",
    "\n",
    "                    features =  model1(input_batch.to(device))\n",
    "                    features2 = np.reshape(features.cpu(),(1,shape1[1]*shape1[2]*shape1[3]))\n",
    "\n",
    "                    final_data_train[count,...]=features2.cpu()\n",
    "\n",
    "                    two.append(y['Class_2'])\n",
    "                    area.append(y['Php/Area'])\n",
    "\n",
    "                    count +=1\n",
    "\n",
    "                    pbar.update(1)\n",
    "                    \n",
    "two_a = np.array(two)\n",
    "area_a = np.array(area)\n",
    "np.savez_compressed('shufflenet_features_train.npz',final_data_train,two_a,area_a)\n",
    "print('Finished')"
   ]
  },
  {
   "cell_type": "code",
   "execution_count": 46,
   "metadata": {
    "ExecuteTime": {
     "end_time": "2021-01-03T11:08:27.078698Z",
     "start_time": "2021-01-03T11:08:27.016808Z"
    }
   },
   "outputs": [
    {
     "data": {
      "text/plain": [
       "372105216"
      ]
     },
     "execution_count": 46,
     "metadata": {},
     "output_type": "execute_result"
    }
   ],
   "source": [
    "final_data_test = np.empty((len(df6)*18,shape1[1]*shape1[2]*shape1[3]),dtype=np.float32)\n",
    "final_data_test.nbytes"
   ]
  },
  {
   "cell_type": "code",
   "execution_count": 47,
   "metadata": {
    "ExecuteTime": {
     "end_time": "2021-01-03T11:11:39.912881Z",
     "start_time": "2021-01-03T11:08:27.079781Z"
    }
   },
   "outputs": [
    {
     "name": "stderr",
     "output_type": "stream",
     "text": [
      "100%|██████████| 1854/1854 [03:07<00:00,  9.89it/s]\n"
     ]
    },
    {
     "name": "stdout",
     "output_type": "stream",
     "text": [
      "Finished\n"
     ]
    }
   ],
   "source": [
    "two_b = []\n",
    "area_b = []\n",
    "count = 0\n",
    "\n",
    "headings = ['0','20','40','60','80','100','120','140','160',\n",
    "            '180','200','220','240','260','280','300','320','340']\n",
    "\n",
    "rot = [0]\n",
    "\n",
    "with tqdm(total=len(df6)*18) as pbar:\n",
    "    for x,y in df6.iterrows():\n",
    "        for ang in headings:\n",
    "            for rota in rot:\n",
    "                aws = (imread('images_2/'+str(x)+'_'+str(ang)+'.jpg'))\n",
    "                rotated = rotate(aws,rota,preserve_range=True).astype(np.uint8)\n",
    "                input_image = Image.fromarray(rotated)\n",
    "                input_tensor = prepro(input_image,1)\n",
    "                input_batch = input_tensor.unsqueeze(0) \n",
    "\n",
    "                features =  model1(input_batch.to(device))\n",
    "                features2 = np.reshape(features.cpu(),(1,shape1[1]*shape1[2]*shape1[3]))\n",
    "\n",
    "                final_data_test[count,...]=features2.cpu()\n",
    "\n",
    "                two_b.append(y['Class_2'])\n",
    "                area_b.append(y['Php/Area'])\n",
    "                count +=1\n",
    "\n",
    "                pbar.update(1)\n",
    "two_b = np.array(two_b)\n",
    "area_b = np.array(area_b)\n",
    "np.savez_compressed('shufflenet_features_test.npz',final_data_test,two_b,area_b)\n",
    "print('Finished')"
   ]
  },
  {
   "cell_type": "markdown",
   "metadata": {},
   "source": [
    "# Mobilenet"
   ]
  },
  {
   "cell_type": "code",
   "execution_count": 48,
   "metadata": {
    "ExecuteTime": {
     "end_time": "2021-01-03T11:11:40.044333Z",
     "start_time": "2021-01-03T11:11:39.913838Z"
    }
   },
   "outputs": [],
   "source": [
    "model1 = models.mobilenet_v2(pretrained=True)\n",
    "modules = list(model1.children())[:-1]\n",
    "model1 = torch.nn.Sequential(*modules)\n",
    "model1.to(device)\n",
    "for param in model1.parameters():\n",
    "    param.requires_grad = False"
   ]
  },
  {
   "cell_type": "code",
   "execution_count": 49,
   "metadata": {
    "ExecuteTime": {
     "end_time": "2021-01-03T11:11:40.063318Z",
     "start_time": "2021-01-03T11:11:40.045324Z"
    }
   },
   "outputs": [
    {
     "data": {
      "text/plain": [
       "torch.Size([3, 224, 224])"
      ]
     },
     "execution_count": 49,
     "metadata": {},
     "output_type": "execute_result"
    }
   ],
   "source": [
    "new = prepro(Image.fromarray(imread('images_2/0_0.jpg')),1)\n",
    "new.shape"
   ]
  },
  {
   "cell_type": "code",
   "execution_count": 50,
   "metadata": {
    "ExecuteTime": {
     "end_time": "2021-01-03T11:11:40.085227Z",
     "start_time": "2021-01-03T11:11:40.064273Z"
    }
   },
   "outputs": [
    {
     "data": {
      "text/plain": [
       "torch.Size([1, 1280, 7, 7])"
      ]
     },
     "execution_count": 50,
     "metadata": {},
     "output_type": "execute_result"
    }
   ],
   "source": [
    "shape1 = model1(new.unsqueeze(0).to(device)).shape\n",
    "shape1"
   ]
  },
  {
   "cell_type": "code",
   "execution_count": 94,
   "metadata": {
    "ExecuteTime": {
     "end_time": "2021-01-02T11:02:05.046075Z",
     "start_time": "2021-01-02T11:02:04.941509Z"
    }
   },
   "outputs": [
    {
     "data": {
      "text/plain": [
       "7442104320"
      ]
     },
     "execution_count": 94,
     "metadata": {},
     "output_type": "execute_result"
    }
   ],
   "source": [
    "var = 1\n",
    "final_data_train = np.empty((len(df5)*18*4*var,shape1[1]*shape1[2]*shape1[3]),dtype=np.float32)\n",
    "final_data_train.nbytes"
   ]
  },
  {
   "cell_type": "code",
   "execution_count": 95,
   "metadata": {
    "ExecuteTime": {
     "end_time": "2021-01-02T12:03:56.650973Z",
     "start_time": "2021-01-02T11:02:16.198602Z"
    }
   },
   "outputs": [
    {
     "name": "stderr",
     "output_type": "stream",
     "text": [
      "100%|██████████| 29664/29664 [57:38<00:00,  8.58it/s] \n"
     ]
    },
    {
     "name": "stdout",
     "output_type": "stream",
     "text": [
      "Finished\n"
     ]
    }
   ],
   "source": [
    "two = []\n",
    "area = []\n",
    "count = 0\n",
    "\n",
    "headings = ['0','20','40','60','80','100','120','140','160',\n",
    "            '180','200','220','240','260','280','300','320','340']\n",
    "\n",
    "rot = [0,90,180,270]\n",
    "\n",
    "with tqdm(total=len(df5)*18*4*var) as pbar:\n",
    "    for x,y in df5.iterrows():\n",
    "        for ang in headings:\n",
    "            for rota in rot:\n",
    "                for pre in range(1,var+1):\n",
    "                    aws = (imread('images_2/'+str(x)+'_'+str(ang)+'.jpg'))\n",
    "                    rotated = rotate(aws,rota,preserve_range=True).astype(np.uint8)\n",
    "                    input_image = Image.fromarray(rotated)\n",
    "                    input_tensor = prepro(input_image,pre)\n",
    "                    input_batch = input_tensor.unsqueeze(0) \n",
    "\n",
    "                    features =  model1(input_batch.to(device))\n",
    "                    features2 = np.reshape(features.cpu(),(1,shape1[1]*shape1[2]*shape1[3]))\n",
    "\n",
    "                    final_data_train[count,...]=features2.cpu()\n",
    "\n",
    "                    two.append(y['Class_2'])\n",
    "                    area.append(y['Php/Area'])\n",
    "\n",
    "                    count +=1\n",
    "\n",
    "                    pbar.update(1)\n",
    "                    \n",
    "two_a = np.array(two)\n",
    "area_a = np.array(area)\n",
    "np.savez_compressed('mobilenet_features_train.npz',final_data_train,two_a,area_a)\n",
    "print('Finished')"
   ]
  },
  {
   "cell_type": "code",
   "execution_count": 51,
   "metadata": {
    "ExecuteTime": {
     "end_time": "2021-01-03T11:11:40.147422Z",
     "start_time": "2021-01-03T11:11:40.086218Z"
    }
   },
   "outputs": [
    {
     "data": {
      "text/plain": [
       "465131520"
      ]
     },
     "execution_count": 51,
     "metadata": {},
     "output_type": "execute_result"
    }
   ],
   "source": [
    "final_data_test = np.empty((len(df6)*18,shape1[1]*shape1[2]*shape1[3]),dtype=np.float32)\n",
    "final_data_test.nbytes"
   ]
  },
  {
   "cell_type": "code",
   "execution_count": 52,
   "metadata": {
    "ExecuteTime": {
     "end_time": "2021-01-03T11:14:58.423539Z",
     "start_time": "2021-01-03T11:11:40.149417Z"
    }
   },
   "outputs": [
    {
     "name": "stderr",
     "output_type": "stream",
     "text": [
      "100%|██████████| 1854/1854 [03:04<00:00, 10.05it/s]\n"
     ]
    },
    {
     "name": "stdout",
     "output_type": "stream",
     "text": [
      "Finished\n"
     ]
    }
   ],
   "source": [
    "two_b = []\n",
    "area_b = []\n",
    "count = 0\n",
    "\n",
    "headings = ['0','20','40','60','80','100','120','140','160',\n",
    "            '180','200','220','240','260','280','300','320','340']\n",
    "\n",
    "rot = [0]\n",
    "\n",
    "with tqdm(total=len(df6)*18) as pbar:\n",
    "    for x,y in df6.iterrows():\n",
    "        for ang in headings:\n",
    "            for rota in rot:\n",
    "                aws = (imread('images_2/'+str(x)+'_'+str(ang)+'.jpg'))\n",
    "                rotated = rotate(aws,rota,preserve_range=True).astype(np.uint8)\n",
    "                input_image = Image.fromarray(rotated)\n",
    "                input_tensor = prepro(input_image,1)\n",
    "                input_batch = input_tensor.unsqueeze(0) \n",
    "\n",
    "                features =  model1(input_batch.to(device))\n",
    "                features2 = np.reshape(features.cpu(),(1,shape1[1]*shape1[2]*shape1[3]))\n",
    "\n",
    "                final_data_test[count,...]=features2.cpu()\n",
    "\n",
    "                two_b.append(y['Class_2'])\n",
    "                area_b.append(y['Php/Area'])\n",
    "                count +=1\n",
    "\n",
    "                pbar.update(1)\n",
    "two_b = np.array(two_b)\n",
    "area_b = np.array(area_b)\n",
    "np.savez_compressed('mobilenet_features_test.npz',final_data_test,two_b,area_b)\n",
    "print('Finished')"
   ]
  },
  {
   "cell_type": "markdown",
   "metadata": {},
   "source": [
    "# Loading the Datasets"
   ]
  },
  {
   "cell_type": "code",
   "execution_count": 53,
   "metadata": {
    "ExecuteTime": {
     "end_time": "2021-01-03T11:16:27.846111Z",
     "start_time": "2021-01-03T11:16:27.838684Z"
    }
   },
   "outputs": [],
   "source": [
    "#defining some functions\n",
    "class ClassifierDataset(Dataset):\n",
    "    # a class to split create a dataset table\n",
    "    def __init__(self, X_data, y_data):\n",
    "        self.X_data = X_data\n",
    "        self.y_data = y_data\n",
    "        \n",
    "    def __getitem__(self, index):\n",
    "        return self.X_data[index], self.y_data[index]\n",
    "        \n",
    "    def __len__ (self):\n",
    "        return len(self.X_data)\n",
    "    \n",
    "def multi_acc(y_pred, y_test):\n",
    "    \n",
    "    true = np.argmax(y_test.cpu().detach().numpy(),1)\n",
    "    pred = np.argmax(y_pred.cpu().detach().numpy(),1)\n",
    "    \n",
    "    acc = accuracy_score(true, pred)\n",
    "    \n",
    "    return acc"
   ]
  },
  {
   "cell_type": "markdown",
   "metadata": {},
   "source": [
    "# VGG16 Training"
   ]
  },
  {
   "cell_type": "code",
   "execution_count": 54,
   "metadata": {
    "ExecuteTime": {
     "end_time": "2021-01-03T11:17:08.524427Z",
     "start_time": "2021-01-03T11:16:32.831279Z"
    }
   },
   "outputs": [],
   "source": [
    "X_train = (np.load('vgg16_features_train_b.npz')['arr_0'])\n",
    "y_train = np.load('vgg16_features_train_b.npz')['arr_1']\n",
    "X_test = (np.load('vgg16_features_test.npz')['arr_0'])\n",
    "y_test = np.load('vgg16_features_test.npz')['arr_1']"
   ]
  },
  {
   "cell_type": "code",
   "execution_count": 55,
   "metadata": {
    "ExecuteTime": {
     "end_time": "2021-01-03T11:17:08.580587Z",
     "start_time": "2021-01-03T11:17:08.525285Z"
    }
   },
   "outputs": [
    {
     "name": "stdout",
     "output_type": "stream",
     "text": [
      "Trainset Shape:  (118656, 25088)\n",
      "Trainset Target Shape:  (118656,)\n",
      "Testset Shape:  (1854, 25088)\n",
      "Testset Target Shape:  (1854,)\n",
      "New Target Train shape:  (118656, 2)\n",
      "New Target Test shape:  (1854, 2)\n"
     ]
    }
   ],
   "source": [
    "print('Trainset Shape: ',X_train.shape)\n",
    "print('Trainset Target Shape: ',y_train.shape)\n",
    "print('Testset Shape: ',X_test.shape)\n",
    "print('Testset Target Shape: ',y_test.shape)\n",
    "\n",
    "y_train = to_categorical(np.reshape(y_train,(y_train.shape[0],1)))\n",
    "print('New Target Train shape: ',y_train.shape)\n",
    "\n",
    "y_test = to_categorical(np.reshape(y_test,(y_test.shape[0],1)))\n",
    "print('New Target Test shape: ',y_test.shape)"
   ]
  },
  {
   "cell_type": "code",
   "execution_count": 56,
   "metadata": {
    "ExecuteTime": {
     "end_time": "2021-01-03T11:17:08.675439Z",
     "start_time": "2021-01-03T11:17:08.584582Z"
    }
   },
   "outputs": [],
   "source": [
    "train_dataset = ClassifierDataset(torch.from_numpy(X_train).float(), torch.from_numpy(y_train).long())\n",
    "val_dataset = ClassifierDataset(torch.from_numpy(X_test).float(), torch.from_numpy(y_test).long())"
   ]
  },
  {
   "cell_type": "code",
   "execution_count": 57,
   "metadata": {
    "ExecuteTime": {
     "end_time": "2021-01-03T11:17:08.682083Z",
     "start_time": "2021-01-03T11:17:08.678433Z"
    }
   },
   "outputs": [],
   "source": [
    "accuracy_stats = {'train': [],\"val\": []}\n",
    "loss_stats = {'train': [],\"val\": []}"
   ]
  },
  {
   "cell_type": "code",
   "execution_count": 58,
   "metadata": {
    "ExecuteTime": {
     "end_time": "2021-01-03T11:17:08.706025Z",
     "start_time": "2021-01-03T11:17:08.683420Z"
    }
   },
   "outputs": [],
   "source": [
    "EPOCHS = 100\n",
    "\n",
    "NUM_CLASSES = 1\n",
    "train_loader = DataLoader(dataset=train_dataset,batch_size=1000,shuffle=True)\n",
    "val_loader = DataLoader(dataset=val_dataset, batch_size=100,shuffle=True)"
   ]
  },
  {
   "cell_type": "code",
   "execution_count": 59,
   "metadata": {
    "ExecuteTime": {
     "end_time": "2021-01-03T11:17:08.818428Z",
     "start_time": "2021-01-03T11:17:08.707647Z"
    }
   },
   "outputs": [],
   "source": [
    "model = torch.nn.Sequential(\n",
    "        torch.nn.Linear(X_train.shape[1], 128),\n",
    "        torch.nn.Tanh(),\n",
    "        torch.nn.Dropout(0.8),\n",
    "        torch.nn.Linear(128, 2),\n",
    "        torch.nn.Sigmoid()\n",
    ")\n",
    "model.to(device)\n",
    "criterion = torch.nn.BCELoss()\n",
    "optimizer = torch.optim.Adam(model.parameters(), lr=0.0005)"
   ]
  },
  {
   "cell_type": "code",
   "execution_count": 60,
   "metadata": {
    "ExecuteTime": {
     "end_time": "2021-01-03T11:24:44.236074Z",
     "start_time": "2021-01-03T11:17:08.820286Z"
    }
   },
   "outputs": [
    {
     "name": "stdout",
     "output_type": "stream",
     "text": [
      "Begin training.\n",
      "Epoch 1 Train Loss: 0.7437794323728866 Val Loss: 0.691591761614147 Train Acc: 0.556433695429391 Val Acc: 0.5587914230019493\n",
      "Epoch 2 Train Loss: 0.6657426201996683 Val Loss: 0.6976305246353149 Train Acc: 0.6075585160893622 Val Acc: 0.55458089668616\n",
      "Epoch 3 Train Loss: 0.6376598627627397 Val Loss: 0.7050126791000366 Train Acc: 0.6351244107399058 Val Acc: 0.5642105263157896\n",
      "Epoch 4 Train Loss: 0.6247325033700767 Val Loss: 0.708233422354648 Train Acc: 0.6499480426316873 Val Acc: 0.5614230019493177\n",
      "Epoch 5 Train Loss: 0.6166640640306873 Val Loss: 0.7215046317953813 Train Acc: 0.6582041401926628 Val Acc: 0.5657115009746588\n",
      "Epoch 6 Train Loss: 0.6075857592230084 Val Loss: 0.72141663965426 Train Acc: 0.6674913916786228 Val Acc: 0.56682261208577\n",
      "Epoch 7 Train Loss: 0.6011229973881185 Val Loss: 0.7204482649502001 Train Acc: 0.6752646034023365 Val Acc: 0.5623976608187135\n",
      "Epoch 8 Train Loss: 0.595355440087679 Val Loss: 0.7260090583249142 Train Acc: 0.6796672473867599 Val Acc: 0.5559454191033141\n",
      "Epoch 9 Train Loss: 0.5884076532195596 Val Loss: 0.7305083212099577 Train Acc: 0.6871594589055136 Val Acc: 0.5582651072124756\n",
      "Epoch 10 Train Loss: 0.5808328630543557 Val Loss: 0.7394055190839266 Train Acc: 0.6931277925804469 Val Acc: 0.5604288499025343\n",
      "Epoch 11 Train Loss: 0.5755736842876723 Val Loss: 0.7549250784673189 Train Acc: 0.6971030948964951 Val Acc: 0.5491033138401559\n",
      "Epoch 12 Train Loss: 0.5712204560512254 Val Loss: 0.7388311216705724 Train Acc: 0.7026288173806107 Val Acc: 0.5668421052631579\n",
      "Epoch 13 Train Loss: 0.5652785271155734 Val Loss: 0.7538153591908907 Train Acc: 0.7058898339823733 Val Acc: 0.5681091617933722\n",
      "Epoch 14 Train Loss: 0.5600452843834373 Val Loss: 0.7533376248259294 Train Acc: 0.7106721664275464 Val Acc: 0.5555555555555556\n",
      "Epoch 15 Train Loss: 0.5543716484759035 Val Loss: 0.767156249598453 Train Acc: 0.7157677802828444 Val Acc: 0.5606042884990254\n",
      "Epoch 16 Train Loss: 0.5502832872526986 Val Loss: 0.7576725388828077 Train Acc: 0.7192218692354989 Val Acc: 0.5691617933723196\n",
      "Epoch 17 Train Loss: 0.5471985645654822 Val Loss: 0.7634224703437403 Train Acc: 0.7224181184668981 Val Acc: 0.5700584795321637\n",
      "Epoch 18 Train Loss: 0.540634752321644 Val Loss: 0.7682129897569355 Train Acc: 0.7250831112932973 Val Acc: 0.5621052631578948\n",
      "Epoch 19 Train Loss: 0.5366828667015588 Val Loss: 0.7708048161707426 Train Acc: 0.728360934617749 Val Acc: 0.5631384015594542\n",
      "Epoch 20 Train Loss: 0.5348703064838377 Val Loss: 0.7644493360268442 Train Acc: 0.7290190612830495 Val Acc: 0.5733723196881093\n",
      "Epoch 21 Train Loss: 0.5268730483636135 Val Loss: 0.7768306889032063 Train Acc: 0.7352415453986472 Val Acc: 0.5685575048732944\n",
      "Epoch 22 Train Loss: 0.5242204919081777 Val Loss: 0.7766414504302176 Train Acc: 0.7391412174625943 Val Acc: 0.5653996101364523\n",
      "Epoch 23 Train Loss: 0.5175324893799149 Val Loss: 0.7935868972226193 Train Acc: 0.7440603607296578 Val Acc: 0.5667446393762184\n",
      "Epoch 24 Train Loss: 0.5150910262801066 Val Loss: 0.790812053178486 Train Acc: 0.7448410534945684 Val Acc: 0.5682651072124755\n",
      "Epoch 25 Train Loss: 0.507989779991262 Val Loss: 0.7968101281868784 Train Acc: 0.7489844230375076 Val Acc: 0.5641910331384015\n",
      "Epoch 26 Train Loss: 0.5058305128281858 Val Loss: 0.7955948083024276 Train Acc: 0.7512056773929081 Val Acc: 0.5626315789473683\n",
      "Epoch 27 Train Loss: 0.5030528772778872 Val Loss: 0.7935680370581778 Train Acc: 0.7544481451117032 Val Acc: 0.5705847953216374\n",
      "Epoch 28 Train Loss: 0.4950912890314054 Val Loss: 0.8088978497605575 Train Acc: 0.7588539659766348 Val Acc: 0.5601364522417154\n",
      "Epoch 29 Train Loss: 0.4936791893814792 Val Loss: 0.8044488586877522 Train Acc: 0.7611924574707936 Val Acc: 0.5565302144249514\n",
      "Stopping Point due to Overfitting\n"
     ]
    }
   ],
   "source": [
    "print(\"Begin training.\")\n",
    "for e in (range(1, EPOCHS+1)):\n",
    "    \n",
    "    # TRAINING\n",
    "    train_epoch_loss = 0 # for loss tracking\n",
    "    train_epoch_acc = 0 #for acc traking\n",
    "    model.train()\n",
    "    \n",
    "    for X_train_batch, y_train_batch in train_loader:\n",
    "        X_train_batch, y_train_batch = X_train_batch.to(device), y_train_batch.to(device)\n",
    "        \n",
    "        optimizer.zero_grad()\n",
    "        \n",
    "        y_train_pred = model(X_train_batch)\n",
    "        \n",
    "        train_loss = criterion(y_train_pred, y_train_batch.float())\n",
    "        train_acc = multi_acc(y_train_pred, y_train_batch.float())\n",
    "        \n",
    "        train_loss.backward()\n",
    "        optimizer.step()\n",
    "        \n",
    "        train_epoch_loss += train_loss.item()\n",
    "        train_epoch_acc += train_acc.item()\n",
    "        \n",
    "    # VALIDATION    \n",
    "    with torch.no_grad():\n",
    "        \n",
    "        val_epoch_loss = 0\n",
    "        val_epoch_acc = 0\n",
    "        \n",
    "        model.eval()\n",
    "        for X_val_batch, y_val_batch in val_loader:\n",
    "            X_val_batch, y_val_batch = X_val_batch.to(device), y_val_batch.to(device)\n",
    "            \n",
    "            y_val_pred = model(X_val_batch)\n",
    "                        \n",
    "            val_loss = criterion(y_val_pred,y_val_batch.float())\n",
    "            val_acc = multi_acc(y_val_pred, y_val_batch.float())\n",
    "\n",
    "            \n",
    "            val_epoch_loss += val_loss.item()\n",
    "            val_epoch_acc += val_acc.item()\n",
    "            \n",
    "            \n",
    "    loss_stats['train'].append(train_epoch_loss/len(train_loader))\n",
    "    loss_stats['val'].append(val_epoch_loss/len(val_loader))\n",
    "    accuracy_stats['train'].append(train_epoch_acc/len(train_loader))\n",
    "    accuracy_stats['val'].append(val_epoch_acc/len(val_loader))\n",
    "                              \n",
    "  \n",
    "    print('Epoch',e,'Train Loss:',(train_epoch_loss/len(train_loader)),\n",
    "          'Val Loss:',(val_epoch_loss/len(val_loader)),\n",
    "          'Train Acc:',(train_epoch_acc/len(train_loader)),\n",
    "          'Val Acc:',(val_epoch_acc/len(val_loader)))\n",
    "    \n",
    "    stopping = (train_epoch_acc/len(train_loader)) - (val_epoch_acc/len(val_loader))\n",
    "    \n",
    "    if stopping >= 0.20:\n",
    "        model.eval()\n",
    "        print('Stopping Point due to Overfitting')\n",
    "        break"
   ]
  },
  {
   "cell_type": "code",
   "execution_count": 61,
   "metadata": {
    "ExecuteTime": {
     "end_time": "2021-01-03T11:29:03.522178Z",
     "start_time": "2021-01-03T11:29:03.328571Z"
    }
   },
   "outputs": [],
   "source": [
    "model.eval()\n",
    "torch.save(model, 'vgg16_model.pt')"
   ]
  },
  {
   "cell_type": "code",
   "execution_count": 62,
   "metadata": {
    "ExecuteTime": {
     "end_time": "2021-01-03T11:29:04.672240Z",
     "start_time": "2021-01-03T11:29:04.095914Z"
    }
   },
   "outputs": [
    {
     "data": {
      "image/png": "[encoded data removed]",
      "text/plain": [
       "<Figure size 1440x360 with 2 Axes>"
      ]
     },
     "metadata": {
      "needs_background": "light"
     },
     "output_type": "display_data"
    }
   ],
   "source": [
    "fig,ax = plt.subplots(1,2,figsize=(20,5))\n",
    "ax[0].plot(accuracy_stats['train'])\n",
    "ax[0].plot(accuracy_stats['val'])\n",
    "ax[0].set_title('Accuracy Plot',fontsize=20)\n",
    "ax[0].legend(['Train','Test'],fontsize=15)\n",
    "ax[1].plot(loss_stats['train'])\n",
    "ax[1].plot(loss_stats['val'])\n",
    "ax[1].set_title('Loss Plot',fontsize=20)\n",
    "ax[1].legend(['Train','Test'],fontsize=15)\n",
    "plt.suptitle('VGG16 Training Results',fontsize=25,color='blue')\n",
    "plt.tight_layout()\n",
    "plt.savefig('vgg16plot.png')\n",
    "plt.show()"
   ]
  },
  {
   "cell_type": "markdown",
   "metadata": {},
   "source": [
    "# VGG19 Training"
   ]
  },
  {
   "cell_type": "code",
   "execution_count": 63,
   "metadata": {
    "ExecuteTime": {
     "end_time": "2021-01-03T11:29:48.759727Z",
     "start_time": "2021-01-03T11:29:12.077614Z"
    }
   },
   "outputs": [
    {
     "name": "stdout",
     "output_type": "stream",
     "text": [
      "Trainset Shape:  (118656, 25088)\n",
      "Trainset Target Shape:  (118656,)\n",
      "Testset Shape:  (1854, 25088)\n",
      "Testset Target Shape:  (1854,)\n",
      "New Target Train shape:  (118656, 2)\n",
      "New Target Test shape:  (1854, 2)\n"
     ]
    }
   ],
   "source": [
    "X_train = np.load('vgg19_features_train_b.npz')['arr_0']\n",
    "y_train = np.load('vgg19_features_train_b.npz')['arr_1']\n",
    "X_test = np.load('vgg19_features_test.npz')['arr_0']\n",
    "y_test = np.load('vgg19_features_test.npz')['arr_1']\n",
    "\n",
    "print('Trainset Shape: ',X_train.shape)\n",
    "print('Trainset Target Shape: ',y_train.shape)\n",
    "print('Testset Shape: ',X_test.shape)\n",
    "print('Testset Target Shape: ',y_test.shape)\n",
    "\n",
    "y_train = to_categorical(np.reshape(y_train,(y_train.shape[0],1)))\n",
    "print('New Target Train shape: ',y_train.shape)\n",
    "\n",
    "y_test = to_categorical(np.reshape(y_test,(y_test.shape[0],1)))\n",
    "print('New Target Test shape: ',y_test.shape)"
   ]
  },
  {
   "cell_type": "code",
   "execution_count": 64,
   "metadata": {
    "ExecuteTime": {
     "end_time": "2021-01-03T11:29:49.261657Z",
     "start_time": "2021-01-03T11:29:48.762223Z"
    }
   },
   "outputs": [],
   "source": [
    "train_dataset = ClassifierDataset(torch.from_numpy(X_train).float(), torch.from_numpy(y_train).long())\n",
    "val_dataset = ClassifierDataset(torch.from_numpy(X_test).float(), torch.from_numpy(y_test).long())\n",
    "\n",
    "accuracy_stats = {'train': [],\"val\": []}\n",
    "loss_stats = {'train': [],\"val\": []}\n",
    "\n",
    "EPOCHS = 100\n",
    "\n",
    "BATCH_SIZE = 100\n",
    "\n",
    "train_loader = DataLoader(dataset=train_dataset,batch_size=BATCH_SIZE,shuffle=True)\n",
    "val_loader = DataLoader(dataset=val_dataset, batch_size=BATCH_SIZE,shuffle=True)"
   ]
  },
  {
   "cell_type": "code",
   "execution_count": 65,
   "metadata": {
    "ExecuteTime": {
     "end_time": "2021-01-03T11:29:49.430745Z",
     "start_time": "2021-01-03T11:29:49.262615Z"
    }
   },
   "outputs": [],
   "source": [
    "model = torch.nn.Sequential(\n",
    "        torch.nn.Linear(X_train.shape[1], 128),\n",
    "        torch.nn.Tanh(),\n",
    "        torch.nn.Dropout(0.8),\n",
    "        torch.nn.Linear(128, 2),\n",
    "        torch.nn.Sigmoid()\n",
    ")\n",
    "model.to(device)\n",
    "criterion = torch.nn.BCELoss()\n",
    "optimizer = torch.optim.Adam(model.parameters(), lr=0.0005)"
   ]
  },
  {
   "cell_type": "code",
   "execution_count": 66,
   "metadata": {
    "ExecuteTime": {
     "end_time": "2021-01-03T11:57:34.429049Z",
     "start_time": "2021-01-03T11:29:49.433550Z"
    }
   },
   "outputs": [
    {
     "name": "stdout",
     "output_type": "stream",
     "text": [
      "Begin training.\n",
      "Epoch 1 Train Loss: 0.6996454288202268 Val Loss: 0.6773718281796104 Train Acc: 0.5533896979179205 Val Acc: 0.5797660818713449\n",
      "Epoch 2 Train Loss: 0.6765373247254266 Val Loss: 0.6769089259599385 Train Acc: 0.5767715729931395 Val Acc: 0.5696101364522417\n",
      "Epoch 3 Train Loss: 0.6736983014137281 Val Loss: 0.6804467502393221 Train Acc: 0.5824010109519788 Val Acc: 0.5593957115009748\n",
      "Epoch 4 Train Loss: 0.6709925437435545 Val Loss: 0.6816801711132652 Train Acc: 0.5870646287158502 Val Acc: 0.5536647173489279\n",
      "Epoch 5 Train Loss: 0.6679098873753053 Val Loss: 0.6831656443445306 Train Acc: 0.5948357203032858 Val Acc: 0.552923976608187\n",
      "Epoch 6 Train Loss: 0.666549873432394 Val Loss: 0.682437118731047 Train Acc: 0.594324828499218 Val Acc: 0.5537621832358675\n",
      "Epoch 7 Train Loss: 0.6643955271185801 Val Loss: 0.6778542838598552 Train Acc: 0.5972355277410032 Val Acc: 0.561111111111111\n",
      "Epoch 8 Train Loss: 0.6640010453013683 Val Loss: 0.6810829702176546 Train Acc: 0.5991858226019965 Val Acc: 0.5646393762183235\n",
      "Epoch 9 Train Loss: 0.6597739798538607 Val Loss: 0.6822846814205772 Train Acc: 0.6073594897099538 Val Acc: 0.5450487329434698\n",
      "Epoch 10 Train Loss: 0.660428867886422 Val Loss: 0.6785157667963129 Train Acc: 0.6064935611987 Val Acc: 0.5629239766081872\n",
      "Epoch 11 Train Loss: 0.658195272150819 Val Loss: 0.6791094290582758 Train Acc: 0.6096239017932364 Val Acc: 0.5587134502923977\n",
      "Epoch 12 Train Loss: 0.6556048723661106 Val Loss: 0.689231957259931 Train Acc: 0.6131598266939461 Val Acc: 0.5488693957115011\n",
      "Epoch 13 Train Loss: 0.6553970342337232 Val Loss: 0.6848383012570833 Train Acc: 0.6122180767842096 Val Acc: 0.561130604288499\n",
      "Epoch 14 Train Loss: 0.6521005970947664 Val Loss: 0.6838771136183488 Train Acc: 0.618860873751353 Val Acc: 0.5581091617933722\n",
      "Epoch 15 Train Loss: 0.6537964818049803 Val Loss: 0.6872554295941403 Train Acc: 0.6165850282825845 Val Acc: 0.5466861598440546\n",
      "Epoch 16 Train Loss: 0.6520935931221818 Val Loss: 0.6877252051704809 Train Acc: 0.6181020580093878 Val Acc: 0.5641325536062379\n",
      "Epoch 17 Train Loss: 0.6484628579349405 Val Loss: 0.685803661220952 Train Acc: 0.6236406306414732 Val Acc: 0.565243664717349\n",
      "Epoch 18 Train Loss: 0.649058690569234 Val Loss: 0.6869034767150879 Train Acc: 0.6225562642917325 Val Acc: 0.5511111111111111\n",
      "Epoch 19 Train Loss: 0.6458940448736883 Val Loss: 0.6889026008154217 Train Acc: 0.6278637621855827 Val Acc: 0.5457115009746589\n",
      "Epoch 20 Train Loss: 0.6454636006166479 Val Loss: 0.6929120923343458 Train Acc: 0.6276724034179815 Val Acc: 0.5533723196881092\n",
      "Epoch 21 Train Loss: 0.6446847746426455 Val Loss: 0.6890489051216527 Train Acc: 0.6294668431820921 Val Acc: 0.5539766081871345\n",
      "Epoch 22 Train Loss: 0.6437815793341916 Val Loss: 0.691998120985533 Train Acc: 0.6285323143579256 Val Acc: 0.5494736842105263\n",
      "Epoch 23 Train Loss: 0.6410238221099422 Val Loss: 0.689818168941297 Train Acc: 0.6347929955469972 Val Acc: 0.551130604288499\n",
      "Epoch 24 Train Loss: 0.6414141723762166 Val Loss: 0.695577461468546 Train Acc: 0.632078469129859 Val Acc: 0.5509161793372319\n",
      "Epoch 25 Train Loss: 0.638973027593264 Val Loss: 0.6868387743046409 Train Acc: 0.6370291250451318 Val Acc: 0.5664327485380116\n",
      "Epoch 26 Train Loss: 0.6378475771597081 Val Loss: 0.6905787806761893 Train Acc: 0.6377813214586592 Val Acc: 0.5638986354775828\n",
      "Epoch 27 Train Loss: 0.6375460326922673 Val Loss: 0.694599637859746 Train Acc: 0.6375797328198335 Val Acc: 0.5442884990253412\n",
      "Epoch 28 Train Loss: 0.6363931567907936 Val Loss: 0.6955026795989588 Train Acc: 0.6407558069563124 Val Acc: 0.5606627680311892\n",
      "Epoch 29 Train Loss: 0.6355977419955247 Val Loss: 0.6976323661051298 Train Acc: 0.640782886027199 Val Acc: 0.5451072124756334\n",
      "Epoch 30 Train Loss: 0.6353404899053244 Val Loss: 0.6915877116353888 Train Acc: 0.6396708388494395 Val Acc: 0.5507407407407408\n",
      "Epoch 31 Train Loss: 0.634014928652242 Val Loss: 0.7006980023886028 Train Acc: 0.643696594054639 Val Acc: 0.5526315789473685\n",
      "Epoch 32 Train Loss: 0.6327883290862877 Val Loss: 0.696883781960136 Train Acc: 0.6434077506318447 Val Acc: 0.5475828460038986\n",
      "Epoch 33 Train Loss: 0.6314504210348378 Val Loss: 0.7002786837126079 Train Acc: 0.6451817306535093 Val Acc: 0.5406822612085771\n",
      "Epoch 34 Train Loss: 0.6310797443687163 Val Loss: 0.6989533273797286 Train Acc: 0.6460332169936227 Val Acc: 0.5571929824561405\n",
      "Epoch 35 Train Loss: 0.6316673771714401 Val Loss: 0.6930676886909887 Train Acc: 0.6453309664219518 Val Acc: 0.5575828460038987\n",
      "Epoch 36 Train Loss: 0.6297644842243436 Val Loss: 0.697140213690306 Train Acc: 0.6470194969310374 Val Acc: 0.557270955165692\n",
      "Epoch 37 Train Loss: 0.6278443123075073 Val Loss: 0.6964308023452759 Train Acc: 0.6491731857022504 Val Acc: 0.5584795321637427\n",
      "Epoch 38 Train Loss: 0.6252669384224433 Val Loss: 0.6999202590239676 Train Acc: 0.6525646888915638 Val Acc: 0.5623196881091617\n",
      "Epoch 39 Train Loss: 0.6263026307888562 Val Loss: 0.7025100557427657 Train Acc: 0.6522499699121431 Val Acc: 0.5503118908382065\n",
      "Epoch 40 Train Loss: 0.6264625184156358 Val Loss: 0.70213614639483 Train Acc: 0.6526699963894572 Val Acc: 0.5495321637426901\n",
      "Epoch 41 Train Loss: 0.6252800496365709 Val Loss: 0.7016306362654033 Train Acc: 0.6518425803345774 Val Acc: 0.5529239766081872\n",
      "Epoch 42 Train Loss: 0.6243675425460384 Val Loss: 0.7067398773996454 Train Acc: 0.653356601275725 Val Acc: 0.5523976608187136\n",
      "Epoch 43 Train Loss: 0.6244878383775468 Val Loss: 0.7079736088451586 Train Acc: 0.6546148754362734 Val Acc: 0.5449707602339181\n",
      "Epoch 44 Train Loss: 0.6249704306730224 Val Loss: 0.6992551339300055 Train Acc: 0.6532073655072815 Val Acc: 0.5488693957115011\n",
      "Epoch 45 Train Loss: 0.6191672543667903 Val Loss: 0.7053148777861344 Train Acc: 0.6608460705259345 Val Acc: 0.5506042884990252\n",
      "Epoch 46 Train Loss: 0.6185349990765187 Val Loss: 0.7113085859700253 Train Acc: 0.6607931158984245 Val Acc: 0.5573684210526316\n",
      "Epoch 47 Train Loss: 0.6182137670492864 Val Loss: 0.7067489843619498 Train Acc: 0.6606384643158018 Val Acc: 0.5465497076023393\n",
      "Epoch 48 Train Loss: 0.6205327568078303 Val Loss: 0.7068422530826769 Train Acc: 0.6588650860512697 Val Acc: 0.558421052631579\n",
      "Epoch 49 Train Loss: 0.6180517357140906 Val Loss: 0.7033342781819796 Train Acc: 0.6605482007461801 Val Acc: 0.5589278752436647\n",
      "Epoch 50 Train Loss: 0.6183054806961166 Val Loss: 0.7013656685226842 Train Acc: 0.6610669153929486 Val Acc: 0.5582651072124756\n",
      "Epoch 51 Train Loss: 0.6165543991221836 Val Loss: 0.7037697654021414 Train Acc: 0.662876399085329 Val Acc: 0.5643469785575049\n",
      "Epoch 52 Train Loss: 0.6146839369518373 Val Loss: 0.7015624516888669 Train Acc: 0.6646034420507887 Val Acc: 0.5522417153996102\n",
      "Epoch 53 Train Loss: 0.614221512718972 Val Loss: 0.7012710696772525 Train Acc: 0.666282344445782 Val Acc: 0.5484795321637426\n",
      "Epoch 54 Train Loss: 0.6131911578807092 Val Loss: 0.7032420572481657 Train Acc: 0.6671410518714648 Val Acc: 0.5612670565302145\n",
      "Epoch 55 Train Loss: 0.6146819493101742 Val Loss: 0.703857494027991 Train Acc: 0.6645282224094358 Val Acc: 0.5482651072124756\n",
      "Epoch 56 Train Loss: 0.613218879965844 Val Loss: 0.7074313038273862 Train Acc: 0.6645865928511263 Val Acc: 0.55\n",
      "Epoch 57 Train Loss: 0.6116552116896992 Val Loss: 0.7105162520157663 Train Acc: 0.667353472138645 Val Acc: 0.558635477582846\n",
      "Epoch 58 Train Loss: 0.6109419319693944 Val Loss: 0.7068758324572915 Train Acc: 0.6670525935732347 Val Acc: 0.5564522417153995\n",
      "Epoch 59 Train Loss: 0.61019392912892 Val Loss: 0.7170586648740267 Train Acc: 0.6684384402455172 Val Acc: 0.5451072124756335\n",
      "Epoch 60 Train Loss: 0.6071693453350887 Val Loss: 0.7085410670230263 Train Acc: 0.6735936935852699 Val Acc: 0.5596881091617935\n",
      "Epoch 61 Train Loss: 0.6107393439918781 Val Loss: 0.7063369186300981 Train Acc: 0.6674527620652311 Val Acc: 0.5499805068226121\n",
      "Epoch 62 Train Loss: 0.6091477870439017 Val Loss: 0.7136791913132918 Train Acc: 0.6706962330003616 Val Acc: 0.5551851851851852\n",
      "Epoch 63 Train Loss: 0.6055158210483638 Val Loss: 0.7154703265742252 Train Acc: 0.6742905283427623 Val Acc: 0.55270955165692\n",
      "Epoch 64 Train Loss: 0.6049161553131801 Val Loss: 0.7154480626708583 Train Acc: 0.6747586953905412 Val Acc: 0.5446588693957115\n",
      "Epoch 65 Train Loss: 0.6052011777446766 Val Loss: 0.7132150750411185 Train Acc: 0.6736297990131193 Val Acc: 0.537524366471735\n"
     ]
    },
    {
     "name": "stdout",
     "output_type": "stream",
     "text": [
      "Epoch 66 Train Loss: 0.604597387363053 Val Loss: 0.7186799959132546 Train Acc: 0.6743206161993018 Val Acc: 0.5472904483430799\n",
      "Epoch 67 Train Loss: 0.6011265920257006 Val Loss: 0.7152781580623827 Train Acc: 0.67963352990733 Val Acc: 0.5541130604288499\n",
      "Epoch 68 Train Loss: 0.6019348518980986 Val Loss: 0.7131266311595315 Train Acc: 0.6775574678059945 Val Acc: 0.5436062378167641\n",
      "Epoch 69 Train Loss: 0.602955124111063 Val Loss: 0.7127080998922649 Train Acc: 0.6774214706944285 Val Acc: 0.547719298245614\n",
      "Epoch 70 Train Loss: 0.6011810065721803 Val Loss: 0.7187548467987462 Train Acc: 0.6775201588638833 Val Acc: 0.5481871345029239\n",
      "Epoch 71 Train Loss: 0.6000440707453781 Val Loss: 0.7179975666497883 Train Acc: 0.6782362498495619 Val Acc: 0.5572904483430798\n",
      "Epoch 72 Train Loss: 0.6003824110129549 Val Loss: 0.715090346963782 Train Acc: 0.6784065471175842 Val Acc: 0.5529434697855751\n",
      "Epoch 73 Train Loss: 0.5982835065846496 Val Loss: 0.7178051377597608 Train Acc: 0.6813948730292466 Val Acc: 0.550214424951267\n",
      "Epoch 74 Train Loss: 0.5997780419088956 Val Loss: 0.7220942974090576 Train Acc: 0.6794379588398137 Val Acc: 0.5478947368421053\n",
      "Epoch 75 Train Loss: 0.5966658131505826 Val Loss: 0.7276802502180401 Train Acc: 0.6832338428210394 Val Acc: 0.5425730994152049\n",
      "Epoch 76 Train Loss: 0.5962483140482255 Val Loss: 0.7264531944927416 Train Acc: 0.683319894090747 Val Acc: 0.5475828460038986\n",
      "Epoch 77 Train Loss: 0.5963875468578677 Val Loss: 0.7222348608468708 Train Acc: 0.6815019857985318 Val Acc: 0.552475633528265\n",
      "Epoch 78 Train Loss: 0.5953193137197808 Val Loss: 0.7209059000015259 Train Acc: 0.6840612588759197 Val Acc: 0.5550292397660819\n",
      "Epoch 79 Train Loss: 0.5957992114785748 Val Loss: 0.7155147916392276 Train Acc: 0.6831664460223863 Val Acc: 0.5538206627680311\n",
      "Epoch 80 Train Loss: 0.593544284762107 Val Loss: 0.713964725795545 Train Acc: 0.6857329401853419 Val Acc: 0.5519493177387915\n",
      "Epoch 81 Train Loss: 0.5927371853223445 Val Loss: 0.7256458872242978 Train Acc: 0.6859327235527758 Val Acc: 0.552475633528265\n",
      "Epoch 82 Train Loss: 0.593562735261893 Val Loss: 0.721055175128736 Train Acc: 0.6857473823564818 Val Acc: 0.5587134502923977\n",
      "Epoch 83 Train Loss: 0.594589206533665 Val Loss: 0.7184461449321947 Train Acc: 0.6849193645444721 Val Acc: 0.5596101364522418\n",
      "Epoch 84 Train Loss: 0.5906064939428601 Val Loss: 0.7229095258210835 Train Acc: 0.6870068600312935 Val Acc: 0.5558479532163743\n",
      "Epoch 85 Train Loss: 0.5921849561972887 Val Loss: 0.7204815368903311 Train Acc: 0.6879227343844034 Val Acc: 0.5571150097465888\n",
      "Epoch 86 Train Loss: 0.5916307044310437 Val Loss: 0.7214703936325876 Train Acc: 0.686423155614395 Val Acc: 0.5582651072124757\n",
      "Epoch 87 Train Loss: 0.5913987455241502 Val Loss: 0.723838768507305 Train Acc: 0.6878457094716585 Val Acc: 0.5547173489278753\n",
      "Epoch 88 Train Loss: 0.5878970415881429 Val Loss: 0.7240054450537029 Train Acc: 0.6900625827416061 Val Acc: 0.556374269005848\n",
      "Epoch 89 Train Loss: 0.5880556028483792 Val Loss: 0.7304295740629497 Train Acc: 0.6910867733782667 Val Acc: 0.549766081871345\n",
      "Epoch 90 Train Loss: 0.5908644962632164 Val Loss: 0.725781145848726 Train Acc: 0.6870802744012526 Val Acc: 0.5592397660818712\n",
      "Epoch 91 Train Loss: 0.5887015257046417 Val Loss: 0.7304146132971111 Train Acc: 0.6898182693464936 Val Acc: 0.5526120857699806\n",
      "Epoch 92 Train Loss: 0.5868181195345463 Val Loss: 0.7317670144532856 Train Acc: 0.6910452521362389 Val Acc: 0.5488888888888889\n",
      "Epoch 93 Train Loss: 0.5880103555916736 Val Loss: 0.7280665196870503 Train Acc: 0.6896527861355172 Val Acc: 0.5530604288499026\n",
      "Epoch 94 Train Loss: 0.5861921086468009 Val Loss: 0.7243042556863082 Train Acc: 0.6932988325911673 Val Acc: 0.5475828460038987\n",
      "Epoch 95 Train Loss: 0.5874123943384294 Val Loss: 0.7310304108418917 Train Acc: 0.6913250692020706 Val Acc: 0.5530799220272906\n",
      "Epoch 96 Train Loss: 0.5833376653071904 Val Loss: 0.7319166911275763 Train Acc: 0.6946190877361919 Val Acc: 0.5492592592592593\n",
      "Epoch 97 Train Loss: 0.5838245552883694 Val Loss: 0.728088234600268 Train Acc: 0.6931375616801063 Val Acc: 0.5544249512670566\n",
      "Epoch 98 Train Loss: 0.5826860169904415 Val Loss: 0.7288476260084855 Train Acc: 0.6954675652906507 Val Acc: 0.5495516569200779\n",
      "Epoch 99 Train Loss: 0.5829933003758621 Val Loss: 0.7272914302976508 Train Acc: 0.6955048742327609 Val Acc: 0.5562378167641325\n",
      "Epoch 100 Train Loss: 0.5830216104982275 Val Loss: 0.7241369078033849 Train Acc: 0.6939246600072229 Val Acc: 0.5540545808966861\n"
     ]
    }
   ],
   "source": [
    "print(\"Begin training.\")\n",
    "for e in (range(1, EPOCHS+1)):\n",
    "    \n",
    "    # TRAINING\n",
    "    train_epoch_loss = 0 # for loss tracking\n",
    "    train_epoch_acc = 0 #for acc traking\n",
    "    model.train()\n",
    "    \n",
    "    for X_train_batch, y_train_batch in train_loader:\n",
    "        X_train_batch, y_train_batch = X_train_batch.to(device), y_train_batch.to(device)\n",
    "        \n",
    "        optimizer.zero_grad()\n",
    "        \n",
    "        y_train_pred = model(X_train_batch)\n",
    "        \n",
    "        train_loss = criterion(y_train_pred, y_train_batch.float())\n",
    "        train_acc = multi_acc(y_train_pred, y_train_batch.float())\n",
    "        \n",
    "        train_loss.backward()\n",
    "        optimizer.step()\n",
    "        \n",
    "        train_epoch_loss += train_loss.item()\n",
    "        train_epoch_acc += train_acc.item()\n",
    "        \n",
    "    # VALIDATION    \n",
    "    with torch.no_grad():\n",
    "        \n",
    "        val_epoch_loss = 0\n",
    "        val_epoch_acc = 0\n",
    "        \n",
    "        model.eval()\n",
    "        for X_val_batch, y_val_batch in val_loader:\n",
    "            X_val_batch, y_val_batch = X_val_batch.to(device), y_val_batch.to(device)\n",
    "            \n",
    "            y_val_pred = model(X_val_batch)\n",
    "                        \n",
    "            val_loss = criterion(y_val_pred,y_val_batch.float())\n",
    "            val_acc = multi_acc(y_val_pred, y_val_batch.float())\n",
    "\n",
    "            \n",
    "            val_epoch_loss += val_loss.item()\n",
    "            val_epoch_acc += val_acc.item()\n",
    "            \n",
    "            \n",
    "    loss_stats['train'].append(train_epoch_loss/len(train_loader))\n",
    "    loss_stats['val'].append(val_epoch_loss/len(val_loader))\n",
    "    accuracy_stats['train'].append(train_epoch_acc/len(train_loader))\n",
    "    accuracy_stats['val'].append(val_epoch_acc/len(val_loader))\n",
    "                              \n",
    "  \n",
    "    print('Epoch',e,'Train Loss:',(train_epoch_loss/len(train_loader)),\n",
    "          'Val Loss:',(val_epoch_loss/len(val_loader)),\n",
    "          'Train Acc:',(train_epoch_acc/len(train_loader)),\n",
    "          'Val Acc:',(val_epoch_acc/len(val_loader)))\n",
    "    \n",
    "    stopping = (train_epoch_acc/len(train_loader)) - (val_epoch_acc/len(val_loader))\n",
    "    \n",
    "    if stopping >= 0.20:\n",
    "        model.eval()\n",
    "        print('Stopping Point due to Overfitting')\n",
    "        break"
   ]
  },
  {
   "cell_type": "code",
   "execution_count": 67,
   "metadata": {
    "ExecuteTime": {
     "end_time": "2021-01-03T11:59:53.660150Z",
     "start_time": "2021-01-03T11:59:53.501532Z"
    }
   },
   "outputs": [],
   "source": [
    "model.eval()\n",
    "torch.save(model, 'vgg19_model.pt')"
   ]
  },
  {
   "cell_type": "code",
   "execution_count": 68,
   "metadata": {
    "ExecuteTime": {
     "end_time": "2021-01-03T11:59:55.739914Z",
     "start_time": "2021-01-03T11:59:54.931158Z"
    }
   },
   "outputs": [
    {
     "data": {
      "image/png": "[encoded data removed]",
      "text/plain": [
       "<Figure size 1440x360 with 2 Axes>"
      ]
     },
     "metadata": {
      "needs_background": "light"
     },
     "output_type": "display_data"
    }
   ],
   "source": [
    "fig,ax = plt.subplots(1,2,figsize=(20,5))\n",
    "ax[0].plot(accuracy_stats['train'])\n",
    "ax[0].plot(accuracy_stats['val'])\n",
    "ax[0].set_title('Accuracy Plot',fontsize=20)\n",
    "ax[0].legend(['Train','Test'],fontsize=15)\n",
    "ax[1].plot(loss_stats['train'])\n",
    "ax[1].plot(loss_stats['val'])\n",
    "ax[1].set_title('Loss Plot',fontsize=20)\n",
    "ax[1].legend(['Train','Test'],fontsize=15)\n",
    "plt.suptitle('VGG19 Training Results',fontsize=25,color='blue')\n",
    "plt.tight_layout()\n",
    "plt.savefig('vgg19plot.png')\n",
    "plt.show()"
   ]
  },
  {
   "cell_type": "markdown",
   "metadata": {},
   "source": [
    "# MNASNET Training"
   ]
  },
  {
   "cell_type": "code",
   "execution_count": 69,
   "metadata": {
    "ExecuteTime": {
     "end_time": "2021-01-03T12:00:30.190081Z",
     "start_time": "2021-01-03T11:59:57.220247Z"
    }
   },
   "outputs": [
    {
     "name": "stdout",
     "output_type": "stream",
     "text": [
      "Trainset Shape:  (29664, 62720)\n",
      "Trainset Target Shape:  (29664,)\n",
      "Testset Shape:  (1854, 62720)\n",
      "Testset Target Shape:  (1854,)\n",
      "New Target Train shape:  (29664, 2)\n",
      "New Target Test shape:  (1854, 2)\n"
     ]
    }
   ],
   "source": [
    "X_train = np.load('mnas_features_train.npz')['arr_0']\n",
    "y_train = np.load('mnas_features_train.npz')['arr_1']\n",
    "X_test = np.load('mnas_features_test.npz')['arr_0']\n",
    "y_test = np.load('mnas_features_test.npz')['arr_1']\n",
    "\n",
    "print('Trainset Shape: ',X_train.shape)\n",
    "print('Trainset Target Shape: ',y_train.shape)\n",
    "print('Testset Shape: ',X_test.shape)\n",
    "print('Testset Target Shape: ',y_test.shape)\n",
    "\n",
    "y_train = to_categorical(np.reshape(y_train,(y_train.shape[0],1)))\n",
    "print('New Target Train shape: ',y_train.shape)\n",
    "\n",
    "y_test = to_categorical(np.reshape(y_test,(y_test.shape[0],1)))\n",
    "print('New Target Test shape: ',y_test.shape)"
   ]
  },
  {
   "cell_type": "code",
   "execution_count": 70,
   "metadata": {
    "ExecuteTime": {
     "end_time": "2021-01-03T12:00:30.859992Z",
     "start_time": "2021-01-03T12:00:30.200474Z"
    }
   },
   "outputs": [],
   "source": [
    "train_dataset = ClassifierDataset(torch.from_numpy(X_train).float(), torch.from_numpy(y_train).long())\n",
    "val_dataset = ClassifierDataset(torch.from_numpy(X_test).float(), torch.from_numpy(y_test).long())\n",
    "\n",
    "accuracy_stats = {'train': [],\"val\": []}\n",
    "loss_stats = {'train': [],\"val\": []}\n",
    "\n",
    "EPOCHS = 100\n",
    "\n",
    "BATCH_SIZE = 100\n",
    "\n",
    "train_loader = DataLoader(dataset=train_dataset,batch_size=BATCH_SIZE,shuffle=True)\n",
    "val_loader = DataLoader(dataset=val_dataset, batch_size=BATCH_SIZE,shuffle=True)"
   ]
  },
  {
   "cell_type": "code",
   "execution_count": 75,
   "metadata": {
    "ExecuteTime": {
     "end_time": "2021-01-03T12:03:06.783824Z",
     "start_time": "2021-01-03T12:03:06.724118Z"
    }
   },
   "outputs": [],
   "source": [
    "model = torch.nn.Sequential(\n",
    "        torch.nn.Linear(X_train.shape[1], 128),\n",
    "        torch.nn.Tanh(),\n",
    "        torch.nn.Dropout(0.8), # intializing the big dropout amount to reduce overfitting significantly\n",
    "        torch.nn.Linear(128, 2),\n",
    "        torch.nn.Sigmoid()\n",
    ")\n",
    "model.to(device)\n",
    "criterion = torch.nn.BCELoss()\n",
    "optimizer = torch.optim.Adam(model.parameters(), lr=0.0005)"
   ]
  },
  {
   "cell_type": "code",
   "execution_count": 76,
   "metadata": {
    "ExecuteTime": {
     "end_time": "2021-01-03T12:14:14.035229Z",
     "start_time": "2021-01-03T12:03:07.226720Z"
    }
   },
   "outputs": [
    {
     "name": "stdout",
     "output_type": "stream",
     "text": [
      "Begin training.\n",
      "Epoch 1 Train Loss: 0.7547056151158882 Val Loss: 0.6935016042307803 Train Acc: 0.5058059764309761 Val Acc: 0.4854191033138402\n",
      "Epoch 2 Train Loss: 0.7018468462256872 Val Loss: 0.6929480088384528 Train Acc: 0.5000105218855222 Val Acc: 0.5115204678362574\n",
      "Epoch 3 Train Loss: 0.6952353452993965 Val Loss: 0.6927538388653806 Train Acc: 0.5017718855218852 Val Acc: 0.5146588693957115\n",
      "Epoch 4 Train Loss: 0.6947591822556775 Val Loss: 0.6929654886848048 Train Acc: 0.5001662457912459 Val Acc: 0.5155555555555555\n",
      "Epoch 5 Train Loss: 0.6946560170514013 Val Loss: 0.6928093998055709 Train Acc: 0.5046969696969698 Val Acc: 0.5133138401559454\n",
      "Epoch 6 Train Loss: 0.6949518312910189 Val Loss: 0.6928963943531639 Train Acc: 0.5000589225589226 Val Acc: 0.5124171539961013\n",
      "Epoch 7 Train Loss: 0.6949625428678211 Val Loss: 0.6966106640665155 Train Acc: 0.5003177609427606 Val Acc: 0.48309941520467836\n",
      "Epoch 8 Train Loss: 0.6946370206296645 Val Loss: 0.6927441107599359 Train Acc: 0.5033375420875422 Val Acc: 0.5142105263157895\n",
      "Epoch 9 Train Loss: 0.6947569580190511 Val Loss: 0.6936695544343245 Train Acc: 0.5027861952861953 Val Acc: 0.48534113060428846\n",
      "Epoch 10 Train Loss: 0.6947971048579874 Val Loss: 0.6930447377656636 Train Acc: 0.49974537037037026 Val Acc: 0.5133138401559454\n",
      "Epoch 11 Train Loss: 0.6945127581907844 Val Loss: 0.6944763974139565 Train Acc: 0.5051515151515154 Val Acc: 0.4844444444444445\n",
      "Epoch 12 Train Loss: 0.6948206627409065 Val Loss: 0.6941829261026884 Train Acc: 0.5024284511784515 Val Acc: 0.5142105263157895\n",
      "Epoch 13 Train Loss: 0.6946224389654218 Val Loss: 0.6927148856614765 Train Acc: 0.5031544612794616 Val Acc: 0.5146588693957116\n",
      "Epoch 14 Train Loss: 0.6947352177767642 Val Loss: 0.6925461041299921 Train Acc: 0.5008228114478116 Val Acc: 0.5173489278752437\n",
      "Epoch 15 Train Loss: 0.694797016956188 Val Loss: 0.6930503656989649 Train Acc: 0.49906565656565616 Val Acc: 0.5133138401559454\n",
      "Epoch 16 Train Loss: 0.6948480461582993 Val Loss: 0.6927550372324491 Train Acc: 0.500105218855219 Val Acc: 0.5142105263157896\n",
      "Epoch 17 Train Loss: 0.6948124898804559 Val Loss: 0.6943337164427105 Train Acc: 0.50525462962963 Val Acc: 0.4871345029239766\n",
      "Epoch 18 Train Loss: 0.6948568397499495 Val Loss: 0.6941967763398823 Train Acc: 0.500309343434343 Val Acc: 0.4862378167641325\n",
      "Epoch 19 Train Loss: 0.6948289455789508 Val Loss: 0.6934654116630554 Train Acc: 0.5017718855218853 Val Acc: 0.5137621832358674\n",
      "Epoch 20 Train Loss: 0.6948035048314618 Val Loss: 0.6927369080091778 Train Acc: 0.5000252525252524 Val Acc: 0.5151072124756334\n",
      "Epoch 21 Train Loss: 0.6950214683808863 Val Loss: 0.6925704259621469 Train Acc: 0.5008417508417505 Val Acc: 0.5173489278752437\n",
      "Epoch 22 Train Loss: 0.6948887655630658 Val Loss: 0.6934500179792705 Train Acc: 0.5023737373737374 Val Acc: 0.5128654970760235\n",
      "Epoch 23 Train Loss: 0.6947070053129485 Val Loss: 0.6930194026545474 Train Acc: 0.5037984006734005 Val Acc: 0.5137621832358675\n",
      "Epoch 24 Train Loss: 0.6951690938336279 Val Loss: 0.6941719557109632 Train Acc: 0.5014583333333333 Val Acc: 0.48444444444444446\n",
      "Epoch 25 Train Loss: 0.6950349601029547 Val Loss: 0.6929137016597547 Train Acc: 0.49766835016835037 Val Acc: 0.5146588693957114\n",
      "Epoch 26 Train Loss: 0.6949846883012791 Val Loss: 0.6928711909996835 Train Acc: 0.5007659932659928 Val Acc: 0.5142105263157895\n",
      "Epoch 27 Train Loss: 0.6947169930043847 Val Loss: 0.6937535687496788 Train Acc: 0.5002714646464645 Val Acc: 0.5142105263157895\n",
      "Epoch 28 Train Loss: 0.6943803674444206 Val Loss: 0.6942218416615537 Train Acc: 0.5053914141414143 Val Acc: 0.5110721247563352\n",
      "Epoch 29 Train Loss: 0.6948568556043837 Val Loss: 0.6929063953851399 Train Acc: 0.5031439393939391 Val Acc: 0.5169005847953215\n",
      "Epoch 30 Train Loss: 0.6945608420805498 Val Loss: 0.6936414273161637 Train Acc: 0.5028472222222228 Val Acc: 0.48578947368421055\n",
      "Epoch 31 Train Loss: 0.6942653930949844 Val Loss: 0.6926663110130712 Train Acc: 0.5076767676767678 Val Acc: 0.5155555555555554\n",
      "Epoch 32 Train Loss: 0.6948903548195707 Val Loss: 0.6935841064704092 Train Acc: 0.5024494949494951 Val Acc: 0.48803118908382076\n",
      "Epoch 33 Train Loss: 0.6952149653274202 Val Loss: 0.6925537868549949 Train Acc: 0.4991014309764309 Val Acc: 0.5173489278752437\n",
      "Epoch 34 Train Loss: 0.6945901924512202 Val Loss: 0.6933586252363104 Train Acc: 0.500965909090909 Val Acc: 0.48399610136452237\n",
      "Epoch 35 Train Loss: 0.69489748309357 Val Loss: 0.6927831925843891 Train Acc: 0.5006060606060607 Val Acc: 0.5155555555555555\n",
      "Epoch 36 Train Loss: 0.6948002534683304 Val Loss: 0.6931825907606828 Train Acc: 0.5048779461279463 Val Acc: 0.4853411306042884\n",
      "Epoch 37 Train Loss: 0.6947587527811326 Val Loss: 0.6927207708358765 Train Acc: 0.49706018518518486 Val Acc: 0.5146588693957115\n",
      "Epoch 38 Train Loss: 0.6944385172943475 Val Loss: 0.6954165352018256 Train Acc: 0.5050547138047138 Val Acc: 0.4875828460038986\n",
      "Epoch 39 Train Loss: 0.6949580845608053 Val Loss: 0.6933027223536843 Train Acc: 0.5027356902356902 Val Acc: 0.48758284600389873\n",
      "Epoch 40 Train Loss: 0.6945158787046619 Val Loss: 0.692975640296936 Train Acc: 0.5036595117845116 Val Acc: 0.5137621832358674\n",
      "Epoch 41 Train Loss: 0.6946331188333557 Val Loss: 0.6927691823557803 Train Acc: 0.501727693602693 Val Acc: 0.5137621832358675\n",
      "Epoch 42 Train Loss: 0.6942407380450856 Val Loss: 0.6928240343144065 Train Acc: 0.5053051346801346 Val Acc: 0.5151072124756336\n",
      "Epoch 43 Train Loss: 0.695492279649985 Val Loss: 0.6926540387304205 Train Acc: 0.49713594276094236 Val Acc: 0.5160038986354776\n",
      "Epoch 44 Train Loss: 0.69490312747281 Val Loss: 0.6927523832572134 Train Acc: 0.500313552188552 Val Acc: 0.5146588693957115\n",
      "Epoch 45 Train Loss: 0.6942317722622393 Val Loss: 0.6945071973298725 Train Acc: 0.5057765151515152 Val Acc: 0.4839961013645225\n",
      "Epoch 46 Train Loss: 0.6950485086200213 Val Loss: 0.6931926294376975 Train Acc: 0.5000147306397303 Val Acc: 0.4866861598440546\n",
      "Epoch 47 Train Loss: 0.6947142712596289 Val Loss: 0.6934945238263983 Train Acc: 0.4993707912457912 Val Acc: 0.4853411306042884\n",
      "Epoch 48 Train Loss: 0.6950531953111642 Val Loss: 0.692803210333774 Train Acc: 0.49890782828282854 Val Acc: 0.5160038986354776\n",
      "Epoch 49 Train Loss: 0.6945297571545097 Val Loss: 0.6949423582930314 Train Acc: 0.50643728956229 Val Acc: 0.48444444444444434\n",
      "Epoch 50 Train Loss: 0.6945480744445364 Val Loss: 0.6931726085512262 Train Acc: 0.5083838383838385 Val Acc: 0.48534113060428846\n",
      "Epoch 51 Train Loss: 0.6947785304853009 Val Loss: 0.6939246027093184 Train Acc: 0.5041708754208756 Val Acc: 0.4844444444444445\n",
      "Epoch 52 Train Loss: 0.6947710652544041 Val Loss: 0.693352106370424 Train Acc: 0.500909090909091 Val Acc: 0.5155555555555554\n",
      "Epoch 53 Train Loss: 0.694703914902427 Val Loss: 0.6926447717767013 Train Acc: 0.5008249158249161 Val Acc: 0.5160038986354776\n",
      "Epoch 54 Train Loss: 0.6947541746627602 Val Loss: 0.6926562880214892 Train Acc: 0.5041161616161619 Val Acc: 0.5164522417153995\n",
      "Epoch 55 Train Loss: 0.6945938319469542 Val Loss: 0.6928000763842934 Train Acc: 0.5055723905723903 Val Acc: 0.5146588693957115\n",
      "Epoch 56 Train Loss: 0.6949985832076282 Val Loss: 0.6930605392707022 Train Acc: 0.5002314814814818 Val Acc: 0.5142105263157896\n",
      "Epoch 57 Train Loss: 0.6947665228586807 Val Loss: 0.6929777170482435 Train Acc: 0.5027167508417508 Val Acc: 0.5133138401559454\n",
      "Epoch 58 Train Loss: 0.6949340719165225 Val Loss: 0.6928471954245317 Train Acc: 0.5018581649831649 Val Acc: 0.5155555555555554\n",
      "Epoch 59 Train Loss: 0.6948080783339863 Val Loss: 0.6930469776454725 Train Acc: 0.5010690235690235 Val Acc: 0.5160038986354776\n",
      "Epoch 60 Train Loss: 0.6946350582922348 Val Loss: 0.6929188621671576 Train Acc: 0.5040698653198651 Val Acc: 0.5155555555555555\n",
      "Epoch 61 Train Loss: 0.6953575275963806 Val Loss: 0.6930377671593114 Train Acc: 0.49638257575757594 Val Acc: 0.5119688109161793\n",
      "Epoch 62 Train Loss: 0.6946944712789773 Val Loss: 0.6953579940293965 Train Acc: 0.5004398148148148 Val Acc: 0.48444444444444446\n",
      "Epoch 63 Train Loss: 0.6945707155799223 Val Loss: 0.6929539034241124 Train Acc: 0.5038973063973062 Val Acc: 0.5146588693957116\n",
      "Epoch 64 Train Loss: 0.6946124370250638 Val Loss: 0.6928802571798626 Train Acc: 0.504324494949495 Val Acc: 0.5133138401559455\n",
      "Epoch 65 Train Loss: 0.6943932422483811 Val Loss: 0.6927175051287601 Train Acc: 0.505416666666667 Val Acc: 0.5155555555555555\n"
     ]
    },
    {
     "name": "stdout",
     "output_type": "stream",
     "text": [
      "Epoch 66 Train Loss: 0.6951715075207078 Val Loss: 0.693538929286756 Train Acc: 0.4958249158249158 Val Acc: 0.5119688109161793\n",
      "Epoch 67 Train Loss: 0.6945665253934635 Val Loss: 0.6927398600076374 Train Acc: 0.5044823232323232 Val Acc: 0.5146588693957115\n",
      "Epoch 68 Train Loss: 0.6944650662467134 Val Loss: 0.6930344763555025 Train Acc: 0.5042150673400674 Val Acc: 0.5124171539961013\n",
      "Epoch 69 Train Loss: 0.6951493911871605 Val Loss: 0.6933967973056593 Train Acc: 0.4971401515151517 Val Acc: 0.5137621832358675\n",
      "Epoch 70 Train Loss: 0.6947785529624734 Val Loss: 0.6928054188427172 Train Acc: 0.4988552188552191 Val Acc: 0.5160038986354776\n",
      "Epoch 71 Train Loss: 0.6952181651134683 Val Loss: 0.6927922838612607 Train Acc: 0.4999053030303028 Val Acc: 0.5173489278752438\n",
      "Epoch 72 Train Loss: 0.6947179320284012 Val Loss: 0.6927772854503832 Train Acc: 0.5019149831649831 Val Acc: 0.5142105263157896\n",
      "Epoch 73 Train Loss: 0.6944446643996319 Val Loss: 0.6929350589451037 Train Acc: 0.5048127104377103 Val Acc: 0.5151072124756336\n",
      "Epoch 74 Train Loss: 0.6943961512360107 Val Loss: 0.6928558757430628 Train Acc: 0.5048968855218854 Val Acc: 0.5124171539961013\n",
      "Epoch 75 Train Loss: 0.694809655749838 Val Loss: 0.6928060337116844 Train Acc: 0.5028766835016835 Val Acc: 0.5160038986354776\n",
      "Epoch 76 Train Loss: 0.6950246077595335 Val Loss: 0.6937132697356375 Train Acc: 0.498036616161616 Val Acc: 0.48578947368421055\n",
      "Epoch 77 Train Loss: 0.694637140039643 Val Loss: 0.6927337960193032 Train Acc: 0.5074494949494951 Val Acc: 0.5146588693957116\n",
      "Epoch 78 Train Loss: 0.6945652108802538 Val Loss: 0.6927517056465149 Train Acc: 0.5032891414141414 Val Acc: 0.5146588693957116\n",
      "Epoch 79 Train Loss: 0.694559658617283 Val Loss: 0.6937184929847717 Train Acc: 0.5051767676767679 Val Acc: 0.5151072124756335\n",
      "Epoch 80 Train Loss: 0.6948116652491919 Val Loss: 0.6927933128256547 Train Acc: 0.5043707912457911 Val Acc: 0.5146588693957116\n",
      "Epoch 81 Train Loss: 0.6940308821321738 Val Loss: 0.6957456845986215 Train Acc: 0.5083838383838384 Val Acc: 0.4835477582846004\n",
      "Epoch 82 Train Loss: 0.6955223081489204 Val Loss: 0.6946050305115549 Train Acc: 0.4994991582491584 Val Acc: 0.5133138401559454\n",
      "Epoch 83 Train Loss: 0.6946844932206151 Val Loss: 0.6927609820114938 Train Acc: 0.5013383838383837 Val Acc: 0.5151072124756335\n",
      "Epoch 84 Train Loss: 0.6949291040600349 Val Loss: 0.693853077135588 Train Acc: 0.5029629629629634 Val Acc: 0.5133138401559455\n",
      "Epoch 85 Train Loss: 0.6944578801742708 Val Loss: 0.6926892399787903 Train Acc: 0.500951178451178 Val Acc: 0.5164522417153997\n",
      "Epoch 86 Train Loss: 0.6946425959718749 Val Loss: 0.6937982408623946 Train Acc: 0.5029250841750842 Val Acc: 0.48309941520467825\n",
      "Epoch 87 Train Loss: 0.6945093043324121 Val Loss: 0.693169819681268 Train Acc: 0.5034111952861956 Val Acc: 0.48623781676413264\n",
      "Epoch 88 Train Loss: 0.6949509271868953 Val Loss: 0.69302205035561 Train Acc: 0.5030429292929292 Val Acc: 0.5160038986354776\n",
      "Epoch 89 Train Loss: 0.6948313367888582 Val Loss: 0.6928507403323525 Train Acc: 0.5023000841750841 Val Acc: 0.5151072124756335\n",
      "Epoch 90 Train Loss: 0.6949969269209839 Val Loss: 0.6927520224922582 Train Acc: 0.5001346801346799 Val Acc: 0.5160038986354776\n",
      "Epoch 91 Train Loss: 0.6946029231604502 Val Loss: 0.6929251739853307 Train Acc: 0.49844696969696967 Val Acc: 0.5146588693957115\n",
      "Epoch 92 Train Loss: 0.6951082118031152 Val Loss: 0.6928805552030864 Train Acc: 0.49947601010101006 Val Acc: 0.5169005847953215\n",
      "Epoch 93 Train Loss: 0.6947730119380887 Val Loss: 0.6928681292031941 Train Acc: 0.5014941077441076 Val Acc: 0.5155555555555555\n",
      "Epoch 94 Train Loss: 0.6946255426214198 Val Loss: 0.6928068148462396 Train Acc: 0.502929292929293 Val Acc: 0.5155555555555555\n",
      "Epoch 95 Train Loss: 0.6947250362197157 Val Loss: 0.692865230535206 Train Acc: 0.5032218013468014 Val Acc: 0.5142105263157893\n",
      "Epoch 96 Train Loss: 0.6947358007784243 Val Loss: 0.6929347891556589 Train Acc: 0.5013552188552186 Val Acc: 0.5137621832358674\n",
      "Epoch 97 Train Loss: 0.6943697263094712 Val Loss: 0.6933227589255885 Train Acc: 0.5045033670033673 Val Acc: 0.5146588693957115\n",
      "Epoch 98 Train Loss: 0.6950874075745092 Val Loss: 0.6928588842090807 Train Acc: 0.5020307239057242 Val Acc: 0.5128654970760235\n",
      "Epoch 99 Train Loss: 0.6946787994718712 Val Loss: 0.6930017220346552 Train Acc: 0.5016687710437712 Val Acc: 0.5124171539961013\n",
      "Epoch 100 Train Loss: 0.6946202171370638 Val Loss: 0.6935728349183735 Train Acc: 0.5007007575757573 Val Acc: 0.5128654970760235\n"
     ]
    }
   ],
   "source": [
    "print(\"Begin training.\")\n",
    "for e in (range(1, EPOCHS+1)):\n",
    "    \n",
    "    # TRAINING\n",
    "    train_epoch_loss = 0 # for loss tracking\n",
    "    train_epoch_acc = 0 #for acc traking\n",
    "    model.train()\n",
    "    \n",
    "    for X_train_batch, y_train_batch in train_loader:\n",
    "        X_train_batch, y_train_batch = X_train_batch.to(device), y_train_batch.to(device)\n",
    "        \n",
    "        optimizer.zero_grad()\n",
    "        \n",
    "        y_train_pred = model(X_train_batch)\n",
    "        \n",
    "        train_loss = criterion(y_train_pred, y_train_batch.float())\n",
    "        train_acc = multi_acc(y_train_pred, y_train_batch.float())\n",
    "        \n",
    "        train_loss.backward()\n",
    "        optimizer.step()\n",
    "        \n",
    "        train_epoch_loss += train_loss.item()\n",
    "        train_epoch_acc += train_acc.item()\n",
    "        \n",
    "    # VALIDATION    \n",
    "    with torch.no_grad():\n",
    "        \n",
    "        val_epoch_loss = 0\n",
    "        val_epoch_acc = 0\n",
    "        \n",
    "        model.eval()\n",
    "        for X_val_batch, y_val_batch in val_loader:\n",
    "            X_val_batch, y_val_batch = X_val_batch.to(device), y_val_batch.to(device)\n",
    "            \n",
    "            y_val_pred = model(X_val_batch)\n",
    "                        \n",
    "            val_loss = criterion(y_val_pred,y_val_batch.float())\n",
    "            val_acc = multi_acc(y_val_pred, y_val_batch.float())\n",
    "\n",
    "            \n",
    "            val_epoch_loss += val_loss.item()\n",
    "            val_epoch_acc += val_acc.item()\n",
    "            \n",
    "            \n",
    "    loss_stats['train'].append(train_epoch_loss/len(train_loader))\n",
    "    loss_stats['val'].append(val_epoch_loss/len(val_loader))\n",
    "    accuracy_stats['train'].append(train_epoch_acc/len(train_loader))\n",
    "    accuracy_stats['val'].append(val_epoch_acc/len(val_loader))\n",
    "                              \n",
    "  \n",
    "    print('Epoch',e,'Train Loss:',(train_epoch_loss/len(train_loader)),\n",
    "          'Val Loss:',(val_epoch_loss/len(val_loader)),\n",
    "          'Train Acc:',(train_epoch_acc/len(train_loader)),\n",
    "          'Val Acc:',(val_epoch_acc/len(val_loader)))\n",
    "    \n",
    "    stopping = (train_epoch_acc/len(train_loader)) - (val_epoch_acc/len(val_loader))\n",
    "    \n",
    "    if stopping >= 0.20:\n",
    "        model.eval()\n",
    "        print('Stopping Point due to Overfitting')\n",
    "        break"
   ]
  },
  {
   "cell_type": "code",
   "execution_count": 77,
   "metadata": {
    "ExecuteTime": {
     "end_time": "2021-01-03T12:18:14.564555Z",
     "start_time": "2021-01-03T12:18:14.420074Z"
    }
   },
   "outputs": [],
   "source": [
    "model.eval()\n",
    "torch.save(model, 'mnas_model.pt')"
   ]
  },
  {
   "cell_type": "code",
   "execution_count": 78,
   "metadata": {
    "ExecuteTime": {
     "end_time": "2021-01-03T12:18:15.608223Z",
     "start_time": "2021-01-03T12:18:15.161492Z"
    }
   },
   "outputs": [
    {
     "data": {
      "image/png": "[encoded data removed]",
      "text/plain": [
       "<Figure size 1440x360 with 2 Axes>"
      ]
     },
     "metadata": {
      "needs_background": "light"
     },
     "output_type": "display_data"
    }
   ],
   "source": [
    "fig,ax = plt.subplots(1,2,figsize=(20,5))\n",
    "ax[0].plot(accuracy_stats['train'])\n",
    "ax[0].plot(accuracy_stats['val'])\n",
    "ax[0].set_title('Accuracy Plot',fontsize=20)\n",
    "ax[0].legend(['Train','Test'],fontsize=15)\n",
    "ax[0].set_xlabel('Epochs',fontsize=15)\n",
    "ax[1].plot(loss_stats['train'])\n",
    "ax[1].plot(loss_stats['val'])\n",
    "ax[1].set_title('Loss Plot',fontsize=20)\n",
    "ax[1].legend(['Train','Test'],fontsize=15)\n",
    "ax[1].set_xlabel('Epochs',fontsize=15)\n",
    "plt.suptitle('MNASNET Training Results',fontsize=25,color='blue')\n",
    "plt.tight_layout()\n",
    "plt.savefig('mnasplot.png')\n",
    "plt.show()"
   ]
  },
  {
   "cell_type": "markdown",
   "metadata": {},
   "source": [
    "# DENSENET Training"
   ]
  },
  {
   "cell_type": "code",
   "execution_count": 79,
   "metadata": {
    "ExecuteTime": {
     "end_time": "2021-01-03T12:19:11.257009Z",
     "start_time": "2021-01-03T12:18:34.962177Z"
    }
   },
   "outputs": [
    {
     "name": "stdout",
     "output_type": "stream",
     "text": [
      "Trainset Shape:  (29664, 50176)\n",
      "Trainset Target Shape:  (29664,)\n",
      "Testset Shape:  (1854, 50176)\n",
      "Testset Target Shape:  (1854,)\n",
      "New Target Train shape:  (29664, 2)\n",
      "New Target Test shape:  (1854, 2)\n"
     ]
    }
   ],
   "source": [
    "X_train = np.load('densenet121_features_train.npz')['arr_0']\n",
    "y_train = np.load('densenet121_features_train.npz')['arr_1']\n",
    "X_test = np.load('densenet121_features_test.npz')['arr_0']\n",
    "y_test = np.load('densenet121_features_test.npz')['arr_1']\n",
    "\n",
    "print('Trainset Shape: ',X_train.shape)\n",
    "print('Trainset Target Shape: ',y_train.shape)\n",
    "print('Testset Shape: ',X_test.shape)\n",
    "print('Testset Target Shape: ',y_test.shape)\n",
    "\n",
    "y_train = to_categorical(np.reshape(y_train,(y_train.shape[0],1)))\n",
    "print('New Target Train shape: ',y_train.shape)\n",
    "\n",
    "y_test = to_categorical(np.reshape(y_test,(y_test.shape[0],1)))\n",
    "print('New Target Test shape: ',y_test.shape)"
   ]
  },
  {
   "cell_type": "code",
   "execution_count": 80,
   "metadata": {
    "ExecuteTime": {
     "end_time": "2021-01-03T12:19:11.762396Z",
     "start_time": "2021-01-03T12:19:11.259001Z"
    }
   },
   "outputs": [],
   "source": [
    "train_dataset = ClassifierDataset(torch.from_numpy(X_train).float(), torch.from_numpy(y_train).long())\n",
    "val_dataset = ClassifierDataset(torch.from_numpy(X_test).float(), torch.from_numpy(y_test).long())\n",
    "\n",
    "accuracy_stats = {'train': [],\"val\": []}\n",
    "loss_stats = {'train': [],\"val\": []}\n",
    "\n",
    "EPOCHS = 100\n",
    "\n",
    "BATCH_SIZE = 100\n",
    "\n",
    "train_loader = DataLoader(dataset=train_dataset,batch_size=BATCH_SIZE,shuffle=True)\n",
    "val_loader = DataLoader(dataset=val_dataset, batch_size=BATCH_SIZE,shuffle=True)"
   ]
  },
  {
   "cell_type": "code",
   "execution_count": 81,
   "metadata": {
    "ExecuteTime": {
     "end_time": "2021-01-03T12:19:11.856698Z",
     "start_time": "2021-01-03T12:19:11.763315Z"
    }
   },
   "outputs": [],
   "source": [
    "model = torch.nn.Sequential(\n",
    "        torch.nn.Linear(X_train.shape[1], 128),\n",
    "        torch.nn.Tanh(),\n",
    "        torch.nn.Dropout(0.8),\n",
    "        torch.nn.Linear(128, 2),\n",
    "        torch.nn.Sigmoid()\n",
    ")\n",
    "model.to(device)\n",
    "criterion = torch.nn.BCELoss()\n",
    "optimizer = torch.optim.Adam(model.parameters(), lr=0.0005)"
   ]
  },
  {
   "cell_type": "code",
   "execution_count": 82,
   "metadata": {
    "ExecuteTime": {
     "end_time": "2021-01-03T12:28:19.417261Z",
     "start_time": "2021-01-03T12:19:11.858106Z"
    }
   },
   "outputs": [
    {
     "name": "stdout",
     "output_type": "stream",
     "text": [
      "Begin training.\n",
      "Epoch 1 Train Loss: 0.7619478734655413 Val Loss: 0.6920454282509653 Train Acc: 0.5082449494949492 Val Acc: 0.5357115009746588\n",
      "Epoch 2 Train Loss: 0.7012215521600511 Val Loss: 0.6907789017024794 Train Acc: 0.5142508417508421 Val Acc: 0.5638206627680312\n",
      "Epoch 3 Train Loss: 0.6924497426961006 Val Loss: 0.6906446563570123 Train Acc: 0.5243644781144784 Val Acc: 0.5329434697855749\n",
      "Epoch 4 Train Loss: 0.6905172134087945 Val Loss: 0.6874992941555224 Train Acc: 0.530498737373737 Val Acc: 0.5575828460038986\n",
      "Epoch 5 Train Loss: 0.6900418635570642 Val Loss: 0.6880496803082918 Train Acc: 0.5327293771043776 Val Acc: 0.5567641325536062\n",
      "Epoch 6 Train Loss: 0.6902330347183177 Val Loss: 0.6890477789075751 Train Acc: 0.532582070707071 Val Acc: 0.5558674463937623\n",
      "Epoch 7 Train Loss: 0.6883389803295585 Val Loss: 0.6888294408195897 Train Acc: 0.5391329966329966 Val Acc: 0.5444249512670566\n",
      "Epoch 8 Train Loss: 0.6859329374952349 Val Loss: 0.691529044979497 Train Acc: 0.5466287878787885 Val Acc: 0.5118713450292398\n",
      "Epoch 9 Train Loss: 0.6864303109621761 Val Loss: 0.6870123336189672 Train Acc: 0.5471443602693606 Val Acc: 0.5608187134502924\n",
      "Epoch 10 Train Loss: 0.686414299789904 Val Loss: 0.6897428318073875 Train Acc: 0.5458249158249162 Val Acc: 0.5248927875243665\n",
      "Epoch 11 Train Loss: 0.6844947484607247 Val Loss: 0.6894429796620419 Train Acc: 0.5546675084175083 Val Acc: 0.5296101364522418\n",
      "Epoch 12 Train Loss: 0.6828793084581292 Val Loss: 0.6907563209533691 Train Acc: 0.5587079124579125 Val Acc: 0.5278752436647173\n",
      "Epoch 13 Train Loss: 0.6825615811829615 Val Loss: 0.689207274662821 Train Acc: 0.5583922558922555 Val Acc: 0.5527680311890838\n",
      "Epoch 14 Train Loss: 0.6815062673003586 Val Loss: 0.6873976305911416 Train Acc: 0.5659638047138051 Val Acc: 0.5518713450292398\n",
      "Epoch 15 Train Loss: 0.6795475191941567 Val Loss: 0.6876510287586012 Train Acc: 0.5662058080808082 Val Acc: 0.5508187134502924\n",
      "Epoch 16 Train Loss: 0.6779621428110784 Val Loss: 0.6875633189552709 Train Acc: 0.5662878787878792 Val Acc: 0.5560038986354776\n",
      "Epoch 17 Train Loss: 0.6788839224211696 Val Loss: 0.6916769523369638 Train Acc: 0.5710542929292926 Val Acc: 0.5375048732943472\n",
      "Epoch 18 Train Loss: 0.6770368971005835 Val Loss: 0.6875922962238914 Train Acc: 0.569229797979798 Val Acc: 0.5604483430799221\n",
      "Epoch 19 Train Loss: 0.6783628136621983 Val Loss: 0.6883943237756428 Train Acc: 0.5697285353535352 Val Acc: 0.5417933723196883\n",
      "Epoch 20 Train Loss: 0.6767006620814905 Val Loss: 0.6916130310610721 Train Acc: 0.5730008417508421 Val Acc: 0.5337426900584795\n",
      "Epoch 21 Train Loss: 0.6788169103439408 Val Loss: 0.688876842197619 Train Acc: 0.5677062289562298 Val Acc: 0.5376413255360624\n",
      "Epoch 22 Train Loss: 0.6719018622279569 Val Loss: 0.6891529183638724 Train Acc: 0.5825568181818187 Val Acc: 0.5369785575048734\n",
      "Epoch 23 Train Loss: 0.6739658964202059 Val Loss: 0.6889499331775465 Train Acc: 0.5775021043771048 Val Acc: 0.5376608187134503\n",
      "Epoch 24 Train Loss: 0.6724727765879647 Val Loss: 0.6899846980446264 Train Acc: 0.5827272727272732 Val Acc: 0.5378947368421052\n",
      "Epoch 25 Train Loss: 0.6701850060260657 Val Loss: 0.6909728520794919 Train Acc: 0.5869297138047138 Val Acc: 0.5341520467836257\n",
      "Epoch 26 Train Loss: 0.6690782035641397 Val Loss: 0.6912775698461031 Train Acc: 0.5861553030303034 Val Acc: 0.5180506822612085\n",
      "Epoch 27 Train Loss: 0.6686550814294655 Val Loss: 0.6903270953579953 Train Acc: 0.586824494949495 Val Acc: 0.5421637426900584\n",
      "Epoch 28 Train Loss: 0.6671989000204838 Val Loss: 0.6879832838710985 Train Acc: 0.5947032828282829 Val Acc: 0.5414230019493176\n",
      "Epoch 29 Train Loss: 0.668843458999287 Val Loss: 0.6923458262493736 Train Acc: 0.5885648148148152 Val Acc: 0.5257309941520468\n",
      "Epoch 30 Train Loss: 0.6611922718459107 Val Loss: 0.6898551112727115 Train Acc: 0.600589225589226 Val Acc: 0.5414230019493177\n",
      "Epoch 31 Train Loss: 0.6640573095793676 Val Loss: 0.6895372208796049 Train Acc: 0.596689814814815 Val Acc: 0.5537426900584794\n",
      "Epoch 32 Train Loss: 0.6628976584684969 Val Loss: 0.6877202736703973 Train Acc: 0.6017550505050512 Val Acc: 0.5509746588693957\n",
      "Epoch 33 Train Loss: 0.6593215184580998 Val Loss: 0.6873569959088376 Train Acc: 0.607314814814815 Val Acc: 0.5571345029239767\n",
      "Epoch 34 Train Loss: 0.6642065584057509 Val Loss: 0.6891862122636092 Train Acc: 0.5972474747474752 Val Acc: 0.5363742690058481\n",
      "Epoch 35 Train Loss: 0.6634531595088817 Val Loss: 0.6883627929185566 Train Acc: 0.5994886363636364 Val Acc: 0.5430019493177387\n",
      "Epoch 36 Train Loss: 0.6597666355094525 Val Loss: 0.6921798900554055 Train Acc: 0.6075294612794616 Val Acc: 0.5435282651072125\n",
      "Epoch 37 Train Loss: 0.6594046928264476 Val Loss: 0.6875500929983038 Train Acc: 0.6062331649831653 Val Acc: 0.5451851851851852\n",
      "Epoch 38 Train Loss: 0.6627974271372914 Val Loss: 0.6871574740660819 Train Acc: 0.60361531986532 Val Acc: 0.5542884990253413\n",
      "Epoch 39 Train Loss: 0.6597552395830251 Val Loss: 0.685455438337828 Train Acc: 0.6071548821548821 Val Acc: 0.5676413255360625\n",
      "Epoch 40 Train Loss: 0.6560372062002369 Val Loss: 0.6867391153385765 Train Acc: 0.6099831649831653 Val Acc: 0.5557699805068228\n",
      "Epoch 41 Train Loss: 0.656357031478625 Val Loss: 0.6872372564516569 Train Acc: 0.6125715488215491 Val Acc: 0.5612475633528266\n",
      "Epoch 42 Train Loss: 0.6546099171895371 Val Loss: 0.688504673932728 Train Acc: 0.6135437710437713 Val Acc: 0.5566861598440545\n",
      "Epoch 43 Train Loss: 0.6566415164205763 Val Loss: 0.6865423666803461 Train Acc: 0.6102525252525257 Val Acc: 0.5553996101364522\n",
      "Epoch 44 Train Loss: 0.654309726724721 Val Loss: 0.6893694212562159 Train Acc: 0.6127483164983164 Val Acc: 0.5530214424951266\n",
      "Epoch 45 Train Loss: 0.6541268586711049 Val Loss: 0.6936461549056204 Train Acc: 0.6149810606060601 Val Acc: 0.5397660818713451\n",
      "Epoch 46 Train Loss: 0.6545770965039931 Val Loss: 0.6908009365985268 Train Acc: 0.6137773569023565 Val Acc: 0.5400779727095515\n",
      "Epoch 47 Train Loss: 0.6504187808695064 Val Loss: 0.6902299491982711 Train Acc: 0.6190593434343439 Val Acc: 0.560214424951267\n",
      "Epoch 48 Train Loss: 0.649427000521008 Val Loss: 0.6936268053556743 Train Acc: 0.6224558080808086 Val Acc: 0.5446588693957114\n",
      "Epoch 49 Train Loss: 0.6502577499909834 Val Loss: 0.6890153790775099 Train Acc: 0.6206755050505051 Val Acc: 0.547504873294347\n",
      "Epoch 50 Train Loss: 0.6499698210244227 Val Loss: 0.6932798749522159 Train Acc: 0.619059343434343 Val Acc: 0.5353216374269006\n",
      "Epoch 51 Train Loss: 0.6511119931233852 Val Loss: 0.6910034418106079 Train Acc: 0.6184595959595962 Val Acc: 0.5421052631578946\n",
      "Epoch 52 Train Loss: 0.6493722280669293 Val Loss: 0.6908299577863592 Train Acc: 0.6206944444444447 Val Acc: 0.5516569200779727\n",
      "Epoch 53 Train Loss: 0.6473344608589455 Val Loss: 0.6892320074533161 Train Acc: 0.6209217171717168 Val Acc: 0.5485769980506824\n",
      "Epoch 54 Train Loss: 0.6465065276582634 Val Loss: 0.6938231430555645 Train Acc: 0.6256439393939395 Val Acc: 0.5418713450292397\n",
      "Epoch 55 Train Loss: 0.6439648842570758 Val Loss: 0.6933618627096477 Train Acc: 0.628409090909091 Val Acc: 0.5417348927875245\n",
      "Epoch 56 Train Loss: 0.6429548197322421 Val Loss: 0.6910139573247809 Train Acc: 0.6295601851851852 Val Acc: 0.542319688109162\n",
      "Epoch 57 Train Loss: 0.6424825149353104 Val Loss: 0.6946719633905512 Train Acc: 0.6283333333333329 Val Acc: 0.5444249512670565\n",
      "Epoch 58 Train Loss: 0.642497444795037 Val Loss: 0.6952659644578633 Train Acc: 0.6310563973063972 Val Acc: 0.5436062378167641\n",
      "Epoch 59 Train Loss: 0.6415644320173296 Val Loss: 0.6919048177568536 Train Acc: 0.6316182659932661 Val Acc: 0.5506042884990253\n",
      "Epoch 60 Train Loss: 0.6443492521340598 Val Loss: 0.6925261867673773 Train Acc: 0.6244570707070711 Val Acc: 0.532923976608187\n",
      "Epoch 61 Train Loss: 0.6413669194838013 Val Loss: 0.6929425879528648 Train Acc: 0.6340698653198661 Val Acc: 0.537953216374269\n",
      "Epoch 62 Train Loss: 0.6395836183519075 Val Loss: 0.6915341584306014 Train Acc: 0.6346338383838382 Val Acc: 0.5468226120857701\n",
      "Epoch 63 Train Loss: 0.6387766214332196 Val Loss: 0.6935043272219206 Train Acc: 0.6360627104377106 Val Acc: 0.5352631578947369\n",
      "Epoch 64 Train Loss: 0.6378547763985014 Val Loss: 0.6914776814611334 Train Acc: 0.6374305555555544 Val Acc: 0.542261208576998\n",
      "Epoch 65 Train Loss: 0.6376207545148804 Val Loss: 0.6900838864477057 Train Acc: 0.6337415824915831 Val Acc: 0.5511111111111111\n"
     ]
    },
    {
     "name": "stdout",
     "output_type": "stream",
     "text": [
      "Epoch 66 Train Loss: 0.6384958735218754 Val Loss: 0.6913015120907834 Train Acc: 0.6345391414141414 Val Acc: 0.5499999999999999\n",
      "Epoch 67 Train Loss: 0.6380199906400559 Val Loss: 0.6881248982329118 Train Acc: 0.6385585016835014 Val Acc: 0.557504873294347\n",
      "Epoch 68 Train Loss: 0.6356194127689708 Val Loss: 0.695087404627549 Train Acc: 0.6418686868686867 Val Acc: 0.5312865497076023\n",
      "Epoch 69 Train Loss: 0.6310699260997451 Val Loss: 0.6940857987654837 Train Acc: 0.6429356060606058 Val Acc: 0.5540545808966861\n",
      "Epoch 70 Train Loss: 0.6309213543981815 Val Loss: 0.6923500424937198 Train Acc: 0.6444612794612792 Val Acc: 0.5448148148148149\n",
      "Epoch 71 Train Loss: 0.6308607874494611 Val Loss: 0.6881412706877056 Train Acc: 0.6462478956228955 Val Acc: 0.5493957115009748\n",
      "Epoch 72 Train Loss: 0.6291963361730479 Val Loss: 0.689050200738405 Train Acc: 0.6465867003367003 Val Acc: 0.5500779727095517\n",
      "Epoch 73 Train Loss: 0.6311128157557864 Val Loss: 0.6889707822548715 Train Acc: 0.6462352693602689 Val Acc: 0.5507992202729044\n",
      "Epoch 74 Train Loss: 0.6284102903873431 Val Loss: 0.6915228335480941 Train Acc: 0.6480492424242421 Val Acc: 0.5523976608187134\n",
      "Epoch 75 Train Loss: 0.623670199904779 Val Loss: 0.6938982354967218 Train Acc: 0.6543455387205384 Val Acc: 0.5427680311890839\n",
      "Epoch 76 Train Loss: 0.6258432435668277 Val Loss: 0.6930401921272278 Train Acc: 0.6494212962962959 Val Acc: 0.5498635477582846\n",
      "Epoch 77 Train Loss: 0.6248598697811666 Val Loss: 0.694852982696734 Train Acc: 0.6500946969696966 Val Acc: 0.5466861598440546\n",
      "Epoch 78 Train Loss: 0.6233258881552853 Val Loss: 0.6969446539878845 Train Acc: 0.6526199494949494 Val Acc: 0.5391617933723198\n",
      "Epoch 79 Train Loss: 0.6252400545961527 Val Loss: 0.6934488509830675 Train Acc: 0.6544297138047135 Val Acc: 0.5411890838206628\n",
      "Epoch 80 Train Loss: 0.6222964545291683 Val Loss: 0.6927947119662636 Train Acc: 0.6515656565656563 Val Acc: 0.5470565302144251\n",
      "Epoch 81 Train Loss: 0.631282201921097 Val Loss: 0.6928532750982987 Train Acc: 0.6424936868686872 Val Acc: 0.5503703703703704\n",
      "Epoch 82 Train Loss: 0.6241931333284988 Val Loss: 0.6975485180553637 Train Acc: 0.6502398989898985 Val Acc: 0.5366861598440545\n",
      "Epoch 83 Train Loss: 0.6212979671529648 Val Loss: 0.701252752228787 Train Acc: 0.656104797979798 Val Acc: 0.5398440545808967\n",
      "Epoch 84 Train Loss: 0.6203748136257081 Val Loss: 0.6975658316361276 Train Acc: 0.6563068181818178 Val Acc: 0.546374269005848\n",
      "Epoch 85 Train Loss: 0.6192825845997743 Val Loss: 0.6986905273638273 Train Acc: 0.6591308922558914 Val Acc: 0.5460038986354776\n",
      "Epoch 86 Train Loss: 0.6177326053481311 Val Loss: 0.6953441688888952 Train Acc: 0.6608522727272734 Val Acc: 0.5529824561403508\n",
      "Epoch 87 Train Loss: 0.6215487836988687 Val Loss: 0.6954944572950664 Train Acc: 0.65675505050505 Val Acc: 0.5514230019493177\n",
      "Epoch 88 Train Loss: 0.6202854124785272 Val Loss: 0.6965258905762121 Train Acc: 0.6570286195286186 Val Acc: 0.5535867446393762\n",
      "Epoch 89 Train Loss: 0.618268573324287 Val Loss: 0.6950720768225821 Train Acc: 0.6585921717171712 Val Acc: 0.5506627680311891\n",
      "Epoch 90 Train Loss: 0.6182956721646216 Val Loss: 0.6969755511534842 Train Acc: 0.6580934343434336 Val Acc: 0.5376608187134503\n",
      "Epoch 91 Train Loss: 0.6207427506896381 Val Loss: 0.695853656844089 Train Acc: 0.6574221380471376 Val Acc: 0.5502923976608188\n",
      "Epoch 92 Train Loss: 0.6199699533908857 Val Loss: 0.6936038512932626 Train Acc: 0.6577167508417502 Val Acc: 0.5631384015594542\n",
      "Epoch 93 Train Loss: 0.6146339685828598 Val Loss: 0.6963612782327753 Train Acc: 0.6619781144781139 Val Acc: 0.5472709551656921\n",
      "Epoch 94 Train Loss: 0.6137783427029748 Val Loss: 0.6926563852711728 Train Acc: 0.6619739057239048 Val Acc: 0.555925925925926\n",
      "Epoch 95 Train Loss: 0.6153037939408813 Val Loss: 0.69786242434853 Train Acc: 0.6624894781144778 Val Acc: 0.5321832358674464\n",
      "Epoch 96 Train Loss: 0.612792376717333 Val Loss: 0.7004422827770835 Train Acc: 0.6659048821548823 Val Acc: 0.5448927875243664\n",
      "Epoch 97 Train Loss: 0.6118070629710701 Val Loss: 0.7003028361420882 Train Acc: 0.6678998316498319 Val Acc: 0.5447953216374269\n",
      "Epoch 98 Train Loss: 0.6117951727475381 Val Loss: 0.7033225486153051 Train Acc: 0.6642676767676767 Val Acc: 0.5362378167641325\n",
      "Epoch 99 Train Loss: 0.6160980902536951 Val Loss: 0.6968569159507751 Train Acc: 0.6601704545454538 Val Acc: 0.5553216374269007\n",
      "Epoch 100 Train Loss: 0.6158016132385241 Val Loss: 0.6987954691836709 Train Acc: 0.6617108585858577 Val Acc: 0.541578947368421\n"
     ]
    }
   ],
   "source": [
    "print(\"Begin training.\")\n",
    "for e in (range(1, EPOCHS+1)):\n",
    "    \n",
    "    # TRAINING\n",
    "    train_epoch_loss = 0 # for loss tracking\n",
    "    train_epoch_acc = 0 #for acc traking\n",
    "    model.train()\n",
    "    \n",
    "    for X_train_batch, y_train_batch in train_loader:\n",
    "        X_train_batch, y_train_batch = X_train_batch.to(device), y_train_batch.to(device)\n",
    "        \n",
    "        optimizer.zero_grad()\n",
    "        \n",
    "        y_train_pred = model(X_train_batch)\n",
    "        \n",
    "        train_loss = criterion(y_train_pred, y_train_batch.float())\n",
    "        train_acc = multi_acc(y_train_pred, y_train_batch.float())\n",
    "        \n",
    "        train_loss.backward()\n",
    "        optimizer.step()\n",
    "        \n",
    "        train_epoch_loss += train_loss.item()\n",
    "        train_epoch_acc += train_acc.item()\n",
    "        \n",
    "    # VALIDATION    \n",
    "    with torch.no_grad():\n",
    "        \n",
    "        val_epoch_loss = 0\n",
    "        val_epoch_acc = 0\n",
    "        \n",
    "        model.eval()\n",
    "        for X_val_batch, y_val_batch in val_loader:\n",
    "            X_val_batch, y_val_batch = X_val_batch.to(device), y_val_batch.to(device)\n",
    "            \n",
    "            y_val_pred = model(X_val_batch)\n",
    "                        \n",
    "            val_loss = criterion(y_val_pred,y_val_batch.float())\n",
    "            val_acc = multi_acc(y_val_pred, y_val_batch.float())\n",
    "\n",
    "            \n",
    "            val_epoch_loss += val_loss.item()\n",
    "            val_epoch_acc += val_acc.item()\n",
    "            \n",
    "            \n",
    "    loss_stats['train'].append(train_epoch_loss/len(train_loader))\n",
    "    loss_stats['val'].append(val_epoch_loss/len(val_loader))\n",
    "    accuracy_stats['train'].append(train_epoch_acc/len(train_loader))\n",
    "    accuracy_stats['val'].append(val_epoch_acc/len(val_loader))\n",
    "                              \n",
    "  \n",
    "    print('Epoch',e,'Train Loss:',(train_epoch_loss/len(train_loader)),\n",
    "          'Val Loss:',(val_epoch_loss/len(val_loader)),\n",
    "          'Train Acc:',(train_epoch_acc/len(train_loader)),\n",
    "          'Val Acc:',(val_epoch_acc/len(val_loader)))\n",
    "    \n",
    "    stopping = (train_epoch_acc/len(train_loader)) - (val_epoch_acc/len(val_loader))\n",
    "    \n",
    "    if stopping >= 0.20:\n",
    "        model.eval()\n",
    "        print('Stopping Point due to Overfitting')\n",
    "        break"
   ]
  },
  {
   "cell_type": "code",
   "execution_count": 83,
   "metadata": {
    "ExecuteTime": {
     "end_time": "2021-01-03T12:28:19.516844Z",
     "start_time": "2021-01-03T12:28:19.419827Z"
    }
   },
   "outputs": [],
   "source": [
    "model.eval()\n",
    "torch.save(model, 'densenet121_model.pt')"
   ]
  },
  {
   "cell_type": "code",
   "execution_count": 84,
   "metadata": {
    "ExecuteTime": {
     "end_time": "2021-01-03T12:28:19.896370Z",
     "start_time": "2021-01-03T12:28:19.517842Z"
    }
   },
   "outputs": [
    {
     "data": {
      "image/png": "[encoded data removed]",
      "text/plain": [
       "<Figure size 1440x360 with 2 Axes>"
      ]
     },
     "metadata": {
      "needs_background": "light"
     },
     "output_type": "display_data"
    }
   ],
   "source": [
    "fig,ax = plt.subplots(1,2,figsize=(20,5))\n",
    "ax[0].plot(accuracy_stats['train'])\n",
    "ax[0].plot(accuracy_stats['val'])\n",
    "ax[0].set_title('Accuracy Plot',fontsize=20)\n",
    "ax[0].legend(['Train','Test'],fontsize=15)\n",
    "ax[0].set_xlabel('Epochs',fontsize=15)\n",
    "ax[1].plot(loss_stats['train'])\n",
    "ax[1].plot(loss_stats['val'])\n",
    "ax[1].set_title('Loss Plot',fontsize=20)\n",
    "ax[1].legend(['Train','Test'],fontsize=15)\n",
    "ax[1].set_xlabel('Epochs',fontsize=15)\n",
    "plt.suptitle('DENSENET121 Training Results',fontsize=25,color='blue')\n",
    "plt.tight_layout()\n",
    "plt.savefig('denseplot.png')\n",
    "plt.show()"
   ]
  },
  {
   "cell_type": "markdown",
   "metadata": {},
   "source": [
    "# SQUEEZENET Training"
   ]
  },
  {
   "cell_type": "code",
   "execution_count": 85,
   "metadata": {
    "ExecuteTime": {
     "end_time": "2021-01-03T12:43:01.445384Z",
     "start_time": "2021-01-03T12:42:27.984163Z"
    }
   },
   "outputs": [
    {
     "name": "stdout",
     "output_type": "stream",
     "text": [
      "Trainset Shape:  (29664, 86528)\n",
      "Trainset Target Shape:  (29664,)\n",
      "Testset Shape:  (1854, 86528)\n",
      "Testset Target Shape:  (1854,)\n",
      "New Target Train shape:  (29664, 2)\n",
      "New Target Test shape:  (1854, 2)\n"
     ]
    }
   ],
   "source": [
    "X_train = np.load('squeezenet_features_train.npz')['arr_0']\n",
    "y_train = np.load('squeezenet_features_train.npz')['arr_1']\n",
    "X_test = np.load('squuezenet_features_test.npz')['arr_0']\n",
    "y_test = np.load('squuezenet_features_test.npz')['arr_1']\n",
    "\n",
    "print('Trainset Shape: ',X_train.shape)\n",
    "print('Trainset Target Shape: ',y_train.shape)\n",
    "print('Testset Shape: ',X_test.shape)\n",
    "print('Testset Target Shape: ',y_test.shape)\n",
    "\n",
    "y_train = to_categorical(np.reshape(y_train,(y_train.shape[0],1)))\n",
    "print('New Target Train shape: ',y_train.shape)\n",
    "\n",
    "y_test = to_categorical(np.reshape(y_test,(y_test.shape[0],1)))\n",
    "print('New Target Test shape: ',y_test.shape)"
   ]
  },
  {
   "cell_type": "code",
   "execution_count": 86,
   "metadata": {
    "ExecuteTime": {
     "end_time": "2021-01-03T12:43:01.938733Z",
     "start_time": "2021-01-03T12:43:01.469606Z"
    }
   },
   "outputs": [],
   "source": [
    "train_dataset = ClassifierDataset(torch.from_numpy(X_train).float(), torch.from_numpy(y_train).long())\n",
    "val_dataset = ClassifierDataset(torch.from_numpy(X_test).float(), torch.from_numpy(y_test).long())\n",
    "\n",
    "accuracy_stats = {'train': [],\"val\": []}\n",
    "loss_stats = {'train': [],\"val\": []}\n",
    "\n",
    "EPOCHS = 100\n",
    "\n",
    "BATCH_SIZE = 100\n",
    "\n",
    "train_loader = DataLoader(dataset=train_dataset,batch_size=BATCH_SIZE,shuffle=True)\n",
    "val_loader = DataLoader(dataset=val_dataset, batch_size=BATCH_SIZE,shuffle=True)"
   ]
  },
  {
   "cell_type": "code",
   "execution_count": 87,
   "metadata": {
    "ExecuteTime": {
     "end_time": "2021-01-03T12:43:02.190619Z",
     "start_time": "2021-01-03T12:43:01.941725Z"
    }
   },
   "outputs": [],
   "source": [
    "model = torch.nn.Sequential(\n",
    "        torch.nn.Linear(X_train.shape[1], 128),\n",
    "        torch.nn.Tanh(),\n",
    "        torch.nn.Dropout(0.8),\n",
    "        torch.nn.Linear(128, 2),\n",
    "        torch.nn.Sigmoid()\n",
    ")\n",
    "model.to(device)\n",
    "criterion = torch.nn.BCELoss()\n",
    "optimizer = torch.optim.Adam(model.parameters(), lr=0.0005)"
   ]
  },
  {
   "cell_type": "code",
   "execution_count": 88,
   "metadata": {
    "ExecuteTime": {
     "end_time": "2021-01-03T12:53:25.394065Z",
     "start_time": "2021-01-03T12:43:02.194291Z"
    }
   },
   "outputs": [
    {
     "name": "stdout",
     "output_type": "stream",
     "text": [
      "Begin training.\n",
      "Epoch 1 Train Loss: 0.7664722730013658 Val Loss: 0.6913594823134573 Train Acc: 0.5052188552188557 Val Acc: 0.5151851851851853\n",
      "Epoch 2 Train Loss: 0.7030225689162309 Val Loss: 0.6909072085430747 Train Acc: 0.5054208754208755 Val Acc: 0.5163157894736843\n",
      "Epoch 3 Train Loss: 0.6949723467280969 Val Loss: 0.6911576421637284 Train Acc: 0.5086111111111112 Val Acc: 0.5727680311890837\n",
      "Epoch 4 Train Loss: 0.6941615449459063 Val Loss: 0.6923160333382455 Train Acc: 0.5102398989898989 Val Acc: 0.5142105263157895\n",
      "Epoch 5 Train Loss: 0.693972485434728 Val Loss: 0.6915505308853952 Train Acc: 0.5090614478114476 Val Acc: 0.5151072124756336\n",
      "Epoch 6 Train Loss: 0.6947275566733646 Val Loss: 0.6933331834642511 Train Acc: 0.5033122895622898 Val Acc: 0.4830994152046784\n",
      "Epoch 7 Train Loss: 0.694036764929993 Val Loss: 0.6917651797595777 Train Acc: 0.5073526936026939 Val Acc: 0.5119688109161793\n",
      "Epoch 8 Train Loss: 0.6951551397240122 Val Loss: 0.6910184872777838 Train Acc: 0.5015972222222222 Val Acc: 0.5480311890838206\n",
      "Epoch 9 Train Loss: 0.6936568674013671 Val Loss: 0.6931800497205634 Train Acc: 0.5128388047138047 Val Acc: 0.5146588693957115\n",
      "Epoch 10 Train Loss: 0.6944494444111782 Val Loss: 0.6939137703494022 Train Acc: 0.5084995791245793 Val Acc: 0.48444444444444446\n",
      "Epoch 11 Train Loss: 0.693865833057699 Val Loss: 0.6924820950156764 Train Acc: 0.5123400673400677 Val Acc: 0.52\n",
      "Epoch 12 Train Loss: 0.6945202469022989 Val Loss: 0.6926936381741574 Train Acc: 0.5067487373737373 Val Acc: 0.5168421052631579\n",
      "Epoch 13 Train Loss: 0.6945971065900142 Val Loss: 0.6922875799630818 Train Acc: 0.5033901515151518 Val Acc: 0.5512865497076024\n",
      "Epoch 14 Train Loss: 0.6945868098374569 Val Loss: 0.692370659426639 Train Acc: 0.5055639730639732 Val Acc: 0.5173489278752438\n",
      "Epoch 15 Train Loss: 0.6948368172051529 Val Loss: 0.6928915161835519 Train Acc: 0.504027777777778 Val Acc: 0.5142105263157896\n",
      "Epoch 16 Train Loss: 0.6944449401463724 Val Loss: 0.6936665773391724 Train Acc: 0.506304713804714 Val Acc: 0.5124171539961013\n",
      "Epoch 17 Train Loss: 0.694594575098468 Val Loss: 0.6929627562824049 Train Acc: 0.5058249158249158 Val Acc: 0.5146588693957114\n",
      "Epoch 18 Train Loss: 0.6946132116847568 Val Loss: 0.6928431391716003 Train Acc: 0.5072011784511787 Val Acc: 0.5146588693957114\n",
      "Epoch 19 Train Loss: 0.6943191177515872 Val Loss: 0.6927469184524134 Train Acc: 0.5053682659932661 Val Acc: 0.5142105263157893\n",
      "Epoch 20 Train Loss: 0.6950020828231015 Val Loss: 0.6926737427711487 Train Acc: 0.5010879629629633 Val Acc: 0.5160038986354776\n",
      "Epoch 21 Train Loss: 0.6943812384348526 Val Loss: 0.6928316888056303 Train Acc: 0.5067760942760939 Val Acc: 0.5157894736842106\n",
      "Epoch 22 Train Loss: 0.6944417002225163 Val Loss: 0.6927730848914698 Train Acc: 0.5062247474747474 Val Acc: 0.5128654970760234\n",
      "Epoch 23 Train Loss: 0.6950033598074608 Val Loss: 0.6931567756753219 Train Acc: 0.5020517676767676 Val Acc: 0.49487329434697847\n",
      "Epoch 24 Train Loss: 0.6950586335827605 Val Loss: 0.6931991357552377 Train Acc: 0.5011595117845117 Val Acc: 0.4904483430799221\n",
      "Epoch 25 Train Loss: 0.6943901570557746 Val Loss: 0.6927997783610695 Train Acc: 0.5033438552188549 Val Acc: 0.5137621832358675\n",
      "Epoch 26 Train Loss: 0.6950352482924156 Val Loss: 0.6928598943509554 Train Acc: 0.5005155723905724 Val Acc: 0.5124171539961013\n",
      "Epoch 27 Train Loss: 0.6942838785624263 Val Loss: 0.6930386675031561 Train Acc: 0.5059006734006734 Val Acc: 0.5151072124756336\n",
      "Epoch 28 Train Loss: 0.6951400286420829 Val Loss: 0.6928057482368067 Train Acc: 0.5013215488215487 Val Acc: 0.5137621832358675\n",
      "Epoch 29 Train Loss: 0.6945685792450953 Val Loss: 0.6928367771600422 Train Acc: 0.5024831649831646 Val Acc: 0.5160038986354777\n",
      "Epoch 30 Train Loss: 0.6945875367331585 Val Loss: 0.6928474495285436 Train Acc: 0.5033228114478115 Val Acc: 0.5151072124756335\n",
      "Epoch 31 Train Loss: 0.6949080254895117 Val Loss: 0.6924096941947937 Train Acc: 0.4990867003367004 Val Acc: 0.5191423001949318\n",
      "Epoch 32 Train Loss: 0.6944193161697901 Val Loss: 0.6951227407706412 Train Acc: 0.5077819865319868 Val Acc: 0.48534113060428846\n",
      "Epoch 33 Train Loss: 0.6949407857676548 Val Loss: 0.6928633043640539 Train Acc: 0.5012899831649831 Val Acc: 0.5119688109161793\n",
      "Epoch 34 Train Loss: 0.6948282319287258 Val Loss: 0.69281005859375 Train Acc: 0.5036510942760943 Val Acc: 0.5146588693957115\n",
      "Epoch 35 Train Loss: 0.6947301626205444 Val Loss: 0.6927139696321989 Train Acc: 0.5020307239057242 Val Acc: 0.5146588693957116\n",
      "Epoch 36 Train Loss: 0.6949386857575439 Val Loss: 0.6928318644824781 Train Acc: 0.4974452861952862 Val Acc: 0.5133138401559455\n",
      "Epoch 37 Train Loss: 0.6948373482283519 Val Loss: 0.6926820372280321 Train Acc: 0.5031691919191921 Val Acc: 0.5155555555555555\n",
      "Epoch 38 Train Loss: 0.6942037470412977 Val Loss: 0.6933523918453016 Train Acc: 0.5041877104377105 Val Acc: 0.5124171539961013\n",
      "Epoch 39 Train Loss: 0.69512800275276 Val Loss: 0.6929390901013425 Train Acc: 0.5040319865319863 Val Acc: 0.5128654970760236\n",
      "Epoch 40 Train Loss: 0.6946198215789666 Val Loss: 0.6929756873532346 Train Acc: 0.5038089225589225 Val Acc: 0.5182456140350877\n",
      "Epoch 41 Train Loss: 0.6946330618376684 Val Loss: 0.6935983111983851 Train Acc: 0.5022327441077443 Val Acc: 0.48931773879142293\n",
      "Epoch 42 Train Loss: 0.6946525120173239 Val Loss: 0.6929845339373538 Train Acc: 0.5031228956228955 Val Acc: 0.5133138401559456\n",
      "Epoch 43 Train Loss: 0.6950370089373604 Val Loss: 0.6928157649542156 Train Acc: 0.5019675925925927 Val Acc: 0.5151072124756335\n",
      "Epoch 44 Train Loss: 0.6949176009656605 Val Loss: 0.6926336539419073 Train Acc: 0.5024137205387205 Val Acc: 0.5152631578947369\n",
      "Epoch 45 Train Loss: 0.6951551461460614 Val Loss: 0.692628098161597 Train Acc: 0.49765993265993297 Val Acc: 0.5463937621832358\n",
      "Epoch 46 Train Loss: 0.6941170164631674 Val Loss: 0.6936239474698117 Train Acc: 0.5062626262626265 Val Acc: 0.5164522417153997\n",
      "Epoch 47 Train Loss: 0.6946718399773543 Val Loss: 0.6946752134122347 Train Acc: 0.5057702020202023 Val Acc: 0.4866861598440545\n",
      "Epoch 48 Train Loss: 0.6947266620016258 Val Loss: 0.6926503777503967 Train Acc: 0.5019044612794614 Val Acc: 0.5137621832358675\n",
      "Epoch 49 Train Loss: 0.6945318485349918 Val Loss: 0.6927320016057867 Train Acc: 0.5019149831649834 Val Acc: 0.5137621832358673\n",
      "Epoch 50 Train Loss: 0.6943054943775087 Val Loss: 0.6969961618122301 Train Acc: 0.5082533670033667 Val Acc: 0.48444444444444446\n",
      "Epoch 51 Train Loss: 0.6943877237011687 Val Loss: 0.6939517353710375 Train Acc: 0.5103324915824917 Val Acc: 0.4835477582846004\n",
      "Epoch 52 Train Loss: 0.6943725632497357 Val Loss: 0.6928264122260245 Train Acc: 0.5128282828282827 Val Acc: 0.5151072124756336\n",
      "Epoch 53 Train Loss: 0.6944452227165402 Val Loss: 0.6927288394225272 Train Acc: 0.5061700336700337 Val Acc: 0.5124171539961014\n",
      "Epoch 54 Train Loss: 0.6944334236058322 Val Loss: 0.6929340519403157 Train Acc: 0.5035648148148151 Val Acc: 0.5124171539961013\n",
      "Epoch 55 Train Loss: 0.694617631459477 Val Loss: 0.6944416196722734 Train Acc: 0.5058354377104377 Val Acc: 0.4839961013645225\n",
      "Epoch 56 Train Loss: 0.6950182547472944 Val Loss: 0.6931684362260919 Train Acc: 0.5005765993265989 Val Acc: 0.5164522417153997\n",
      "Epoch 57 Train Loss: 0.6945261975330135 Val Loss: 0.6927971965388248 Train Acc: 0.5038699494949492 Val Acc: 0.5151072124756335\n",
      "Epoch 58 Train Loss: 0.6947768111822983 Val Loss: 0.692902966549522 Train Acc: 0.5049053030303035 Val Acc: 0.5214035087719299\n",
      "Epoch 59 Train Loss: 0.6948303064513287 Val Loss: 0.6927888644369025 Train Acc: 0.5028282828282825 Val Acc: 0.5137621832358674\n",
      "Epoch 60 Train Loss: 0.694595633131085 Val Loss: 0.6935134028133593 Train Acc: 0.503472222222222 Val Acc: 0.4826510721247563\n",
      "Epoch 61 Train Loss: 0.6951307748704647 Val Loss: 0.6929158129190144 Train Acc: 0.49553030303030327 Val Acc: 0.5110721247563353\n",
      "Epoch 62 Train Loss: 0.6946429491845847 Val Loss: 0.6926374655020865 Train Acc: 0.5027167508417507 Val Acc: 0.5160038986354776\n",
      "Epoch 63 Train Loss: 0.6949467717196404 Val Loss: 0.6940843619798359 Train Acc: 0.502742003367003 Val Acc: 0.48578947368421055\n",
      "Epoch 64 Train Loss: 0.6944800747765435 Val Loss: 0.6928387441133198 Train Acc: 0.5068792087542088 Val Acc: 0.5169005847953215\n",
      "Epoch 65 Train Loss: 0.6945164316029661 Val Loss: 0.6929173532285189 Train Acc: 0.5054629629629629 Val Acc: 0.5128654970760234\n"
     ]
    },
    {
     "name": "stdout",
     "output_type": "stream",
     "text": [
      "Epoch 66 Train Loss: 0.6949576267891059 Val Loss: 0.6927272614679838 Train Acc: 0.49909090909090886 Val Acc: 0.5164522417153997\n",
      "Epoch 67 Train Loss: 0.694901745528083 Val Loss: 0.6924948409983986 Train Acc: 0.49950126262626293 Val Acc: 0.5164522417153997\n",
      "Epoch 68 Train Loss: 0.6946005893476082 Val Loss: 0.6927919921122099 Train Acc: 0.500494528619529 Val Acc: 0.5115204678362574\n",
      "Epoch 69 Train Loss: 0.693971741279769 Val Loss: 0.6941611264881334 Train Acc: 0.5100441919191919 Val Acc: 0.48444444444444446\n",
      "Epoch 70 Train Loss: 0.6941352494637975 Val Loss: 0.6930212566727086 Train Acc: 0.5105829124579127 Val Acc: 0.4866861598440546\n",
      "Epoch 71 Train Loss: 0.694803308156203 Val Loss: 0.6929623955174496 Train Acc: 0.5018181818181819 Val Acc: 0.48317738791423004\n",
      "Epoch 72 Train Loss: 0.6944497155420708 Val Loss: 0.6926138118693703 Train Acc: 0.5030113636363635 Val Acc: 0.5160038986354777\n",
      "Epoch 73 Train Loss: 0.6945026360376917 Val Loss: 0.6925129796329298 Train Acc: 0.5031418350168352 Val Acc: 0.5142105263157895\n",
      "Epoch 74 Train Loss: 0.6941059568915704 Val Loss: 0.69329067280418 Train Acc: 0.5068308080808078 Val Acc: 0.48309941520467836\n",
      "Epoch 75 Train Loss: 0.694649434852279 Val Loss: 0.6920735961512515 Train Acc: 0.5091877104377106 Val Acc: 0.5151072124756336\n",
      "Epoch 76 Train Loss: 0.6946176212243359 Val Loss: 0.6934844537785179 Train Acc: 0.5065214646464646 Val Acc: 0.4961598440545809\n",
      "Epoch 77 Train Loss: 0.6947489589553089 Val Loss: 0.693689647473787 Train Acc: 0.5054671717171715 Val Acc: 0.5137621832358675\n",
      "Epoch 78 Train Loss: 0.6943818465226427 Val Loss: 0.6927239141966167 Train Acc: 0.5055092592592595 Val Acc: 0.5124171539961013\n",
      "Epoch 79 Train Loss: 0.6951559573311596 Val Loss: 0.6922195051845751 Train Acc: 0.4954650673400674 Val Acc: 0.5142105263157896\n",
      "Epoch 80 Train Loss: 0.6940895517667135 Val Loss: 0.6926416754722595 Train Acc: 0.5087142255892259 Val Acc: 0.5115204678362574\n",
      "Epoch 81 Train Loss: 0.6946719619962904 Val Loss: 0.6932680261762518 Train Acc: 0.500260942760943 Val Acc: 0.5142105263157896\n",
      "Epoch 82 Train Loss: 0.6946859313582732 Val Loss: 0.6925525916250128 Train Acc: 0.5060669191919193 Val Acc: 0.5155555555555555\n",
      "Epoch 83 Train Loss: 0.6946253880908594 Val Loss: 0.6928660618631464 Train Acc: 0.5030660774410771 Val Acc: 0.5142105263157895\n",
      "Epoch 84 Train Loss: 0.694962097137464 Val Loss: 0.6927732103749326 Train Acc: 0.5003956228956227 Val Acc: 0.5128654970760236\n",
      "Epoch 85 Train Loss: 0.6944213254684551 Val Loss: 0.6920751176382366 Train Acc: 0.5039246632996635 Val Acc: 0.5151072124756336\n",
      "Epoch 86 Train Loss: 0.6941649109024792 Val Loss: 0.693066722468326 Train Acc: 0.5087521043771037 Val Acc: 0.48399610136452237\n",
      "Epoch 87 Train Loss: 0.6946114725135393 Val Loss: 0.6924659390198556 Train Acc: 0.5039835858585857 Val Acc: 0.5146588693957114\n",
      "Epoch 88 Train Loss: 0.6947235890510508 Val Loss: 0.6921926234897814 Train Acc: 0.5099326599326598 Val Acc: 0.5128654970760235\n",
      "Epoch 89 Train Loss: 0.6938037725811455 Val Loss: 0.6915092374149122 Train Acc: 0.5095475589225593 Val Acc: 0.5430799220272906\n",
      "Epoch 90 Train Loss: 0.6938383366523768 Val Loss: 0.6926195997940866 Train Acc: 0.5092866161616165 Val Acc: 0.5333723196881092\n",
      "Epoch 91 Train Loss: 0.694541891616603 Val Loss: 0.6916129181259557 Train Acc: 0.5055850168350168 Val Acc: 0.5577192982456141\n",
      "Epoch 92 Train Loss: 0.6940969050131262 Val Loss: 0.6937185118072912 Train Acc: 0.5092361111111111 Val Acc: 0.48623781676413264\n",
      "Epoch 93 Train Loss: 0.6941310994151465 Val Loss: 0.6919569028051276 Train Acc: 0.5090951178451182 Val Acc: 0.5374463937621833\n",
      "Epoch 94 Train Loss: 0.6949132931754244 Val Loss: 0.692274460667058 Train Acc: 0.5009427609427611 Val Acc: 0.5173489278752438\n",
      "Epoch 95 Train Loss: 0.693902278387988 Val Loss: 0.691840714529941 Train Acc: 0.506595117845118 Val Acc: 0.5308187134502923\n",
      "Epoch 96 Train Loss: 0.6946373206597788 Val Loss: 0.6921701933208265 Train Acc: 0.5034154040404039 Val Acc: 0.5396881091617933\n",
      "Epoch 97 Train Loss: 0.6945318975031175 Val Loss: 0.6928028589800784 Train Acc: 0.5066645622895624 Val Acc: 0.5196296296296297\n",
      "Epoch 98 Train Loss: 0.6954353022254276 Val Loss: 0.6930607180846365 Train Acc: 0.49947601010101034 Val Acc: 0.4854970760233918\n",
      "Epoch 99 Train Loss: 0.694827007725584 Val Loss: 0.6929595188090676 Train Acc: 0.503712121212121 Val Acc: 0.4836257309941521\n",
      "Epoch 100 Train Loss: 0.6938593275217898 Val Loss: 0.6919114056386446 Train Acc: 0.5139057239057243 Val Acc: 0.5155555555555555\n"
     ]
    }
   ],
   "source": [
    "print(\"Begin training.\")\n",
    "for e in (range(1, EPOCHS+1)):\n",
    "    \n",
    "    # TRAINING\n",
    "    train_epoch_loss = 0 # for loss tracking\n",
    "    train_epoch_acc = 0 #for acc traking\n",
    "    model.train()\n",
    "    \n",
    "    for X_train_batch, y_train_batch in train_loader:\n",
    "        X_train_batch, y_train_batch = X_train_batch.to(device), y_train_batch.to(device)\n",
    "        \n",
    "        optimizer.zero_grad()\n",
    "        \n",
    "        y_train_pred = model(X_train_batch)\n",
    "        \n",
    "        train_loss = criterion(y_train_pred, y_train_batch.float())\n",
    "        train_acc = multi_acc(y_train_pred, y_train_batch.float())\n",
    "        \n",
    "        train_loss.backward()\n",
    "        optimizer.step()\n",
    "        \n",
    "        train_epoch_loss += train_loss.item()\n",
    "        train_epoch_acc += train_acc.item()\n",
    "        \n",
    "    # VALIDATION    \n",
    "    with torch.no_grad():\n",
    "        \n",
    "        val_epoch_loss = 0\n",
    "        val_epoch_acc = 0\n",
    "        \n",
    "        model.eval()\n",
    "        for X_val_batch, y_val_batch in val_loader:\n",
    "            X_val_batch, y_val_batch = X_val_batch.to(device), y_val_batch.to(device)\n",
    "            \n",
    "            y_val_pred = model(X_val_batch)\n",
    "                        \n",
    "            val_loss = criterion(y_val_pred,y_val_batch.float())\n",
    "            val_acc = multi_acc(y_val_pred, y_val_batch.float())\n",
    "\n",
    "            \n",
    "            val_epoch_loss += val_loss.item()\n",
    "            val_epoch_acc += val_acc.item()\n",
    "            \n",
    "            \n",
    "    loss_stats['train'].append(train_epoch_loss/len(train_loader))\n",
    "    loss_stats['val'].append(val_epoch_loss/len(val_loader))\n",
    "    accuracy_stats['train'].append(train_epoch_acc/len(train_loader))\n",
    "    accuracy_stats['val'].append(val_epoch_acc/len(val_loader))\n",
    "                              \n",
    "  \n",
    "    print('Epoch',e,'Train Loss:',(train_epoch_loss/len(train_loader)),\n",
    "          'Val Loss:',(val_epoch_loss/len(val_loader)),\n",
    "          'Train Acc:',(train_epoch_acc/len(train_loader)),\n",
    "          'Val Acc:',(val_epoch_acc/len(val_loader)))\n",
    "    \n",
    "    stopping = (train_epoch_acc/len(train_loader)) - (val_epoch_acc/len(val_loader))\n",
    "    \n",
    "    if stopping >= 0.20:\n",
    "        model.eval()\n",
    "        print('Stopping Point due to Overfitting')\n",
    "        break"
   ]
  },
  {
   "cell_type": "code",
   "execution_count": 89,
   "metadata": {
    "ExecuteTime": {
     "end_time": "2021-01-03T12:53:25.528704Z",
     "start_time": "2021-01-03T12:53:25.395062Z"
    }
   },
   "outputs": [],
   "source": [
    "model.eval()\n",
    "torch.save(model, 'squeezenet_model.pt')"
   ]
  },
  {
   "cell_type": "code",
   "execution_count": 90,
   "metadata": {
    "ExecuteTime": {
     "end_time": "2021-01-03T12:53:25.955822Z",
     "start_time": "2021-01-03T12:53:25.529702Z"
    }
   },
   "outputs": [
    {
     "data": {
      "image/png": "[encoded data removed]",
      "text/plain": [
       "<Figure size 1440x360 with 2 Axes>"
      ]
     },
     "metadata": {
      "needs_background": "light"
     },
     "output_type": "display_data"
    }
   ],
   "source": [
    "fig,ax = plt.subplots(1,2,figsize=(20,5))\n",
    "ax[0].plot(accuracy_stats['train'])\n",
    "ax[0].plot(accuracy_stats['val'])\n",
    "ax[0].set_title('Accuracy Plot',fontsize=20)\n",
    "ax[0].legend(['Train','Test'],fontsize=15)\n",
    "ax[0].set_xlabel('Epochs',fontsize=15)\n",
    "ax[1].plot(loss_stats['train'])\n",
    "ax[1].plot(loss_stats['val'])\n",
    "ax[1].set_title('Loss Plot',fontsize=20)\n",
    "ax[1].legend(['Train','Test'],fontsize=15)\n",
    "ax[1].set_xlabel('Epochs',fontsize=15)\n",
    "plt.suptitle('SQUEEZENET Training Results',fontsize=25,color='blue')\n",
    "plt.tight_layout()\n",
    "plt.savefig('squeezeplot.png')\n",
    "plt.show()"
   ]
  },
  {
   "cell_type": "markdown",
   "metadata": {},
   "source": [
    "# SHUFFLENET Training"
   ]
  },
  {
   "cell_type": "code",
   "execution_count": 91,
   "metadata": {
    "ExecuteTime": {
     "end_time": "2021-01-03T12:43:01.445384Z",
     "start_time": "2021-01-03T12:42:27.984163Z"
    }
   },
   "outputs": [
    {
     "name": "stdout",
     "output_type": "stream",
     "text": [
      "Trainset Shape:  (29664, 50176)\n",
      "Trainset Target Shape:  (29664,)\n",
      "Testset Shape:  (1854, 50176)\n",
      "Testset Target Shape:  (1854,)\n",
      "New Target Train shape:  (29664, 2)\n",
      "New Target Test shape:  (1854, 2)\n"
     ]
    }
   ],
   "source": [
    "X_train = np.load('shufflenet_features_train.npz')['arr_0']\n",
    "y_train = np.load('shufflenet_features_train.npz')['arr_1']\n",
    "X_test = np.load('shufflenet_features_test.npz')['arr_0']\n",
    "y_test = np.load('shufflenet_features_test.npz')['arr_1']\n",
    "\n",
    "print('Trainset Shape: ',X_train.shape)\n",
    "print('Trainset Target Shape: ',y_train.shape)\n",
    "print('Testset Shape: ',X_test.shape)\n",
    "print('Testset Target Shape: ',y_test.shape)\n",
    "\n",
    "y_train = to_categorical(np.reshape(y_train,(y_train.shape[0],1)))\n",
    "print('New Target Train shape: ',y_train.shape)\n",
    "\n",
    "y_test = to_categorical(np.reshape(y_test,(y_test.shape[0],1)))\n",
    "print('New Target Test shape: ',y_test.shape)"
   ]
  },
  {
   "cell_type": "code",
   "execution_count": 92,
   "metadata": {
    "ExecuteTime": {
     "end_time": "2021-01-03T12:43:01.938733Z",
     "start_time": "2021-01-03T12:43:01.469606Z"
    }
   },
   "outputs": [],
   "source": [
    "train_dataset = ClassifierDataset(torch.from_numpy(X_train).float(), torch.from_numpy(y_train).long())\n",
    "val_dataset = ClassifierDataset(torch.from_numpy(X_test).float(), torch.from_numpy(y_test).long())\n",
    "\n",
    "accuracy_stats = {'train': [],\"val\": []}\n",
    "loss_stats = {'train': [],\"val\": []}\n",
    "\n",
    "EPOCHS = 100\n",
    "\n",
    "BATCH_SIZE = 100\n",
    "\n",
    "train_loader = DataLoader(dataset=train_dataset,batch_size=BATCH_SIZE,shuffle=True)\n",
    "val_loader = DataLoader(dataset=val_dataset, batch_size=BATCH_SIZE,shuffle=True)"
   ]
  },
  {
   "cell_type": "code",
   "execution_count": 93,
   "metadata": {
    "ExecuteTime": {
     "end_time": "2021-01-03T12:43:02.190619Z",
     "start_time": "2021-01-03T12:43:01.941725Z"
    }
   },
   "outputs": [],
   "source": [
    "model = torch.nn.Sequential(\n",
    "        torch.nn.Linear(X_train.shape[1], 128),\n",
    "        torch.nn.Tanh(),\n",
    "        torch.nn.Dropout(0.8),\n",
    "        torch.nn.Linear(128, 2),\n",
    "        torch.nn.Sigmoid()\n",
    ")\n",
    "model.to(device)\n",
    "criterion = torch.nn.BCELoss()\n",
    "optimizer = torch.optim.Adam(model.parameters(), lr=0.0005)"
   ]
  },
  {
   "cell_type": "code",
   "execution_count": 94,
   "metadata": {
    "ExecuteTime": {
     "end_time": "2021-01-03T12:53:25.394065Z",
     "start_time": "2021-01-03T12:43:02.194291Z"
    }
   },
   "outputs": [
    {
     "name": "stdout",
     "output_type": "stream",
     "text": [
      "Begin training.\n",
      "Epoch 1 Train Loss: 0.7006874441699147 Val Loss: 0.6822928190231323 Train Acc: 0.5312205387205386 Val Acc: 0.5653996101364523\n",
      "Epoch 2 Train Loss: 0.6358969004868659 Val Loss: 0.6890177287553486 Train Acc: 0.648956228956229 Val Acc: 0.5657894736842106\n",
      "Epoch 3 Train Loss: 0.55530615517186 Val Loss: 0.725421667098999 Train Acc: 0.7190530303030296 Val Acc: 0.5663742690058481\n",
      "Epoch 4 Train Loss: 0.48262282272781987 Val Loss: 0.7874041638876262 Train Acc: 0.7742908249158247 Val Acc: 0.5567446393762183\n",
      "Stopping Point due to Overfitting\n"
     ]
    }
   ],
   "source": [
    "print(\"Begin training.\")\n",
    "for e in (range(1, EPOCHS+1)):\n",
    "    \n",
    "    # TRAINING\n",
    "    train_epoch_loss = 0 # for loss tracking\n",
    "    train_epoch_acc = 0 #for acc traking\n",
    "    model.train()\n",
    "    \n",
    "    for X_train_batch, y_train_batch in train_loader:\n",
    "        X_train_batch, y_train_batch = X_train_batch.to(device), y_train_batch.to(device)\n",
    "        \n",
    "        optimizer.zero_grad()\n",
    "        \n",
    "        y_train_pred = model(X_train_batch)\n",
    "        \n",
    "        train_loss = criterion(y_train_pred, y_train_batch.float())\n",
    "        train_acc = multi_acc(y_train_pred, y_train_batch.float())\n",
    "        \n",
    "        train_loss.backward()\n",
    "        optimizer.step()\n",
    "        \n",
    "        train_epoch_loss += train_loss.item()\n",
    "        train_epoch_acc += train_acc.item()\n",
    "        \n",
    "    # VALIDATION    \n",
    "    with torch.no_grad():\n",
    "        \n",
    "        val_epoch_loss = 0\n",
    "        val_epoch_acc = 0\n",
    "        \n",
    "        model.eval()\n",
    "        for X_val_batch, y_val_batch in val_loader:\n",
    "            X_val_batch, y_val_batch = X_val_batch.to(device), y_val_batch.to(device)\n",
    "            \n",
    "            y_val_pred = model(X_val_batch)\n",
    "                        \n",
    "            val_loss = criterion(y_val_pred,y_val_batch.float())\n",
    "            val_acc = multi_acc(y_val_pred, y_val_batch.float())\n",
    "\n",
    "            \n",
    "            val_epoch_loss += val_loss.item()\n",
    "            val_epoch_acc += val_acc.item()\n",
    "            \n",
    "            \n",
    "    loss_stats['train'].append(train_epoch_loss/len(train_loader))\n",
    "    loss_stats['val'].append(val_epoch_loss/len(val_loader))\n",
    "    accuracy_stats['train'].append(train_epoch_acc/len(train_loader))\n",
    "    accuracy_stats['val'].append(val_epoch_acc/len(val_loader))\n",
    "                              \n",
    "  \n",
    "    print('Epoch',e,'Train Loss:',(train_epoch_loss/len(train_loader)),\n",
    "          'Val Loss:',(val_epoch_loss/len(val_loader)),\n",
    "          'Train Acc:',(train_epoch_acc/len(train_loader)),\n",
    "          'Val Acc:',(val_epoch_acc/len(val_loader)))\n",
    "    \n",
    "    stopping = (train_epoch_acc/len(train_loader)) - (val_epoch_acc/len(val_loader))\n",
    "    \n",
    "    if stopping >= 0.20:\n",
    "        model.eval()\n",
    "        print('Stopping Point due to Overfitting')\n",
    "        break"
   ]
  },
  {
   "cell_type": "code",
   "execution_count": 95,
   "metadata": {
    "ExecuteTime": {
     "end_time": "2021-01-03T12:53:25.528704Z",
     "start_time": "2021-01-03T12:53:25.395062Z"
    }
   },
   "outputs": [],
   "source": [
    "model.eval()\n",
    "torch.save(model, 'shufflenet_model.pt')"
   ]
  },
  {
   "cell_type": "code",
   "execution_count": 96,
   "metadata": {
    "ExecuteTime": {
     "end_time": "2021-01-03T12:53:25.955822Z",
     "start_time": "2021-01-03T12:53:25.529702Z"
    }
   },
   "outputs": [
    {
     "data": {
      "image/png": "[encoded data removed]",
      "text/plain": [
       "<Figure size 1440x360 with 2 Axes>"
      ]
     },
     "metadata": {
      "needs_background": "light"
     },
     "output_type": "display_data"
    }
   ],
   "source": [
    "fig,ax = plt.subplots(1,2,figsize=(20,5))\n",
    "ax[0].plot(accuracy_stats['train'])\n",
    "ax[0].plot(accuracy_stats['val'])\n",
    "ax[0].set_title('Accuracy Plot',fontsize=20)\n",
    "ax[0].legend(['Train','Test'],fontsize=15)\n",
    "ax[0].set_xlabel('Epochs',fontsize=15)\n",
    "ax[1].plot(loss_stats['train'])\n",
    "ax[1].plot(loss_stats['val'])\n",
    "ax[1].set_title('Loss Plot',fontsize=20)\n",
    "ax[1].legend(['Train','Test'],fontsize=15)\n",
    "ax[1].set_xlabel('Epochs',fontsize=15)\n",
    "plt.suptitle('SHUFFLENET Training Results',fontsize=25,color='blue')\n",
    "plt.tight_layout()\n",
    "plt.savefig('shuffleplot.png')\n",
    "plt.show()"
   ]
  },
  {
   "cell_type": "markdown",
   "metadata": {},
   "source": [
    "# MOBILENET Training"
   ]
  },
  {
   "cell_type": "code",
   "execution_count": 97,
   "metadata": {
    "ExecuteTime": {
     "end_time": "2021-01-03T12:43:01.445384Z",
     "start_time": "2021-01-03T12:42:27.984163Z"
    }
   },
   "outputs": [
    {
     "name": "stdout",
     "output_type": "stream",
     "text": [
      "Trainset Shape:  (29664, 62720)\n",
      "Trainset Target Shape:  (29664,)\n",
      "Testset Shape:  (1854, 62720)\n",
      "Testset Target Shape:  (1854,)\n",
      "New Target Train shape:  (29664, 2)\n",
      "New Target Test shape:  (1854, 2)\n"
     ]
    }
   ],
   "source": [
    "X_train = np.load('mobilenet_features_train.npz')['arr_0']\n",
    "y_train = np.load('mobilenet_features_train.npz')['arr_1']\n",
    "X_test = np.load('mobilenet_features_test.npz')['arr_0']\n",
    "y_test = np.load('mobilenet_features_test.npz')['arr_1']\n",
    "\n",
    "print('Trainset Shape: ',X_train.shape)\n",
    "print('Trainset Target Shape: ',y_train.shape)\n",
    "print('Testset Shape: ',X_test.shape)\n",
    "print('Testset Target Shape: ',y_test.shape)\n",
    "\n",
    "y_train = to_categorical(np.reshape(y_train,(y_train.shape[0],1)))\n",
    "print('New Target Train shape: ',y_train.shape)\n",
    "\n",
    "y_test = to_categorical(np.reshape(y_test,(y_test.shape[0],1)))\n",
    "print('New Target Test shape: ',y_test.shape)"
   ]
  },
  {
   "cell_type": "code",
   "execution_count": 98,
   "metadata": {
    "ExecuteTime": {
     "end_time": "2021-01-03T12:43:01.938733Z",
     "start_time": "2021-01-03T12:43:01.469606Z"
    }
   },
   "outputs": [],
   "source": [
    "train_dataset = ClassifierDataset(torch.from_numpy(X_train).float(), torch.from_numpy(y_train).long())\n",
    "val_dataset = ClassifierDataset(torch.from_numpy(X_test).float(), torch.from_numpy(y_test).long())\n",
    "\n",
    "accuracy_stats = {'train': [],\"val\": []}\n",
    "loss_stats = {'train': [],\"val\": []}\n",
    "\n",
    "EPOCHS = 100\n",
    "\n",
    "BATCH_SIZE = 100\n",
    "\n",
    "train_loader = DataLoader(dataset=train_dataset,batch_size=BATCH_SIZE,shuffle=True)\n",
    "val_loader = DataLoader(dataset=val_dataset, batch_size=BATCH_SIZE,shuffle=True)"
   ]
  },
  {
   "cell_type": "code",
   "execution_count": 99,
   "metadata": {
    "ExecuteTime": {
     "end_time": "2021-01-03T12:43:02.190619Z",
     "start_time": "2021-01-03T12:43:01.941725Z"
    }
   },
   "outputs": [],
   "source": [
    "model = torch.nn.Sequential(\n",
    "        torch.nn.Linear(X_train.shape[1], 128),\n",
    "        torch.nn.Tanh(),\n",
    "        torch.nn.Dropout(0.8),\n",
    "        torch.nn.Linear(128, 2),\n",
    "        torch.nn.Sigmoid()\n",
    ")\n",
    "model.to(device)\n",
    "criterion = torch.nn.BCELoss()\n",
    "optimizer = torch.optim.Adam(model.parameters(), lr=0.0005)"
   ]
  },
  {
   "cell_type": "code",
   "execution_count": 100,
   "metadata": {
    "ExecuteTime": {
     "end_time": "2021-01-03T12:53:25.394065Z",
     "start_time": "2021-01-03T12:43:02.194291Z"
    }
   },
   "outputs": [
    {
     "name": "stdout",
     "output_type": "stream",
     "text": [
      "Begin training.\n",
      "Epoch 1 Train Loss: 0.7630394526603648 Val Loss: 0.6939756148739865 Train Acc: 0.5024137205387209 Val Acc: 0.48534113060428846\n",
      "Epoch 2 Train Loss: 0.7034082288292522 Val Loss: 0.6939951118670011 Train Acc: 0.49838804713804746 Val Acc: 0.4848927875243665\n",
      "Epoch 3 Train Loss: 0.6950925137057449 Val Loss: 0.6942446608292429 Train Acc: 0.504915824915825 Val Acc: 0.48309941520467836\n",
      "Epoch 4 Train Loss: 0.6951668449122497 Val Loss: 0.6934100954156173 Train Acc: 0.5006250000000001 Val Acc: 0.48130604288499024\n",
      "Epoch 5 Train Loss: 0.6947367685009734 Val Loss: 0.6928805018726149 Train Acc: 0.5009364478114479 Val Acc: 0.5115204678362574\n",
      "Epoch 6 Train Loss: 0.6944313906258606 Val Loss: 0.6928475059961018 Train Acc: 0.5053893097643101 Val Acc: 0.5128654970760235\n",
      "Epoch 7 Train Loss: 0.694728793720605 Val Loss: 0.6928400522784183 Train Acc: 0.5003009259259262 Val Acc: 0.5124171539961013\n",
      "Epoch 8 Train Loss: 0.6947365292796382 Val Loss: 0.6931975609377811 Train Acc: 0.5018665824915827 Val Acc: 0.5142105263157893\n",
      "Epoch 9 Train Loss: 0.6947246781904689 Val Loss: 0.693681560064617 Train Acc: 0.5031123737373735 Val Acc: 0.4866861598440546\n",
      "Epoch 10 Train Loss: 0.6942918988992068 Val Loss: 0.6929634119334974 Train Acc: 0.5061531986531982 Val Acc: 0.5151072124756335\n",
      "Epoch 11 Train Loss: 0.6948894709850402 Val Loss: 0.6928981573958146 Train Acc: 0.5008817340067335 Val Acc: 0.5128654970760235\n",
      "Epoch 12 Train Loss: 0.6946250904690136 Val Loss: 0.6929048048822504 Train Acc: 0.5033228114478114 Val Acc: 0.5119688109161793\n",
      "Epoch 13 Train Loss: 0.6942451479860428 Val Loss: 0.6941006622816387 Train Acc: 0.50822601010101 Val Acc: 0.48803118908382076\n",
      "Epoch 14 Train Loss: 0.695282276230629 Val Loss: 0.6930394737344039 Train Acc: 0.49715277777777794 Val Acc: 0.5124171539961014\n",
      "Epoch 15 Train Loss: 0.6945752080040749 Val Loss: 0.6930975819888868 Train Acc: 0.5055744949494949 Val Acc: 0.5173489278752438\n",
      "Epoch 16 Train Loss: 0.6946579101511123 Val Loss: 0.6932916264784964 Train Acc: 0.5064393939393937 Val Acc: 0.48578947368421066\n",
      "Epoch 17 Train Loss: 0.6948061254289415 Val Loss: 0.693901400817068 Train Acc: 0.5057702020202015 Val Acc: 0.48713450292397675\n",
      "Epoch 18 Train Loss: 0.6948918270743656 Val Loss: 0.6934296112311514 Train Acc: 0.4978051346801348 Val Acc: 0.4835477582846005\n",
      "Epoch 19 Train Loss: 0.6946296045675824 Val Loss: 0.6928591885064778 Train Acc: 0.501174242424242 Val Acc: 0.5124171539961013\n",
      "Epoch 20 Train Loss: 0.6947050923450226 Val Loss: 0.6930992666043734 Train Acc: 0.5018034511784512 Val Acc: 0.5137621832358675\n",
      "Epoch 21 Train Loss: 0.6948385844728361 Val Loss: 0.6936823066912199 Train Acc: 0.5023505892255893 Val Acc: 0.5115204678362574\n",
      "Epoch 22 Train Loss: 0.6946585290761106 Val Loss: 0.6930805319233945 Train Acc: 0.5036616161616164 Val Acc: 0.5146588693957116\n",
      "Epoch 23 Train Loss: 0.694602163151057 Val Loss: 0.6926905042246768 Train Acc: 0.5054166666666665 Val Acc: 0.5173489278752437\n",
      "Epoch 24 Train Loss: 0.6949108905262418 Val Loss: 0.6932175598646465 Train Acc: 0.5020538720538719 Val Acc: 0.4884795321637427\n",
      "Epoch 25 Train Loss: 0.6948444413817692 Val Loss: 0.6928286928879587 Train Acc: 0.504111952861953 Val Acc: 0.5137621832358675\n",
      "Epoch 26 Train Loss: 0.6946254240141975 Val Loss: 0.6931757142669276 Train Acc: 0.5071380471380474 Val Acc: 0.4875828460038986\n",
      "Epoch 27 Train Loss: 0.6946254127756112 Val Loss: 0.6937590429657384 Train Acc: 0.5009238215488218 Val Acc: 0.4866861598440545\n",
      "Epoch 28 Train Loss: 0.6946821258927034 Val Loss: 0.6936121363388864 Train Acc: 0.49998106060606046 Val Acc: 0.5128654970760235\n",
      "Epoch 29 Train Loss: 0.6949737676064976 Val Loss: 0.6928162794364127 Train Acc: 0.4992213804713807 Val Acc: 0.5128654970760235\n",
      "Epoch 30 Train Loss: 0.6947600492323288 Val Loss: 0.692719795201954 Train Acc: 0.5041393097643095 Val Acc: 0.5146588693957115\n",
      "Epoch 31 Train Loss: 0.6945777942837288 Val Loss: 0.6927693894034938 Train Acc: 0.5017361111111113 Val Acc: 0.5137621832358675\n",
      "Epoch 32 Train Loss: 0.6944594306977911 Val Loss: 0.6940467514489826 Train Acc: 0.5031523569023569 Val Acc: 0.48399610136452237\n",
      "Epoch 33 Train Loss: 0.6945992176380221 Val Loss: 0.69282361080772 Train Acc: 0.504223484848485 Val Acc: 0.5155555555555557\n",
      "Epoch 34 Train Loss: 0.6944537568172622 Val Loss: 0.6925909550566423 Train Acc: 0.50342803030303 Val Acc: 0.5169005847953215\n",
      "Epoch 35 Train Loss: 0.6950313105727687 Val Loss: 0.6937351509144432 Train Acc: 0.5004903198653198 Val Acc: 0.48623781676413264\n",
      "Epoch 36 Train Loss: 0.6946893296257816 Val Loss: 0.6933184077865199 Train Acc: 0.5056607744107746 Val Acc: 0.5155555555555555\n",
      "Epoch 37 Train Loss: 0.6948059995969137 Val Loss: 0.6934277760355096 Train Acc: 0.5036069023569023 Val Acc: 0.5133138401559456\n",
      "Epoch 38 Train Loss: 0.6948152367113415 Val Loss: 0.6934307845015275 Train Acc: 0.5028051346801351 Val Acc: 0.5200389863547759\n",
      "Epoch 39 Train Loss: 0.6944435929208492 Val Loss: 0.6929448152843275 Train Acc: 0.5040635521885525 Val Acc: 0.5124171539961013\n",
      "Epoch 40 Train Loss: 0.695059399813514 Val Loss: 0.6930436680191442 Train Acc: 0.5033333333333334 Val Acc: 0.5133138401559455\n",
      "Epoch 41 Train Loss: 0.6944013858082319 Val Loss: 0.693728434412103 Train Acc: 0.5060311447811446 Val Acc: 0.48444444444444446\n",
      "Epoch 42 Train Loss: 0.6954190281505135 Val Loss: 0.6929766535758972 Train Acc: 0.49578493265993273 Val Acc: 0.5133138401559454\n",
      "Epoch 43 Train Loss: 0.6945104799688063 Val Loss: 0.6928107173819291 Train Acc: 0.5039309764309758 Val Acc: 0.5151072124756335\n",
      "Epoch 44 Train Loss: 0.6946299991222343 Val Loss: 0.6938480954421195 Train Acc: 0.5015951178451178 Val Acc: 0.4862378167641327\n",
      "Epoch 45 Train Loss: 0.6949939751865888 Val Loss: 0.6928141587658933 Train Acc: 0.5018139730639734 Val Acc: 0.5151072124756335\n",
      "Epoch 46 Train Loss: 0.6952310615918452 Val Loss: 0.6926863695445814 Train Acc: 0.4969654882154882 Val Acc: 0.5164522417153997\n",
      "Epoch 47 Train Loss: 0.6948093862244578 Val Loss: 0.6926631802006772 Train Acc: 0.4995075757575753 Val Acc: 0.5155555555555555\n",
      "Epoch 48 Train Loss: 0.6947138594457196 Val Loss: 0.6931149551742956 Train Acc: 0.5019423400673406 Val Acc: 0.5133138401559455\n",
      "Epoch 49 Train Loss: 0.6946730465198607 Val Loss: 0.6926995609935961 Train Acc: 0.50138468013468 Val Acc: 0.5169005847953216\n",
      "Epoch 50 Train Loss: 0.6940542341081382 Val Loss: 0.6926946232193395 Train Acc: 0.5096506734006734 Val Acc: 0.5151072124756336\n",
      "Epoch 51 Train Loss: 0.6945770134026755 Val Loss: 0.6928365763865019 Train Acc: 0.5049831649831651 Val Acc: 0.5146588693957115\n",
      "Epoch 52 Train Loss: 0.6951431702283095 Val Loss: 0.6934494470295153 Train Acc: 0.5005660774410771 Val Acc: 0.5142105263157896\n",
      "Epoch 53 Train Loss: 0.6949910184349677 Val Loss: 0.6927781105041504 Train Acc: 0.49896464646464644 Val Acc: 0.5137621832358675\n",
      "Epoch 54 Train Loss: 0.6946953597293558 Val Loss: 0.6934305335346022 Train Acc: 0.5015803872053872 Val Acc: 0.5142105263157896\n",
      "Epoch 55 Train Loss: 0.694684543593564 Val Loss: 0.6929054699446026 Train Acc: 0.5008417508417509 Val Acc: 0.5124171539961013\n",
      "Epoch 56 Train Loss: 0.6948293684307574 Val Loss: 0.6935561330694902 Train Acc: 0.5044444444444445 Val Acc: 0.48623781676413264\n",
      "Epoch 57 Train Loss: 0.6949590992445898 Val Loss: 0.6940348022862485 Train Acc: 0.49952020202020225 Val Acc: 0.4848927875243665\n",
      "Epoch 58 Train Loss: 0.6948856928131797 Val Loss: 0.6931515900712264 Train Acc: 0.5013762626262626 Val Acc: 0.4835477582846004\n",
      "Epoch 59 Train Loss: 0.6946015685094326 Val Loss: 0.6938808529000533 Train Acc: 0.5025841750841756 Val Acc: 0.5133138401559454\n",
      "Epoch 60 Train Loss: 0.6950342338093202 Val Loss: 0.6928187232268485 Train Acc: 0.4985332491582489 Val Acc: 0.5128654970760235\n",
      "Epoch 61 Train Loss: 0.6948891791831765 Val Loss: 0.6934344643040707 Train Acc: 0.5000946969696973 Val Acc: 0.48623781676413264\n",
      "Epoch 62 Train Loss: 0.6946216145348468 Val Loss: 0.6926658937805578 Train Acc: 0.5022685185185185 Val Acc: 0.5155555555555555\n",
      "Epoch 63 Train Loss: 0.6944953480152168 Val Loss: 0.6933088867287887 Train Acc: 0.5040614478114475 Val Acc: 0.5142105263157896\n",
      "Epoch 64 Train Loss: 0.6944453718284966 Val Loss: 0.692776736460234 Train Acc: 0.5051641414141413 Val Acc: 0.5142105263157895\n",
      "Epoch 65 Train Loss: 0.6948861180732547 Val Loss: 0.6928272153201857 Train Acc: 0.500574494949495 Val Acc: 0.5137621832358674\n"
     ]
    },
    {
     "name": "stdout",
     "output_type": "stream",
     "text": [
      "Epoch 66 Train Loss: 0.6945145047874964 Val Loss: 0.6931282470100805 Train Acc: 0.5015130471380471 Val Acc: 0.5110721247563352\n",
      "Epoch 67 Train Loss: 0.6947149837057197 Val Loss: 0.6933140974295767 Train Acc: 0.5041792929292925 Val Acc: 0.5124171539961013\n",
      "Epoch 68 Train Loss: 0.6945449252321263 Val Loss: 0.6925859796373468 Train Acc: 0.5043939393939393 Val Acc: 0.5169005847953216\n",
      "Epoch 69 Train Loss: 0.6948128328580246 Val Loss: 0.6929466128349304 Train Acc: 0.5034280303030305 Val Acc: 0.5155555555555557\n",
      "Epoch 70 Train Loss: 0.6948744028505652 Val Loss: 0.6947839071876124 Train Acc: 0.5058459595959597 Val Acc: 0.4853411306042884\n",
      "Epoch 71 Train Loss: 0.6948928249002707 Val Loss: 0.6927298966207003 Train Acc: 0.505105218855219 Val Acc: 0.5155555555555557\n",
      "Epoch 72 Train Loss: 0.6944251766911259 Val Loss: 0.6929105332023219 Train Acc: 0.5090277777777781 Val Acc: 0.5137621832358674\n",
      "Epoch 73 Train Loss: 0.6950205963870091 Val Loss: 0.692718926228975 Train Acc: 0.5010248316498319 Val Acc: 0.5151072124756335\n",
      "Epoch 74 Train Loss: 0.694634239280264 Val Loss: 0.6930010601093894 Train Acc: 0.5011658249158248 Val Acc: 0.5169005847953216\n",
      "Epoch 75 Train Loss: 0.6951815134748466 Val Loss: 0.6939235392369723 Train Acc: 0.4971906565656567 Val Acc: 0.48668615984405467\n",
      "Epoch 76 Train Loss: 0.6949140467627682 Val Loss: 0.6928643866589195 Train Acc: 0.4985816498316497 Val Acc: 0.5137621832358673\n",
      "Epoch 77 Train Loss: 0.6949015735375761 Val Loss: 0.692629243198194 Train Acc: 0.4984911616161615 Val Acc: 0.5164522417153997\n",
      "Epoch 78 Train Loss: 0.6941803236200352 Val Loss: 0.6926978920635424 Train Acc: 0.5077672558922559 Val Acc: 0.5155555555555555\n",
      "Epoch 79 Train Loss: 0.6948009309945283 Val Loss: 0.6926106214523315 Train Acc: 0.49739688552188543 Val Acc: 0.5164522417153995\n",
      "Epoch 80 Train Loss: 0.6944986005824825 Val Loss: 0.6927939402429681 Train Acc: 0.501489898989899 Val Acc: 0.5133138401559455\n",
      "Epoch 81 Train Loss: 0.6946521136495802 Val Loss: 0.6929339986098441 Train Acc: 0.5035353535353535 Val Acc: 0.5128654970760234\n",
      "Epoch 82 Train Loss: 0.6945273771831885 Val Loss: 0.6946233197262413 Train Acc: 0.5039057239057241 Val Acc: 0.4880311890838206\n",
      "Epoch 83 Train Loss: 0.6950364056661072 Val Loss: 0.693067591441305 Train Acc: 0.49986531986532007 Val Acc: 0.5151072124756335\n",
      "Epoch 84 Train Loss: 0.6947373348454433 Val Loss: 0.6929059373705011 Train Acc: 0.5025526094276089 Val Acc: 0.5115204678362573\n",
      "Epoch 85 Train Loss: 0.6950061646374789 Val Loss: 0.692843634831278 Train Acc: 0.5017697811447808 Val Acc: 0.5124171539961013\n",
      "Epoch 86 Train Loss: 0.6947318624567103 Val Loss: 0.6935206369349831 Train Acc: 0.5041624579124575 Val Acc: 0.4862378167641327\n",
      "Epoch 87 Train Loss: 0.6948830563612659 Val Loss: 0.6933858927927519 Train Acc: 0.5031460437710435 Val Acc: 0.48623781676413264\n",
      "Epoch 88 Train Loss: 0.6951720640314147 Val Loss: 0.693422982567235 Train Acc: 0.4970896464646462 Val Acc: 0.5110721247563352\n",
      "Epoch 89 Train Loss: 0.6945386328279771 Val Loss: 0.6933692348630804 Train Acc: 0.5026409932659934 Val Acc: 0.4853411306042886\n",
      "Epoch 90 Train Loss: 0.6948788125908335 Val Loss: 0.6928169664583708 Train Acc: 0.5013720538720542 Val Acc: 0.5128654970760236\n",
      "Epoch 91 Train Loss: 0.6946279803911845 Val Loss: 0.6931357226873699 Train Acc: 0.5033101851851853 Val Acc: 0.5160038986354776\n",
      "Epoch 92 Train Loss: 0.6948994556661406 Val Loss: 0.6926631896119368 Train Acc: 0.5010732323232324 Val Acc: 0.5155555555555554\n",
      "Epoch 93 Train Loss: 0.6947685142960212 Val Loss: 0.6936055484570955 Train Acc: 0.5039898989898991 Val Acc: 0.4871345029239766\n",
      "Epoch 94 Train Loss: 0.6952249417802702 Val Loss: 0.6927394114042583 Train Acc: 0.49680976430976426 Val Acc: 0.5151072124756334\n",
      "Epoch 95 Train Loss: 0.6944382730557862 Val Loss: 0.6955281966610959 Train Acc: 0.5033333333333333 Val Acc: 0.4848927875243666\n",
      "Epoch 96 Train Loss: 0.6948752995291945 Val Loss: 0.6927268097275182 Train Acc: 0.50214436026936 Val Acc: 0.5160038986354776\n",
      "Epoch 97 Train Loss: 0.6946346055377614 Val Loss: 0.692815435560126 Train Acc: 0.5015677609427608 Val Acc: 0.5137621832358674\n",
      "Epoch 98 Train Loss: 0.6947467895067903 Val Loss: 0.6928034016960546 Train Acc: 0.49896254208754215 Val Acc: 0.5133138401559454\n",
      "Epoch 99 Train Loss: 0.6946738249926455 Val Loss: 0.6929392469556708 Train Acc: 0.5051578282828282 Val Acc: 0.5137621832358673\n",
      "Epoch 100 Train Loss: 0.6946120410655885 Val Loss: 0.6927555172066939 Train Acc: 0.503718434343434 Val Acc: 0.5160038986354776\n"
     ]
    }
   ],
   "source": [
    "print(\"Begin training.\")\n",
    "for e in (range(1, EPOCHS+1)):\n",
    "    \n",
    "    # TRAINING\n",
    "    train_epoch_loss = 0 # for loss tracking\n",
    "    train_epoch_acc = 0 #for acc traking\n",
    "    model.train()\n",
    "    \n",
    "    for X_train_batch, y_train_batch in train_loader:\n",
    "        X_train_batch, y_train_batch = X_train_batch.to(device), y_train_batch.to(device)\n",
    "        \n",
    "        optimizer.zero_grad()\n",
    "        \n",
    "        y_train_pred = model(X_train_batch)\n",
    "        \n",
    "        train_loss = criterion(y_train_pred, y_train_batch.float())\n",
    "        train_acc = multi_acc(y_train_pred, y_train_batch.float())\n",
    "        \n",
    "        train_loss.backward()\n",
    "        optimizer.step()\n",
    "        \n",
    "        train_epoch_loss += train_loss.item()\n",
    "        train_epoch_acc += train_acc.item()\n",
    "        \n",
    "    # VALIDATION    \n",
    "    with torch.no_grad():\n",
    "        \n",
    "        val_epoch_loss = 0\n",
    "        val_epoch_acc = 0\n",
    "        \n",
    "        model.eval()\n",
    "        for X_val_batch, y_val_batch in val_loader:\n",
    "            X_val_batch, y_val_batch = X_val_batch.to(device), y_val_batch.to(device)\n",
    "            \n",
    "            y_val_pred = model(X_val_batch)\n",
    "                        \n",
    "            val_loss = criterion(y_val_pred,y_val_batch.float())\n",
    "            val_acc = multi_acc(y_val_pred, y_val_batch.float())\n",
    "\n",
    "            \n",
    "            val_epoch_loss += val_loss.item()\n",
    "            val_epoch_acc += val_acc.item()\n",
    "            \n",
    "            \n",
    "    loss_stats['train'].append(train_epoch_loss/len(train_loader))\n",
    "    loss_stats['val'].append(val_epoch_loss/len(val_loader))\n",
    "    accuracy_stats['train'].append(train_epoch_acc/len(train_loader))\n",
    "    accuracy_stats['val'].append(val_epoch_acc/len(val_loader))\n",
    "                              \n",
    "  \n",
    "    print('Epoch',e,'Train Loss:',(train_epoch_loss/len(train_loader)),\n",
    "          'Val Loss:',(val_epoch_loss/len(val_loader)),\n",
    "          'Train Acc:',(train_epoch_acc/len(train_loader)),\n",
    "          'Val Acc:',(val_epoch_acc/len(val_loader)))\n",
    "    \n",
    "    stopping = (train_epoch_acc/len(train_loader)) - (val_epoch_acc/len(val_loader))\n",
    "    \n",
    "    if stopping >= 0.20:\n",
    "        model.eval()\n",
    "        print('Stopping Point due to Overfitting')\n",
    "        break"
   ]
  },
  {
   "cell_type": "code",
   "execution_count": 101,
   "metadata": {
    "ExecuteTime": {
     "end_time": "2021-01-03T12:53:25.528704Z",
     "start_time": "2021-01-03T12:53:25.395062Z"
    }
   },
   "outputs": [],
   "source": [
    "model.eval()\n",
    "torch.save(model, 'mobilenet_model.pt')"
   ]
  },
  {
   "cell_type": "code",
   "execution_count": 102,
   "metadata": {
    "ExecuteTime": {
     "end_time": "2021-01-03T12:53:25.955822Z",
     "start_time": "2021-01-03T12:53:25.529702Z"
    }
   },
   "outputs": [
    {
     "data": {
      "image/png": "[encoded data removed]",
      "text/plain": [
       "<Figure size 1440x360 with 2 Axes>"
      ]
     },
     "metadata": {
      "needs_background": "light"
     },
     "output_type": "display_data"
    }
   ],
   "source": [
    "fig,ax = plt.subplots(1,2,figsize=(20,5))\n",
    "ax[0].plot(accuracy_stats['train'])\n",
    "ax[0].plot(accuracy_stats['val'])\n",
    "ax[0].set_title('Accuracy Plot',fontsize=20)\n",
    "ax[0].legend(['Train','Test'],fontsize=15)\n",
    "ax[0].set_xlabel('Epochs',fontsize=15)\n",
    "ax[1].plot(loss_stats['train'])\n",
    "ax[1].plot(loss_stats['val'])\n",
    "ax[1].set_title('Loss Plot',fontsize=20)\n",
    "ax[1].legend(['Train','Test'],fontsize=15)\n",
    "ax[1].set_xlabel('Epochs',fontsize=15)\n",
    "plt.suptitle('MOBILENET Training Results',fontsize=25,color='blue')\n",
    "plt.tight_layout()\n",
    "plt.savefig('mobileplot.png')\n",
    "plt.show()"
   ]
  },
  {
   "cell_type": "code",
   "execution_count": null,
   "metadata": {},
   "outputs": [],
   "source": []
  }
 ],
 "metadata": {
  "kernelspec": {
   "display_name": "Python 3",
   "language": "python",
   "name": "python3"
  },
  "language_info": {
   "codemirror_mode": {
    "name": "ipython",
    "version": 3
   },
   "file_extension": ".py",
   "mimetype": "text/x-python",
   "name": "python",
   "nbconvert_exporter": "python",
   "pygments_lexer": "ipython3",
   "version": "3.7.9"
  }
 },
 "nbformat": 4,
 "nbformat_minor": 4
}
