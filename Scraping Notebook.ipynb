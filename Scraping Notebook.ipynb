{
 "cells": [
  {
   "cell_type": "markdown",
   "metadata": {
    "ExecuteTime": {
     "end_time": "2020-12-30T03:28:08.773104Z",
     "start_time": "2020-12-30T03:28:08.513782Z"
    }
   },
   "source": [
    "# Scraping, Cleaning and Optimization Codes"
   ]
  },
  {
   "cell_type": "markdown",
   "metadata": {},
   "source": [
    "Libraries Used"
   ]
  },
  {
   "cell_type": "code",
   "execution_count": 1,
   "metadata": {
    "ExecuteTime": {
     "end_time": "2021-01-01T10:19:48.020170Z",
     "start_time": "2021-01-01T10:19:47.372669Z"
    }
   },
   "outputs": [],
   "source": [
    "import pandas as pd\n",
    "from tqdm import tqdm\n",
    "import urllib\n",
    "import os\n",
    "import time\n",
    "from tqdm import tqdm\n",
    "import requests\n",
    "import json"
   ]
  },
  {
   "cell_type": "markdown",
   "metadata": {},
   "source": [
    "**Loading Lamudi csv file from ML1 Project**"
   ]
  },
  {
   "cell_type": "code",
   "execution_count": 11,
   "metadata": {
    "ExecuteTime": {
     "end_time": "2021-01-01T10:37:54.746833Z",
     "start_time": "2021-01-01T10:37:54.722034Z"
    }
   },
   "outputs": [
    {
     "data": {
      "text/html": [
       "<div>\n",
       "<style scoped>\n",
       "    .dataframe tbody tr th:only-of-type {\n",
       "        vertical-align: middle;\n",
       "    }\n",
       "\n",
       "    .dataframe tbody tr th {\n",
       "        vertical-align: top;\n",
       "    }\n",
       "\n",
       "    .dataframe thead th {\n",
       "        text-align: right;\n",
       "    }\n",
       "</style>\n",
       "<table border=\"1\" class=\"dataframe\">\n",
       "  <thead>\n",
       "    <tr style=\"text-align: right;\">\n",
       "      <th></th>\n",
       "      <th>City</th>\n",
       "      <th>Amount</th>\n",
       "      <th>No_of_Bedroom</th>\n",
       "      <th>No_of_Baths</th>\n",
       "      <th>Floor_Area</th>\n",
       "      <th>Latitude</th>\n",
       "      <th>L0ngitude</th>\n",
       "      <th>countnewAm</th>\n",
       "      <th>floor_number</th>\n",
       "    </tr>\n",
       "  </thead>\n",
       "  <tbody>\n",
       "    <tr>\n",
       "      <th>0</th>\n",
       "      <td>4</td>\n",
       "      <td>8500000.0</td>\n",
       "      <td>2.0</td>\n",
       "      <td>2.0</td>\n",
       "      <td>52.00</td>\n",
       "      <td>14.558112</td>\n",
       "      <td>120.993771</td>\n",
       "      <td>17</td>\n",
       "      <td>10.0</td>\n",
       "    </tr>\n",
       "    <tr>\n",
       "      <th>1</th>\n",
       "      <td>10</td>\n",
       "      <td>15700000.0</td>\n",
       "      <td>2.0</td>\n",
       "      <td>1.0</td>\n",
       "      <td>132.39</td>\n",
       "      <td>14.603980</td>\n",
       "      <td>121.045000</td>\n",
       "      <td>4</td>\n",
       "      <td>2.0</td>\n",
       "    </tr>\n",
       "    <tr>\n",
       "      <th>2</th>\n",
       "      <td>9</td>\n",
       "      <td>3300000.0</td>\n",
       "      <td>1.0</td>\n",
       "      <td>1.0</td>\n",
       "      <td>23.00</td>\n",
       "      <td>14.651189</td>\n",
       "      <td>121.032754</td>\n",
       "      <td>24</td>\n",
       "      <td>18.0</td>\n",
       "    </tr>\n",
       "    <tr>\n",
       "      <th>3</th>\n",
       "      <td>3</td>\n",
       "      <td>4500000.0</td>\n",
       "      <td>1.0</td>\n",
       "      <td>1.0</td>\n",
       "      <td>30.26</td>\n",
       "      <td>14.572573</td>\n",
       "      <td>121.048343</td>\n",
       "      <td>33</td>\n",
       "      <td>15.0</td>\n",
       "    </tr>\n",
       "    <tr>\n",
       "      <th>4</th>\n",
       "      <td>8</td>\n",
       "      <td>20645110.0</td>\n",
       "      <td>3.0</td>\n",
       "      <td>3.0</td>\n",
       "      <td>129.00</td>\n",
       "      <td>14.582640</td>\n",
       "      <td>121.078700</td>\n",
       "      <td>93</td>\n",
       "      <td>28.0</td>\n",
       "    </tr>\n",
       "  </tbody>\n",
       "</table>\n",
       "</div>"
      ],
      "text/plain": [
       "   City      Amount  No_of_Bedroom  No_of_Baths  Floor_Area   Latitude  \\\n",
       "0     4   8500000.0            2.0          2.0       52.00  14.558112   \n",
       "1    10  15700000.0            2.0          1.0      132.39  14.603980   \n",
       "2     9   3300000.0            1.0          1.0       23.00  14.651189   \n",
       "3     3   4500000.0            1.0          1.0       30.26  14.572573   \n",
       "4     8  20645110.0            3.0          3.0      129.00  14.582640   \n",
       "\n",
       "    L0ngitude  countnewAm  floor_number  \n",
       "0  120.993771          17          10.0  \n",
       "1  121.045000           4           2.0  \n",
       "2  121.032754          24          18.0  \n",
       "3  121.048343          33          15.0  \n",
       "4  121.078700          93          28.0  "
      ]
     },
     "execution_count": 11,
     "metadata": {},
     "output_type": "execute_result"
    }
   ],
   "source": [
    "df = pd.read_csv('lamudi_clean.csv')\n",
    "df.head()"
   ]
  },
  {
   "cell_type": "markdown",
   "metadata": {},
   "source": [
    "**Getting Only the Unique Latitude and Longitude from the CSV file**"
   ]
  },
  {
   "cell_type": "code",
   "execution_count": 12,
   "metadata": {
    "ExecuteTime": {
     "end_time": "2021-01-01T10:37:56.196991Z",
     "start_time": "2021-01-01T10:37:56.192004Z"
    }
   },
   "outputs": [],
   "source": [
    "df['Php/Area'] = df['Amount']/df['Floor_Area'] # adding a new columns to normalize the target which is Price/Area Value"
   ]
  },
  {
   "cell_type": "code",
   "execution_count": 13,
   "metadata": {
    "ExecuteTime": {
     "end_time": "2021-01-01T10:38:01.972379Z",
     "start_time": "2021-01-01T10:38:01.960142Z"
    }
   },
   "outputs": [
    {
     "data": {
      "text/html": [
       "<div>\n",
       "<style scoped>\n",
       "    .dataframe tbody tr th:only-of-type {\n",
       "        vertical-align: middle;\n",
       "    }\n",
       "\n",
       "    .dataframe tbody tr th {\n",
       "        vertical-align: top;\n",
       "    }\n",
       "\n",
       "    .dataframe thead th {\n",
       "        text-align: right;\n",
       "    }\n",
       "</style>\n",
       "<table border=\"1\" class=\"dataframe\">\n",
       "  <thead>\n",
       "    <tr style=\"text-align: right;\">\n",
       "      <th></th>\n",
       "      <th>Latitude</th>\n",
       "      <th>L0ngitude</th>\n",
       "    </tr>\n",
       "  </thead>\n",
       "  <tbody>\n",
       "    <tr>\n",
       "      <th>0</th>\n",
       "      <td>14.558112</td>\n",
       "      <td>120.993771</td>\n",
       "    </tr>\n",
       "    <tr>\n",
       "      <th>1</th>\n",
       "      <td>14.603980</td>\n",
       "      <td>121.045000</td>\n",
       "    </tr>\n",
       "    <tr>\n",
       "      <th>2</th>\n",
       "      <td>14.651189</td>\n",
       "      <td>121.032754</td>\n",
       "    </tr>\n",
       "    <tr>\n",
       "      <th>3</th>\n",
       "      <td>14.572573</td>\n",
       "      <td>121.048343</td>\n",
       "    </tr>\n",
       "    <tr>\n",
       "      <th>4</th>\n",
       "      <td>14.582640</td>\n",
       "      <td>121.078700</td>\n",
       "    </tr>\n",
       "    <tr>\n",
       "      <th>...</th>\n",
       "      <td>...</td>\n",
       "      <td>...</td>\n",
       "    </tr>\n",
       "    <tr>\n",
       "      <th>6477</th>\n",
       "      <td>14.557854</td>\n",
       "      <td>121.053456</td>\n",
       "    </tr>\n",
       "    <tr>\n",
       "      <th>6497</th>\n",
       "      <td>14.550520</td>\n",
       "      <td>121.047380</td>\n",
       "    </tr>\n",
       "    <tr>\n",
       "      <th>6498</th>\n",
       "      <td>14.660110</td>\n",
       "      <td>121.032210</td>\n",
       "    </tr>\n",
       "    <tr>\n",
       "      <th>6502</th>\n",
       "      <td>14.683517</td>\n",
       "      <td>121.097078</td>\n",
       "    </tr>\n",
       "    <tr>\n",
       "      <th>6516</th>\n",
       "      <td>14.468350</td>\n",
       "      <td>120.969780</td>\n",
       "    </tr>\n",
       "  </tbody>\n",
       "</table>\n",
       "<p>1244 rows × 2 columns</p>\n",
       "</div>"
      ],
      "text/plain": [
       "       Latitude   L0ngitude\n",
       "0     14.558112  120.993771\n",
       "1     14.603980  121.045000\n",
       "2     14.651189  121.032754\n",
       "3     14.572573  121.048343\n",
       "4     14.582640  121.078700\n",
       "...         ...         ...\n",
       "6477  14.557854  121.053456\n",
       "6497  14.550520  121.047380\n",
       "6498  14.660110  121.032210\n",
       "6502  14.683517  121.097078\n",
       "6516  14.468350  120.969780\n",
       "\n",
       "[1244 rows x 2 columns]"
      ]
     },
     "execution_count": 13,
     "metadata": {},
     "output_type": "execute_result"
    }
   ],
   "source": [
    "df2=df[['Latitude','L0ngitude']].drop_duplicates()\n",
    "df2"
   ]
  },
  {
   "cell_type": "markdown",
   "metadata": {},
   "source": [
    "### Scraping in Google Street API"
   ]
  },
  {
   "cell_type": "code",
   "execution_count": 49,
   "metadata": {
    "ExecuteTime": {
     "end_time": "2020-12-30T04:05:37.944358Z",
     "start_time": "2020-12-30T03:41:54.839723Z"
    }
   },
   "outputs": [
    {
     "name": "stderr",
     "output_type": "stream",
     "text": [
      "100%|██████████| 1620/1620 [23:43<00:00,  1.14it/s]\n"
     ]
    }
   ],
   "source": [
    "\n",
    "headings = ['0','20','40','60','80','100','120','140','160',\n",
    "            '180','200','220','240','260','280','300','320','340'] # headings are the angle of shot, we take a shot every 20 degrees\n",
    "\n",
    "\n",
    "url = 'https://maps.googleapis.com/maps/api/streetview?size=640x640&location='\n",
    "meta = 'https://maps.googleapis.com/maps/api/streetview/metadata?size=640x640&location='\n",
    "\n",
    "key = #input google api key should be string\n",
    "fov = '120' # this is the zoom in and zoom out option, 120 is the max zoom out \n",
    "source = 'outdoor' # an option to make sure the the image will be an outdoor shot\n",
    "count = 0\n",
    "pitch = '25' # this is the angle of elevation of the image/shot relative to the road\n",
    "list1 = []\n",
    "with tqdm(total=len(df2)*18) as pbar:\n",
    "\n",
    "    for x, y in df2.iterrows():\n",
    "\n",
    "        coordinates = str(y.tolist()[0])+','+str(y.tolist()[1])\n",
    "\n",
    "        for x1 in headings:\n",
    "\n",
    "            heading = x1\n",
    "\n",
    "            metaurl = meta + coordinates + '&source=' + source + \\\n",
    "                '&heading=' + heading + '&pitch='+ pitch + '&fov=' + fov + '&key=' + key \n",
    "\n",
    "            finalurl = url + coordinates + '&source=' + source + \\\n",
    "                '&heading=' + heading + '&pitch='+ pitch+ '&fov=' + fov + '&key=' + key\n",
    "\n",
    "            check = json.loads(requests.get(metaurl).text)['status']\n",
    "\n",
    "            if check != 'ZERO_RESULTS':\n",
    "\n",
    "                urllib.request.urlretrieve(finalurl, os.path.join(\n",
    "                    'images/', str(x)+'_'+str(x1)+'.jpg'))\n",
    "\n",
    "                list1.append(x)\n",
    "            else:\n",
    "                break\n",
    "        \n",
    "            pbar.update(1)\n",
    "        time.sleep(1)\n",
    "        "
   ]
  },
  {
   "cell_type": "markdown",
   "metadata": {},
   "source": [
    "**Saving the List of Images,Names and Php/Area in to a target CSV File**"
   ]
  },
  {
   "cell_type": "code",
   "execution_count": 27,
   "metadata": {
    "ExecuteTime": {
     "end_time": "2020-12-23T06:45:49.991953Z",
     "start_time": "2020-12-23T06:45:49.983946Z"
    }
   },
   "outputs": [],
   "source": [
    "list2 = list(set(list1))\n",
    "df3 = pd.DataFrame(columns=['Php/Area'])\n",
    "df3['Php/Area']=list2\n",
    "df3.to_csv('target.csv') ## will be used for the Main Notebook"
   ]
  },
  {
   "cell_type": "code",
   "execution_count": null,
   "metadata": {},
   "outputs": [],
   "source": []
  }
 ],
 "metadata": {
  "kernelspec": {
   "display_name": "Python 3",
   "language": "python",
   "name": "python3"
  },
  "language_info": {
   "codemirror_mode": {
    "name": "ipython",
    "version": 3
   },
   "file_extension": ".py",
   "mimetype": "text/x-python",
   "name": "python",
   "nbconvert_exporter": "python",
   "pygments_lexer": "ipython3",
   "version": "3.7.6"
  }
 },
 "nbformat": 4,
 "nbformat_minor": 4
}
